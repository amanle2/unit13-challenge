{
 "cells": [
  {
   "cell_type": "markdown",
   "metadata": {},
   "source": [
    "# Clustering Crypto"
   ]
  },
  {
   "cell_type": "code",
   "execution_count": 158,
   "metadata": {},
   "outputs": [],
   "source": [
    "# Initial imports\n",
    "import requests\n",
    "import pandas as pd\n",
    "from pathlib import Path\n",
    "import matplotlib.pyplot as plt\n",
    "import hvplot.pandas\n",
    "import plotly.express as px\n",
    "from sklearn.preprocessing import StandardScaler, MinMaxScaler\n",
    "from sklearn.decomposition import PCA\n",
    "from sklearn.cluster import KMeans"
   ]
  },
  {
   "cell_type": "markdown",
   "metadata": {},
   "source": [
    "### Fetching Cryptocurrency Data"
   ]
  },
  {
   "cell_type": "code",
   "execution_count": 159,
   "metadata": {},
   "outputs": [],
   "source": [
    "# Use the following endpoint to fetch json data\n",
    "url = \"https://min-api.cryptocompare.com/data/all/coinlist\""
   ]
  },
  {
   "cell_type": "code",
   "execution_count": 160,
   "metadata": {},
   "outputs": [],
   "source": [
    "# Create a DataFrame \n",
    "# HINT: You will need to use the 'Data' key from the json response, then transpose the DataFrame."
   ]
  },
  {
   "cell_type": "code",
   "execution_count": 161,
   "metadata": {},
   "outputs": [
    {
     "data": {
      "text/html": [
       "<div>\n",
       "<style scoped>\n",
       "    .dataframe tbody tr th:only-of-type {\n",
       "        vertical-align: middle;\n",
       "    }\n",
       "\n",
       "    .dataframe tbody tr th {\n",
       "        vertical-align: top;\n",
       "    }\n",
       "\n",
       "    .dataframe thead th {\n",
       "        text-align: right;\n",
       "    }\n",
       "</style>\n",
       "<table border=\"1\" class=\"dataframe\">\n",
       "  <thead>\n",
       "    <tr style=\"text-align: right;\">\n",
       "      <th></th>\n",
       "      <th>Unnamed: 0</th>\n",
       "      <th>CoinName</th>\n",
       "      <th>Algorithm</th>\n",
       "      <th>IsTrading</th>\n",
       "      <th>ProofType</th>\n",
       "      <th>TotalCoinsMined</th>\n",
       "      <th>TotalCoinSupply</th>\n",
       "    </tr>\n",
       "  </thead>\n",
       "  <tbody>\n",
       "    <tr>\n",
       "      <th>0</th>\n",
       "      <td>42</td>\n",
       "      <td>42 Coin</td>\n",
       "      <td>Scrypt</td>\n",
       "      <td>True</td>\n",
       "      <td>PoW/PoS</td>\n",
       "      <td>4.199995e+01</td>\n",
       "      <td>42</td>\n",
       "    </tr>\n",
       "    <tr>\n",
       "      <th>1</th>\n",
       "      <td>365</td>\n",
       "      <td>365Coin</td>\n",
       "      <td>X11</td>\n",
       "      <td>True</td>\n",
       "      <td>PoW/PoS</td>\n",
       "      <td>NaN</td>\n",
       "      <td>2300000000</td>\n",
       "    </tr>\n",
       "    <tr>\n",
       "      <th>2</th>\n",
       "      <td>404</td>\n",
       "      <td>404Coin</td>\n",
       "      <td>Scrypt</td>\n",
       "      <td>True</td>\n",
       "      <td>PoW/PoS</td>\n",
       "      <td>1.055185e+09</td>\n",
       "      <td>532000000</td>\n",
       "    </tr>\n",
       "    <tr>\n",
       "      <th>3</th>\n",
       "      <td>611</td>\n",
       "      <td>SixEleven</td>\n",
       "      <td>SHA-256</td>\n",
       "      <td>True</td>\n",
       "      <td>PoW</td>\n",
       "      <td>NaN</td>\n",
       "      <td>611000</td>\n",
       "    </tr>\n",
       "    <tr>\n",
       "      <th>4</th>\n",
       "      <td>808</td>\n",
       "      <td>808</td>\n",
       "      <td>SHA-256</td>\n",
       "      <td>True</td>\n",
       "      <td>PoW/PoS</td>\n",
       "      <td>0.000000e+00</td>\n",
       "      <td>0</td>\n",
       "    </tr>\n",
       "  </tbody>\n",
       "</table>\n",
       "</div>"
      ],
      "text/plain": [
       "  Unnamed: 0   CoinName Algorithm  IsTrading ProofType  TotalCoinsMined  \\\n",
       "0         42    42 Coin    Scrypt       True   PoW/PoS     4.199995e+01   \n",
       "1        365    365Coin       X11       True   PoW/PoS              NaN   \n",
       "2        404    404Coin    Scrypt       True   PoW/PoS     1.055185e+09   \n",
       "3        611  SixEleven   SHA-256       True       PoW              NaN   \n",
       "4        808        808   SHA-256       True   PoW/PoS     0.000000e+00   \n",
       "\n",
       "  TotalCoinSupply  \n",
       "0              42  \n",
       "1      2300000000  \n",
       "2       532000000  \n",
       "3          611000  \n",
       "4               0  "
      ]
     },
     "execution_count": 161,
     "metadata": {},
     "output_type": "execute_result"
    }
   ],
   "source": [
    "# Alternatively, use the provided csv file:\n",
    "file_path = Path(\"Resources/crypto_data.csv\")\n",
    "\n",
    "# Create a DataFrame\n",
    "crypto_df = pd.read_csv(file_path)\n",
    "crypto_df.head()"
   ]
  },
  {
   "cell_type": "markdown",
   "metadata": {},
   "source": [
    "### Data Preprocessing"
   ]
  },
  {
   "cell_type": "code",
   "execution_count": 162,
   "metadata": {},
   "outputs": [
    {
     "data": {
      "text/html": [
       "<div>\n",
       "<style scoped>\n",
       "    .dataframe tbody tr th:only-of-type {\n",
       "        vertical-align: middle;\n",
       "    }\n",
       "\n",
       "    .dataframe tbody tr th {\n",
       "        vertical-align: top;\n",
       "    }\n",
       "\n",
       "    .dataframe thead th {\n",
       "        text-align: right;\n",
       "    }\n",
       "</style>\n",
       "<table border=\"1\" class=\"dataframe\">\n",
       "  <thead>\n",
       "    <tr style=\"text-align: right;\">\n",
       "      <th></th>\n",
       "      <th>CoinName</th>\n",
       "      <th>Algorithm</th>\n",
       "      <th>IsTrading</th>\n",
       "      <th>ProofType</th>\n",
       "      <th>TotalCoinsMined</th>\n",
       "      <th>TotalCoinSupply</th>\n",
       "    </tr>\n",
       "  </thead>\n",
       "  <tbody>\n",
       "    <tr>\n",
       "      <th>0</th>\n",
       "      <td>42 Coin</td>\n",
       "      <td>Scrypt</td>\n",
       "      <td>True</td>\n",
       "      <td>PoW/PoS</td>\n",
       "      <td>4.199995e+01</td>\n",
       "      <td>42</td>\n",
       "    </tr>\n",
       "    <tr>\n",
       "      <th>1</th>\n",
       "      <td>365Coin</td>\n",
       "      <td>X11</td>\n",
       "      <td>True</td>\n",
       "      <td>PoW/PoS</td>\n",
       "      <td>NaN</td>\n",
       "      <td>2300000000</td>\n",
       "    </tr>\n",
       "    <tr>\n",
       "      <th>2</th>\n",
       "      <td>404Coin</td>\n",
       "      <td>Scrypt</td>\n",
       "      <td>True</td>\n",
       "      <td>PoW/PoS</td>\n",
       "      <td>1.055185e+09</td>\n",
       "      <td>532000000</td>\n",
       "    </tr>\n",
       "    <tr>\n",
       "      <th>3</th>\n",
       "      <td>SixEleven</td>\n",
       "      <td>SHA-256</td>\n",
       "      <td>True</td>\n",
       "      <td>PoW</td>\n",
       "      <td>NaN</td>\n",
       "      <td>611000</td>\n",
       "    </tr>\n",
       "    <tr>\n",
       "      <th>4</th>\n",
       "      <td>808</td>\n",
       "      <td>SHA-256</td>\n",
       "      <td>True</td>\n",
       "      <td>PoW/PoS</td>\n",
       "      <td>0.000000e+00</td>\n",
       "      <td>0</td>\n",
       "    </tr>\n",
       "  </tbody>\n",
       "</table>\n",
       "</div>"
      ],
      "text/plain": [
       "    CoinName Algorithm  IsTrading ProofType  TotalCoinsMined TotalCoinSupply\n",
       "0    42 Coin    Scrypt       True   PoW/PoS     4.199995e+01              42\n",
       "1    365Coin       X11       True   PoW/PoS              NaN      2300000000\n",
       "2    404Coin    Scrypt       True   PoW/PoS     1.055185e+09       532000000\n",
       "3  SixEleven   SHA-256       True       PoW              NaN          611000\n",
       "4        808   SHA-256       True   PoW/PoS     0.000000e+00               0"
      ]
     },
     "execution_count": 162,
     "metadata": {},
     "output_type": "execute_result"
    }
   ],
   "source": [
    "# Keep only necessary columns:\n",
    "# 'CoinName','Algorithm','IsTrading','ProofType','TotalCoinsMined','TotalCoinSupply'\n",
    "crypto_df = crypto_df.drop(columns=['Unnamed: 0'])\n",
    "crypto_df.head()"
   ]
  },
  {
   "cell_type": "code",
   "execution_count": 163,
   "metadata": {},
   "outputs": [
    {
     "data": {
      "text/html": [
       "<div>\n",
       "<style scoped>\n",
       "    .dataframe tbody tr th:only-of-type {\n",
       "        vertical-align: middle;\n",
       "    }\n",
       "\n",
       "    .dataframe tbody tr th {\n",
       "        vertical-align: top;\n",
       "    }\n",
       "\n",
       "    .dataframe thead th {\n",
       "        text-align: right;\n",
       "    }\n",
       "</style>\n",
       "<table border=\"1\" class=\"dataframe\">\n",
       "  <thead>\n",
       "    <tr style=\"text-align: right;\">\n",
       "      <th></th>\n",
       "      <th>CoinName</th>\n",
       "      <th>Algorithm</th>\n",
       "      <th>IsTrading</th>\n",
       "      <th>ProofType</th>\n",
       "      <th>TotalCoinsMined</th>\n",
       "      <th>TotalCoinSupply</th>\n",
       "    </tr>\n",
       "  </thead>\n",
       "  <tbody>\n",
       "    <tr>\n",
       "      <th>0</th>\n",
       "      <td>42 Coin</td>\n",
       "      <td>Scrypt</td>\n",
       "      <td>True</td>\n",
       "      <td>PoW/PoS</td>\n",
       "      <td>4.199995e+01</td>\n",
       "      <td>42</td>\n",
       "    </tr>\n",
       "    <tr>\n",
       "      <th>1</th>\n",
       "      <td>365Coin</td>\n",
       "      <td>X11</td>\n",
       "      <td>True</td>\n",
       "      <td>PoW/PoS</td>\n",
       "      <td>NaN</td>\n",
       "      <td>2300000000</td>\n",
       "    </tr>\n",
       "    <tr>\n",
       "      <th>2</th>\n",
       "      <td>404Coin</td>\n",
       "      <td>Scrypt</td>\n",
       "      <td>True</td>\n",
       "      <td>PoW/PoS</td>\n",
       "      <td>1.055185e+09</td>\n",
       "      <td>532000000</td>\n",
       "    </tr>\n",
       "    <tr>\n",
       "      <th>3</th>\n",
       "      <td>SixEleven</td>\n",
       "      <td>SHA-256</td>\n",
       "      <td>True</td>\n",
       "      <td>PoW</td>\n",
       "      <td>NaN</td>\n",
       "      <td>611000</td>\n",
       "    </tr>\n",
       "    <tr>\n",
       "      <th>4</th>\n",
       "      <td>808</td>\n",
       "      <td>SHA-256</td>\n",
       "      <td>True</td>\n",
       "      <td>PoW/PoS</td>\n",
       "      <td>0.000000e+00</td>\n",
       "      <td>0</td>\n",
       "    </tr>\n",
       "  </tbody>\n",
       "</table>\n",
       "</div>"
      ],
      "text/plain": [
       "    CoinName Algorithm  IsTrading ProofType  TotalCoinsMined TotalCoinSupply\n",
       "0    42 Coin    Scrypt       True   PoW/PoS     4.199995e+01              42\n",
       "1    365Coin       X11       True   PoW/PoS              NaN      2300000000\n",
       "2    404Coin    Scrypt       True   PoW/PoS     1.055185e+09       532000000\n",
       "3  SixEleven   SHA-256       True       PoW              NaN          611000\n",
       "4        808   SHA-256       True   PoW/PoS     0.000000e+00               0"
      ]
     },
     "execution_count": 163,
     "metadata": {},
     "output_type": "execute_result"
    }
   ],
   "source": [
    "# Keep only cryptocurrencies that are trading\n",
    "crypto_df = crypto_df[crypto_df.IsTrading]\n",
    "crypto_df.head()"
   ]
  },
  {
   "cell_type": "code",
   "execution_count": 164,
   "metadata": {},
   "outputs": [],
   "source": [
    "# Keep only cryptocurrencies with a working algorithm\n"
   ]
  },
  {
   "cell_type": "code",
   "execution_count": 165,
   "metadata": {},
   "outputs": [
    {
     "data": {
      "text/html": [
       "<div>\n",
       "<style scoped>\n",
       "    .dataframe tbody tr th:only-of-type {\n",
       "        vertical-align: middle;\n",
       "    }\n",
       "\n",
       "    .dataframe tbody tr th {\n",
       "        vertical-align: top;\n",
       "    }\n",
       "\n",
       "    .dataframe thead th {\n",
       "        text-align: right;\n",
       "    }\n",
       "</style>\n",
       "<table border=\"1\" class=\"dataframe\">\n",
       "  <thead>\n",
       "    <tr style=\"text-align: right;\">\n",
       "      <th></th>\n",
       "      <th>CoinName</th>\n",
       "      <th>Algorithm</th>\n",
       "      <th>ProofType</th>\n",
       "      <th>TotalCoinsMined</th>\n",
       "      <th>TotalCoinSupply</th>\n",
       "    </tr>\n",
       "  </thead>\n",
       "  <tbody>\n",
       "    <tr>\n",
       "      <th>0</th>\n",
       "      <td>42 Coin</td>\n",
       "      <td>Scrypt</td>\n",
       "      <td>PoW/PoS</td>\n",
       "      <td>4.199995e+01</td>\n",
       "      <td>42</td>\n",
       "    </tr>\n",
       "    <tr>\n",
       "      <th>1</th>\n",
       "      <td>365Coin</td>\n",
       "      <td>X11</td>\n",
       "      <td>PoW/PoS</td>\n",
       "      <td>NaN</td>\n",
       "      <td>2300000000</td>\n",
       "    </tr>\n",
       "    <tr>\n",
       "      <th>2</th>\n",
       "      <td>404Coin</td>\n",
       "      <td>Scrypt</td>\n",
       "      <td>PoW/PoS</td>\n",
       "      <td>1.055185e+09</td>\n",
       "      <td>532000000</td>\n",
       "    </tr>\n",
       "    <tr>\n",
       "      <th>3</th>\n",
       "      <td>SixEleven</td>\n",
       "      <td>SHA-256</td>\n",
       "      <td>PoW</td>\n",
       "      <td>NaN</td>\n",
       "      <td>611000</td>\n",
       "    </tr>\n",
       "    <tr>\n",
       "      <th>4</th>\n",
       "      <td>808</td>\n",
       "      <td>SHA-256</td>\n",
       "      <td>PoW/PoS</td>\n",
       "      <td>0.000000e+00</td>\n",
       "      <td>0</td>\n",
       "    </tr>\n",
       "  </tbody>\n",
       "</table>\n",
       "</div>"
      ],
      "text/plain": [
       "    CoinName Algorithm ProofType  TotalCoinsMined TotalCoinSupply\n",
       "0    42 Coin    Scrypt   PoW/PoS     4.199995e+01              42\n",
       "1    365Coin       X11   PoW/PoS              NaN      2300000000\n",
       "2    404Coin    Scrypt   PoW/PoS     1.055185e+09       532000000\n",
       "3  SixEleven   SHA-256       PoW              NaN          611000\n",
       "4        808   SHA-256   PoW/PoS     0.000000e+00               0"
      ]
     },
     "execution_count": 165,
     "metadata": {},
     "output_type": "execute_result"
    }
   ],
   "source": [
    "# Remove the \"IsTrading\" column\n",
    "crypto_df = crypto_df.drop(columns=['IsTrading'])\n",
    "crypto_df.head()"
   ]
  },
  {
   "cell_type": "code",
   "execution_count": 166,
   "metadata": {},
   "outputs": [
    {
     "data": {
      "text/html": [
       "<div>\n",
       "<style scoped>\n",
       "    .dataframe tbody tr th:only-of-type {\n",
       "        vertical-align: middle;\n",
       "    }\n",
       "\n",
       "    .dataframe tbody tr th {\n",
       "        vertical-align: top;\n",
       "    }\n",
       "\n",
       "    .dataframe thead th {\n",
       "        text-align: right;\n",
       "    }\n",
       "</style>\n",
       "<table border=\"1\" class=\"dataframe\">\n",
       "  <thead>\n",
       "    <tr style=\"text-align: right;\">\n",
       "      <th></th>\n",
       "      <th>CoinName</th>\n",
       "      <th>Algorithm</th>\n",
       "      <th>ProofType</th>\n",
       "      <th>TotalCoinsMined</th>\n",
       "      <th>TotalCoinSupply</th>\n",
       "    </tr>\n",
       "  </thead>\n",
       "  <tbody>\n",
       "    <tr>\n",
       "      <th>0</th>\n",
       "      <td>42 Coin</td>\n",
       "      <td>Scrypt</td>\n",
       "      <td>PoW/PoS</td>\n",
       "      <td>4.199995e+01</td>\n",
       "      <td>42</td>\n",
       "    </tr>\n",
       "    <tr>\n",
       "      <th>2</th>\n",
       "      <td>404Coin</td>\n",
       "      <td>Scrypt</td>\n",
       "      <td>PoW/PoS</td>\n",
       "      <td>1.055185e+09</td>\n",
       "      <td>532000000</td>\n",
       "    </tr>\n",
       "    <tr>\n",
       "      <th>4</th>\n",
       "      <td>808</td>\n",
       "      <td>SHA-256</td>\n",
       "      <td>PoW/PoS</td>\n",
       "      <td>0.000000e+00</td>\n",
       "      <td>0</td>\n",
       "    </tr>\n",
       "    <tr>\n",
       "      <th>5</th>\n",
       "      <td>EliteCoin</td>\n",
       "      <td>X13</td>\n",
       "      <td>PoW/PoS</td>\n",
       "      <td>2.927942e+10</td>\n",
       "      <td>314159265359</td>\n",
       "    </tr>\n",
       "    <tr>\n",
       "      <th>7</th>\n",
       "      <td>Bitcoin</td>\n",
       "      <td>SHA-256</td>\n",
       "      <td>PoW</td>\n",
       "      <td>1.792718e+07</td>\n",
       "      <td>21000000</td>\n",
       "    </tr>\n",
       "  </tbody>\n",
       "</table>\n",
       "</div>"
      ],
      "text/plain": [
       "    CoinName Algorithm ProofType  TotalCoinsMined TotalCoinSupply\n",
       "0    42 Coin    Scrypt   PoW/PoS     4.199995e+01              42\n",
       "2    404Coin    Scrypt   PoW/PoS     1.055185e+09       532000000\n",
       "4        808   SHA-256   PoW/PoS     0.000000e+00               0\n",
       "5  EliteCoin       X13   PoW/PoS     2.927942e+10    314159265359\n",
       "7    Bitcoin   SHA-256       PoW     1.792718e+07        21000000"
      ]
     },
     "execution_count": 166,
     "metadata": {},
     "output_type": "execute_result"
    }
   ],
   "source": [
    "# Remove rows with at least 1 null value\n",
    "crypto_df = crypto_df.dropna(axis=0)\n",
    "crypto_df.head()"
   ]
  },
  {
   "cell_type": "code",
   "execution_count": 167,
   "metadata": {},
   "outputs": [
    {
     "data": {
      "text/html": [
       "<div>\n",
       "<style scoped>\n",
       "    .dataframe tbody tr th:only-of-type {\n",
       "        vertical-align: middle;\n",
       "    }\n",
       "\n",
       "    .dataframe tbody tr th {\n",
       "        vertical-align: top;\n",
       "    }\n",
       "\n",
       "    .dataframe thead th {\n",
       "        text-align: right;\n",
       "    }\n",
       "</style>\n",
       "<table border=\"1\" class=\"dataframe\">\n",
       "  <thead>\n",
       "    <tr style=\"text-align: right;\">\n",
       "      <th></th>\n",
       "      <th>CoinName</th>\n",
       "      <th>Algorithm</th>\n",
       "      <th>ProofType</th>\n",
       "      <th>TotalCoinsMined</th>\n",
       "      <th>TotalCoinSupply</th>\n",
       "    </tr>\n",
       "  </thead>\n",
       "  <tbody>\n",
       "    <tr>\n",
       "      <th>0</th>\n",
       "      <td>42 Coin</td>\n",
       "      <td>Scrypt</td>\n",
       "      <td>PoW/PoS</td>\n",
       "      <td>4.199995e+01</td>\n",
       "      <td>42</td>\n",
       "    </tr>\n",
       "    <tr>\n",
       "      <th>2</th>\n",
       "      <td>404Coin</td>\n",
       "      <td>Scrypt</td>\n",
       "      <td>PoW/PoS</td>\n",
       "      <td>1.055185e+09</td>\n",
       "      <td>532000000</td>\n",
       "    </tr>\n",
       "    <tr>\n",
       "      <th>5</th>\n",
       "      <td>EliteCoin</td>\n",
       "      <td>X13</td>\n",
       "      <td>PoW/PoS</td>\n",
       "      <td>2.927942e+10</td>\n",
       "      <td>314159265359</td>\n",
       "    </tr>\n",
       "    <tr>\n",
       "      <th>7</th>\n",
       "      <td>Bitcoin</td>\n",
       "      <td>SHA-256</td>\n",
       "      <td>PoW</td>\n",
       "      <td>1.792718e+07</td>\n",
       "      <td>21000000</td>\n",
       "    </tr>\n",
       "    <tr>\n",
       "      <th>8</th>\n",
       "      <td>Ethereum</td>\n",
       "      <td>Ethash</td>\n",
       "      <td>PoW</td>\n",
       "      <td>1.076842e+08</td>\n",
       "      <td>0</td>\n",
       "    </tr>\n",
       "  </tbody>\n",
       "</table>\n",
       "</div>"
      ],
      "text/plain": [
       "    CoinName Algorithm ProofType  TotalCoinsMined TotalCoinSupply\n",
       "0    42 Coin    Scrypt   PoW/PoS     4.199995e+01              42\n",
       "2    404Coin    Scrypt   PoW/PoS     1.055185e+09       532000000\n",
       "5  EliteCoin       X13   PoW/PoS     2.927942e+10    314159265359\n",
       "7    Bitcoin   SHA-256       PoW     1.792718e+07        21000000\n",
       "8   Ethereum    Ethash       PoW     1.076842e+08               0"
      ]
     },
     "execution_count": 167,
     "metadata": {},
     "output_type": "execute_result"
    }
   ],
   "source": [
    "# Remove rows with cryptocurrencies having no coins mined\n",
    "crypto_df = crypto_df[crypto_df.TotalCoinsMined != 0]\n",
    "crypto_df = crypto_df[crypto_df.TotalCoinSupply != 0]\n",
    "crypto_df.head()"
   ]
  },
  {
   "cell_type": "code",
   "execution_count": 168,
   "metadata": {},
   "outputs": [
    {
     "data": {
      "text/html": [
       "<div>\n",
       "<style scoped>\n",
       "    .dataframe tbody tr th:only-of-type {\n",
       "        vertical-align: middle;\n",
       "    }\n",
       "\n",
       "    .dataframe tbody tr th {\n",
       "        vertical-align: top;\n",
       "    }\n",
       "\n",
       "    .dataframe thead th {\n",
       "        text-align: right;\n",
       "    }\n",
       "</style>\n",
       "<table border=\"1\" class=\"dataframe\">\n",
       "  <thead>\n",
       "    <tr style=\"text-align: right;\">\n",
       "      <th></th>\n",
       "      <th>CoinName</th>\n",
       "      <th>Algorithm</th>\n",
       "      <th>ProofType</th>\n",
       "      <th>TotalCoinsMined</th>\n",
       "      <th>TotalCoinSupply</th>\n",
       "    </tr>\n",
       "  </thead>\n",
       "  <tbody>\n",
       "    <tr>\n",
       "      <th>0</th>\n",
       "      <td>42 Coin</td>\n",
       "      <td>Scrypt</td>\n",
       "      <td>PoW/PoS</td>\n",
       "      <td>4.199995e+01</td>\n",
       "      <td>42</td>\n",
       "    </tr>\n",
       "    <tr>\n",
       "      <th>2</th>\n",
       "      <td>404Coin</td>\n",
       "      <td>Scrypt</td>\n",
       "      <td>PoW/PoS</td>\n",
       "      <td>1.055185e+09</td>\n",
       "      <td>532000000</td>\n",
       "    </tr>\n",
       "    <tr>\n",
       "      <th>5</th>\n",
       "      <td>EliteCoin</td>\n",
       "      <td>X13</td>\n",
       "      <td>PoW/PoS</td>\n",
       "      <td>2.927942e+10</td>\n",
       "      <td>314159265359</td>\n",
       "    </tr>\n",
       "    <tr>\n",
       "      <th>7</th>\n",
       "      <td>Bitcoin</td>\n",
       "      <td>SHA-256</td>\n",
       "      <td>PoW</td>\n",
       "      <td>1.792718e+07</td>\n",
       "      <td>21000000</td>\n",
       "    </tr>\n",
       "    <tr>\n",
       "      <th>8</th>\n",
       "      <td>Ethereum</td>\n",
       "      <td>Ethash</td>\n",
       "      <td>PoW</td>\n",
       "      <td>1.076842e+08</td>\n",
       "      <td>0</td>\n",
       "    </tr>\n",
       "  </tbody>\n",
       "</table>\n",
       "</div>"
      ],
      "text/plain": [
       "    CoinName Algorithm ProofType  TotalCoinsMined TotalCoinSupply\n",
       "0    42 Coin    Scrypt   PoW/PoS     4.199995e+01              42\n",
       "2    404Coin    Scrypt   PoW/PoS     1.055185e+09       532000000\n",
       "5  EliteCoin       X13   PoW/PoS     2.927942e+10    314159265359\n",
       "7    Bitcoin   SHA-256       PoW     1.792718e+07        21000000\n",
       "8   Ethereum    Ethash       PoW     1.076842e+08               0"
      ]
     },
     "execution_count": 168,
     "metadata": {},
     "output_type": "execute_result"
    }
   ],
   "source": [
    "# Drop rows where there are 'N/A' text values\n",
    "crypto_df = crypto_df[crypto_df.CoinName != 'N/A']\n",
    "crypto_df = crypto_df[crypto_df.Algorithm != 'N/A']\n",
    "crypto_df = crypto_df[crypto_df.ProofType != 'N/A']\n",
    "crypto_df.head()"
   ]
  },
  {
   "cell_type": "code",
   "execution_count": 170,
   "metadata": {},
   "outputs": [
    {
     "data": {
      "text/html": [
       "<div>\n",
       "<style scoped>\n",
       "    .dataframe tbody tr th:only-of-type {\n",
       "        vertical-align: middle;\n",
       "    }\n",
       "\n",
       "    .dataframe tbody tr th {\n",
       "        vertical-align: top;\n",
       "    }\n",
       "\n",
       "    .dataframe thead th {\n",
       "        text-align: right;\n",
       "    }\n",
       "</style>\n",
       "<table border=\"1\" class=\"dataframe\">\n",
       "  <thead>\n",
       "    <tr style=\"text-align: right;\">\n",
       "      <th></th>\n",
       "      <th>CoinName</th>\n",
       "    </tr>\n",
       "  </thead>\n",
       "  <tbody>\n",
       "    <tr>\n",
       "      <th>0</th>\n",
       "      <td>42 Coin</td>\n",
       "    </tr>\n",
       "    <tr>\n",
       "      <th>2</th>\n",
       "      <td>404Coin</td>\n",
       "    </tr>\n",
       "    <tr>\n",
       "      <th>5</th>\n",
       "      <td>EliteCoin</td>\n",
       "    </tr>\n",
       "    <tr>\n",
       "      <th>7</th>\n",
       "      <td>Bitcoin</td>\n",
       "    </tr>\n",
       "    <tr>\n",
       "      <th>8</th>\n",
       "      <td>Ethereum</td>\n",
       "    </tr>\n",
       "  </tbody>\n",
       "</table>\n",
       "</div>"
      ],
      "text/plain": [
       "    CoinName\n",
       "0    42 Coin\n",
       "2    404Coin\n",
       "5  EliteCoin\n",
       "7    Bitcoin\n",
       "8   Ethereum"
      ]
     },
     "execution_count": 170,
     "metadata": {},
     "output_type": "execute_result"
    }
   ],
   "source": [
    "# Store the 'CoinName'column in its own DataFrame prior to dropping it from crypto_df\n",
    "crypto_coinname = crypto_df[['CoinName']].copy()\n",
    "crypto_coinname.head()"
   ]
  },
  {
   "cell_type": "code",
   "execution_count": 171,
   "metadata": {},
   "outputs": [
    {
     "data": {
      "text/html": [
       "<div>\n",
       "<style scoped>\n",
       "    .dataframe tbody tr th:only-of-type {\n",
       "        vertical-align: middle;\n",
       "    }\n",
       "\n",
       "    .dataframe tbody tr th {\n",
       "        vertical-align: top;\n",
       "    }\n",
       "\n",
       "    .dataframe thead th {\n",
       "        text-align: right;\n",
       "    }\n",
       "</style>\n",
       "<table border=\"1\" class=\"dataframe\">\n",
       "  <thead>\n",
       "    <tr style=\"text-align: right;\">\n",
       "      <th></th>\n",
       "      <th>Algorithm</th>\n",
       "      <th>ProofType</th>\n",
       "      <th>TotalCoinsMined</th>\n",
       "      <th>TotalCoinSupply</th>\n",
       "    </tr>\n",
       "  </thead>\n",
       "  <tbody>\n",
       "    <tr>\n",
       "      <th>0</th>\n",
       "      <td>Scrypt</td>\n",
       "      <td>PoW/PoS</td>\n",
       "      <td>4.199995e+01</td>\n",
       "      <td>42</td>\n",
       "    </tr>\n",
       "    <tr>\n",
       "      <th>2</th>\n",
       "      <td>Scrypt</td>\n",
       "      <td>PoW/PoS</td>\n",
       "      <td>1.055185e+09</td>\n",
       "      <td>532000000</td>\n",
       "    </tr>\n",
       "    <tr>\n",
       "      <th>5</th>\n",
       "      <td>X13</td>\n",
       "      <td>PoW/PoS</td>\n",
       "      <td>2.927942e+10</td>\n",
       "      <td>314159265359</td>\n",
       "    </tr>\n",
       "    <tr>\n",
       "      <th>7</th>\n",
       "      <td>SHA-256</td>\n",
       "      <td>PoW</td>\n",
       "      <td>1.792718e+07</td>\n",
       "      <td>21000000</td>\n",
       "    </tr>\n",
       "    <tr>\n",
       "      <th>8</th>\n",
       "      <td>Ethash</td>\n",
       "      <td>PoW</td>\n",
       "      <td>1.076842e+08</td>\n",
       "      <td>0</td>\n",
       "    </tr>\n",
       "  </tbody>\n",
       "</table>\n",
       "</div>"
      ],
      "text/plain": [
       "  Algorithm ProofType  TotalCoinsMined TotalCoinSupply\n",
       "0    Scrypt   PoW/PoS     4.199995e+01              42\n",
       "2    Scrypt   PoW/PoS     1.055185e+09       532000000\n",
       "5       X13   PoW/PoS     2.927942e+10    314159265359\n",
       "7   SHA-256       PoW     1.792718e+07        21000000\n",
       "8    Ethash       PoW     1.076842e+08               0"
      ]
     },
     "execution_count": 171,
     "metadata": {},
     "output_type": "execute_result"
    }
   ],
   "source": [
    "# Drop the 'CoinName' column since it's not going to be used on the clustering algorithm\n",
    "crypto_df = crypto_df.drop(columns='CoinName')\n",
    "crypto_df.head()"
   ]
  },
  {
   "cell_type": "code",
   "execution_count": 172,
   "metadata": {},
   "outputs": [
    {
     "data": {
      "text/html": [
       "<div>\n",
       "<style scoped>\n",
       "    .dataframe tbody tr th:only-of-type {\n",
       "        vertical-align: middle;\n",
       "    }\n",
       "\n",
       "    .dataframe tbody tr th {\n",
       "        vertical-align: top;\n",
       "    }\n",
       "\n",
       "    .dataframe thead th {\n",
       "        text-align: right;\n",
       "    }\n",
       "</style>\n",
       "<table border=\"1\" class=\"dataframe\">\n",
       "  <thead>\n",
       "    <tr style=\"text-align: right;\">\n",
       "      <th></th>\n",
       "      <th>Algorithm</th>\n",
       "      <th>ProofType</th>\n",
       "      <th>TotalCoinsMined</th>\n",
       "      <th>TotalCoinSupply</th>\n",
       "    </tr>\n",
       "  </thead>\n",
       "  <tbody>\n",
       "    <tr>\n",
       "      <th>0</th>\n",
       "      <td>Scrypt</td>\n",
       "      <td>PoW/PoS</td>\n",
       "      <td>4.199995e+01</td>\n",
       "      <td>4.200000e+01</td>\n",
       "    </tr>\n",
       "    <tr>\n",
       "      <th>2</th>\n",
       "      <td>Scrypt</td>\n",
       "      <td>PoW/PoS</td>\n",
       "      <td>1.055185e+09</td>\n",
       "      <td>5.320000e+08</td>\n",
       "    </tr>\n",
       "    <tr>\n",
       "      <th>5</th>\n",
       "      <td>X13</td>\n",
       "      <td>PoW/PoS</td>\n",
       "      <td>2.927942e+10</td>\n",
       "      <td>3.141593e+11</td>\n",
       "    </tr>\n",
       "    <tr>\n",
       "      <th>7</th>\n",
       "      <td>SHA-256</td>\n",
       "      <td>PoW</td>\n",
       "      <td>1.792718e+07</td>\n",
       "      <td>2.100000e+07</td>\n",
       "    </tr>\n",
       "    <tr>\n",
       "      <th>8</th>\n",
       "      <td>Ethash</td>\n",
       "      <td>PoW</td>\n",
       "      <td>1.076842e+08</td>\n",
       "      <td>0.000000e+00</td>\n",
       "    </tr>\n",
       "  </tbody>\n",
       "</table>\n",
       "</div>"
      ],
      "text/plain": [
       "  Algorithm ProofType  TotalCoinsMined  TotalCoinSupply\n",
       "0    Scrypt   PoW/PoS     4.199995e+01     4.200000e+01\n",
       "2    Scrypt   PoW/PoS     1.055185e+09     5.320000e+08\n",
       "5       X13   PoW/PoS     2.927942e+10     3.141593e+11\n",
       "7   SHA-256       PoW     1.792718e+07     2.100000e+07\n",
       "8    Ethash       PoW     1.076842e+08     0.000000e+00"
      ]
     },
     "execution_count": 172,
     "metadata": {},
     "output_type": "execute_result"
    }
   ],
   "source": [
    "# Need to convert TotalCoinSupply to Float\n",
    "crypto_df[['TotalCoinSupply']] = crypto_df[['TotalCoinSupply']].apply(pd.to_numeric)\n",
    "crypto_df.head()"
   ]
  },
  {
   "cell_type": "code",
   "execution_count": 173,
   "metadata": {},
   "outputs": [
    {
     "data": {
      "text/plain": [
       "Algorithm          category\n",
       "ProofType          category\n",
       "TotalCoinsMined     float64\n",
       "TotalCoinSupply     float64\n",
       "dtype: object"
      ]
     },
     "execution_count": 173,
     "metadata": {},
     "output_type": "execute_result"
    }
   ],
   "source": [
    "# Change Algorith and ProofType to Categories\n",
    "for col in ['Algorithm', 'ProofType']:\n",
    "    crypto_df[col] = crypto_df[col].astype('category')\n",
    "    \n",
    "crypto_df.dtypes"
   ]
  },
  {
   "cell_type": "code",
   "execution_count": 174,
   "metadata": {},
   "outputs": [
    {
     "data": {
      "text/html": [
       "<div>\n",
       "<style scoped>\n",
       "    .dataframe tbody tr th:only-of-type {\n",
       "        vertical-align: middle;\n",
       "    }\n",
       "\n",
       "    .dataframe tbody tr th {\n",
       "        vertical-align: top;\n",
       "    }\n",
       "\n",
       "    .dataframe thead th {\n",
       "        text-align: right;\n",
       "    }\n",
       "</style>\n",
       "<table border=\"1\" class=\"dataframe\">\n",
       "  <thead>\n",
       "    <tr style=\"text-align: right;\">\n",
       "      <th></th>\n",
       "      <th>Algorithm</th>\n",
       "      <th>ProofType</th>\n",
       "      <th>TotalCoinsMined</th>\n",
       "      <th>TotalCoinSupply</th>\n",
       "    </tr>\n",
       "  </thead>\n",
       "  <tbody>\n",
       "    <tr>\n",
       "      <th>0</th>\n",
       "      <td>53</td>\n",
       "      <td>16</td>\n",
       "      <td>4.199995e+01</td>\n",
       "      <td>4.200000e+01</td>\n",
       "    </tr>\n",
       "    <tr>\n",
       "      <th>2</th>\n",
       "      <td>53</td>\n",
       "      <td>16</td>\n",
       "      <td>1.055185e+09</td>\n",
       "      <td>5.320000e+08</td>\n",
       "    </tr>\n",
       "    <tr>\n",
       "      <th>5</th>\n",
       "      <td>67</td>\n",
       "      <td>16</td>\n",
       "      <td>2.927942e+10</td>\n",
       "      <td>3.141593e+11</td>\n",
       "    </tr>\n",
       "    <tr>\n",
       "      <th>7</th>\n",
       "      <td>47</td>\n",
       "      <td>13</td>\n",
       "      <td>1.792718e+07</td>\n",
       "      <td>2.100000e+07</td>\n",
       "    </tr>\n",
       "    <tr>\n",
       "      <th>8</th>\n",
       "      <td>20</td>\n",
       "      <td>13</td>\n",
       "      <td>1.076842e+08</td>\n",
       "      <td>0.000000e+00</td>\n",
       "    </tr>\n",
       "  </tbody>\n",
       "</table>\n",
       "</div>"
      ],
      "text/plain": [
       "   Algorithm  ProofType  TotalCoinsMined  TotalCoinSupply\n",
       "0         53         16     4.199995e+01     4.200000e+01\n",
       "2         53         16     1.055185e+09     5.320000e+08\n",
       "5         67         16     2.927942e+10     3.141593e+11\n",
       "7         47         13     1.792718e+07     2.100000e+07\n",
       "8         20         13     1.076842e+08     0.000000e+00"
      ]
     },
     "execution_count": 174,
     "metadata": {},
     "output_type": "execute_result"
    }
   ],
   "source": [
    "# Create dummy variables for text features\n",
    "crypto_df['Algorithm'] = crypto_df['Algorithm'].cat.codes\n",
    "crypto_df['ProofType'] = crypto_df['ProofType'].cat.codes\n",
    "crypto_df.head()"
   ]
  },
  {
   "cell_type": "code",
   "execution_count": 175,
   "metadata": {},
   "outputs": [],
   "source": [
    "# Standardize data\n",
    "crypto_scaled = StandardScaler().fit_transform(crypto_df)"
   ]
  },
  {
   "cell_type": "markdown",
   "metadata": {},
   "source": [
    "### Reducing Dimensions Using PCA"
   ]
  },
  {
   "cell_type": "code",
   "execution_count": 176,
   "metadata": {},
   "outputs": [],
   "source": [
    "# Use PCA to reduce dimensions to 3 principal components\n",
    "pca = PCA(n_components=3)\n",
    "crypto_pca = pca.fit_transform(crypto_scaled)"
   ]
  },
  {
   "cell_type": "code",
   "execution_count": 177,
   "metadata": {},
   "outputs": [
    {
     "data": {
      "text/html": [
       "<div>\n",
       "<style scoped>\n",
       "    .dataframe tbody tr th:only-of-type {\n",
       "        vertical-align: middle;\n",
       "    }\n",
       "\n",
       "    .dataframe tbody tr th {\n",
       "        vertical-align: top;\n",
       "    }\n",
       "\n",
       "    .dataframe thead th {\n",
       "        text-align: right;\n",
       "    }\n",
       "</style>\n",
       "<table border=\"1\" class=\"dataframe\">\n",
       "  <thead>\n",
       "    <tr style=\"text-align: right;\">\n",
       "      <th></th>\n",
       "      <th>pc1</th>\n",
       "      <th>pc2</th>\n",
       "      <th>pc3</th>\n",
       "    </tr>\n",
       "  </thead>\n",
       "  <tbody>\n",
       "    <tr>\n",
       "      <th>0</th>\n",
       "      <td>-0.412665</td>\n",
       "      <td>0.823150</td>\n",
       "      <td>0.357227</td>\n",
       "    </tr>\n",
       "    <tr>\n",
       "      <th>1</th>\n",
       "      <td>-0.391306</td>\n",
       "      <td>0.827873</td>\n",
       "      <td>0.358336</td>\n",
       "    </tr>\n",
       "    <tr>\n",
       "      <th>2</th>\n",
       "      <td>3.143152</td>\n",
       "      <td>2.186748</td>\n",
       "      <td>0.487273</td>\n",
       "    </tr>\n",
       "    <tr>\n",
       "      <th>3</th>\n",
       "      <td>-0.190301</td>\n",
       "      <td>-0.003829</td>\n",
       "      <td>-0.043688</td>\n",
       "    </tr>\n",
       "    <tr>\n",
       "      <th>4</th>\n",
       "      <td>-0.051013</td>\n",
       "      <td>-1.161387</td>\n",
       "      <td>1.020473</td>\n",
       "    </tr>\n",
       "  </tbody>\n",
       "</table>\n",
       "</div>"
      ],
      "text/plain": [
       "        pc1       pc2       pc3\n",
       "0 -0.412665  0.823150  0.357227\n",
       "1 -0.391306  0.827873  0.358336\n",
       "2  3.143152  2.186748  0.487273\n",
       "3 -0.190301 -0.003829 -0.043688\n",
       "4 -0.051013 -1.161387  1.020473"
      ]
     },
     "execution_count": 177,
     "metadata": {},
     "output_type": "execute_result"
    }
   ],
   "source": [
    "# Create a DataFrame with the principal components data\n",
    "df_crypto_pca = pd.DataFrame(\n",
    "    data=crypto_pca, columns=['pc1', 'pc2', 'pc3']\n",
    ")\n",
    "\n",
    "df_crypto_pca.head()"
   ]
  },
  {
   "cell_type": "markdown",
   "metadata": {},
   "source": [
    "### Clustering Crytocurrencies Using K-Means\n",
    "\n",
    "#### Find the Best Value for `k` Using the Elbow Curve"
   ]
  },
  {
   "cell_type": "code",
   "execution_count": 178,
   "metadata": {},
   "outputs": [
    {
     "name": "stderr",
     "output_type": "stream",
     "text": [
      "C:\\Users\\jalex\\anaconda3\\envs\\mlenv\\lib\\site-packages\\sklearn\\cluster\\_kmeans.py:882: UserWarning:\n",
      "\n",
      "KMeans is known to have a memory leak on Windows with MKL, when there are less chunks than available threads. You can avoid it by setting the environment variable OMP_NUM_THREADS=3.\n",
      "\n"
     ]
    },
    {
     "data": {},
     "metadata": {},
     "output_type": "display_data"
    },
    {
     "data": {
      "application/vnd.holoviews_exec.v0+json": "",
      "text/html": [
       "<div id='1102'>\n",
       "\n",
       "\n",
       "\n",
       "\n",
       "\n",
       "  <div class=\"bk-root\" id=\"5c6523b3-198d-4435-a2fc-9e60468e48f6\" data-root-id=\"1102\"></div>\n",
       "</div>\n",
       "<script type=\"application/javascript\">(function(root) {\n",
       "  function embed_document(root) {\n",
       "    var docs_json = {\"d0556cf5-cfb3-42e4-8f9e-cd3aed30561e\":{\"roots\":{\"references\":[{\"attributes\":{},\"id\":\"1121\",\"type\":\"BasicTicker\"},{\"attributes\":{\"axis\":{\"id\":\"1120\"},\"dimension\":1,\"grid_line_color\":null,\"ticker\":null},\"id\":\"1123\",\"type\":\"Grid\"},{\"attributes\":{\"active_drag\":\"auto\",\"active_inspect\":\"auto\",\"active_multi\":null,\"active_scroll\":\"auto\",\"active_tap\":\"auto\",\"tools\":[{\"id\":\"1106\"},{\"id\":\"1124\"},{\"id\":\"1125\"},{\"id\":\"1126\"},{\"id\":\"1127\"},{\"id\":\"1128\"}]},\"id\":\"1130\",\"type\":\"Toolbar\"},{\"attributes\":{\"data\":{\"inertia\":{\"__ndarray__\":\"uEg7gA/inkDB8WgakUOUQFqTgl5OiYpAnAw82U/LgUBoKTsdn3d6QGQwRDrd+3ZAgsf14S2nckCgry5D2eduQLhn06LACWpAjYnesUeyZkA=\",\"dtype\":\"float64\",\"order\":\"little\",\"shape\":[10]},\"k\":[1,2,3,4,5,6,7,8,9,10]},\"selected\":{\"id\":\"1138\"},\"selection_policy\":{\"id\":\"1157\"}},\"id\":\"1137\",\"type\":\"ColumnDataSource\"},{\"attributes\":{\"bottom_units\":\"screen\",\"fill_alpha\":0.5,\"fill_color\":\"lightgrey\",\"left_units\":\"screen\",\"level\":\"overlay\",\"line_alpha\":1.0,\"line_color\":\"black\",\"line_dash\":[4,4],\"line_width\":2,\"right_units\":\"screen\",\"top_units\":\"screen\"},\"id\":\"1129\",\"type\":\"BoxAnnotation\"},{\"attributes\":{\"text\":\"Elbow Curve\",\"text_color\":{\"value\":\"black\"},\"text_font_size\":{\"value\":\"12pt\"}},\"id\":\"1108\",\"type\":\"Title\"},{\"attributes\":{\"below\":[{\"id\":\"1116\"}],\"center\":[{\"id\":\"1119\"},{\"id\":\"1123\"}],\"left\":[{\"id\":\"1120\"}],\"margin\":[5,5,5,5],\"min_border_bottom\":10,\"min_border_left\":10,\"min_border_right\":10,\"min_border_top\":10,\"plot_height\":300,\"plot_width\":700,\"renderers\":[{\"id\":\"1143\"}],\"sizing_mode\":\"fixed\",\"title\":{\"id\":\"1108\"},\"toolbar\":{\"id\":\"1130\"},\"x_range\":{\"id\":\"1104\"},\"x_scale\":{\"id\":\"1112\"},\"y_range\":{\"id\":\"1105\"},\"y_scale\":{\"id\":\"1114\"}},\"id\":\"1107\",\"subtype\":\"Figure\",\"type\":\"Plot\"},{\"attributes\":{\"line_color\":\"#30a2da\",\"line_width\":2,\"x\":{\"field\":\"k\"},\"y\":{\"field\":\"inertia\"}},\"id\":\"1140\",\"type\":\"Line\"},{\"attributes\":{\"source\":{\"id\":\"1137\"}},\"id\":\"1144\",\"type\":\"CDSView\"},{\"attributes\":{\"data_source\":{\"id\":\"1137\"},\"glyph\":{\"id\":\"1140\"},\"hover_glyph\":null,\"muted_glyph\":{\"id\":\"1142\"},\"nonselection_glyph\":{\"id\":\"1141\"},\"selection_glyph\":null,\"view\":{\"id\":\"1144\"}},\"id\":\"1143\",\"type\":\"GlyphRenderer\"},{\"attributes\":{\"line_alpha\":0.1,\"line_color\":\"#30a2da\",\"line_width\":2,\"x\":{\"field\":\"k\"},\"y\":{\"field\":\"inertia\"}},\"id\":\"1141\",\"type\":\"Line\"},{\"attributes\":{\"children\":[{\"id\":\"1103\"},{\"id\":\"1107\"},{\"id\":\"1166\"}],\"margin\":[0,0,0,0],\"name\":\"Row01711\",\"tags\":[\"embedded\"]},\"id\":\"1102\",\"type\":\"Row\"},{\"attributes\":{},\"id\":\"1138\",\"type\":\"Selection\"},{\"attributes\":{\"line_alpha\":0.2,\"line_color\":\"#30a2da\",\"line_width\":2,\"x\":{\"field\":\"k\"},\"y\":{\"field\":\"inertia\"}},\"id\":\"1142\",\"type\":\"Line\"},{\"attributes\":{},\"id\":\"1125\",\"type\":\"PanTool\"},{\"attributes\":{},\"id\":\"1128\",\"type\":\"ResetTool\"},{\"attributes\":{},\"id\":\"1126\",\"type\":\"WheelZoomTool\"},{\"attributes\":{},\"id\":\"1124\",\"type\":\"SaveTool\"},{\"attributes\":{\"overlay\":{\"id\":\"1129\"}},\"id\":\"1127\",\"type\":\"BoxZoomTool\"},{\"attributes\":{\"margin\":[5,5,5,5],\"name\":\"HSpacer01715\",\"sizing_mode\":\"stretch_width\"},\"id\":\"1103\",\"type\":\"Spacer\"},{\"attributes\":{},\"id\":\"1112\",\"type\":\"LinearScale\"},{\"attributes\":{\"end\":10.0,\"reset_end\":10.0,\"reset_start\":1.0,\"start\":1.0,\"tags\":[[[\"k\",\"k\",null]]]},\"id\":\"1104\",\"type\":\"Range1d\"},{\"attributes\":{\"callback\":null,\"renderers\":[{\"id\":\"1143\"}],\"tags\":[\"hv_created\"],\"tooltips\":[[\"k\",\"@{k}\"],[\"inertia\",\"@{inertia}\"]]},\"id\":\"1106\",\"type\":\"HoverTool\"},{\"attributes\":{\"axis_label\":\"k\",\"bounds\":\"auto\",\"formatter\":{\"id\":\"1147\"},\"major_label_orientation\":\"horizontal\",\"ticker\":{\"id\":\"1145\"}},\"id\":\"1116\",\"type\":\"LinearAxis\"},{\"attributes\":{\"margin\":[5,5,5,5],\"name\":\"HSpacer01716\",\"sizing_mode\":\"stretch_width\"},\"id\":\"1166\",\"type\":\"Spacer\"},{\"attributes\":{},\"id\":\"1157\",\"type\":\"UnionRenderers\"},{\"attributes\":{},\"id\":\"1114\",\"type\":\"LinearScale\"},{\"attributes\":{\"ticks\":[1,2,3,4,5,6,7,8,9,10]},\"id\":\"1145\",\"type\":\"FixedTicker\"},{\"attributes\":{},\"id\":\"1147\",\"type\":\"BasicTickFormatter\"},{\"attributes\":{\"axis_label\":\"inertia\",\"bounds\":\"auto\",\"formatter\":{\"id\":\"1151\"},\"major_label_orientation\":\"horizontal\",\"ticker\":{\"id\":\"1121\"}},\"id\":\"1120\",\"type\":\"LinearAxis\"},{\"attributes\":{\"axis\":{\"id\":\"1116\"},\"grid_line_color\":null,\"ticker\":null},\"id\":\"1119\",\"type\":\"Grid\"},{\"attributes\":{\"end\":2156.009526181679,\"reset_end\":2156.009526181679,\"reset_start\":2.07686322734466,\"start\":2.07686322734466,\"tags\":[[[\"inertia\",\"inertia\",null]]]},\"id\":\"1105\",\"type\":\"Range1d\"},{\"attributes\":{},\"id\":\"1151\",\"type\":\"BasicTickFormatter\"}],\"root_ids\":[\"1102\"]},\"title\":\"Bokeh Application\",\"version\":\"2.2.3\"}};\n",
       "    var render_items = [{\"docid\":\"d0556cf5-cfb3-42e4-8f9e-cd3aed30561e\",\"root_ids\":[\"1102\"],\"roots\":{\"1102\":\"5c6523b3-198d-4435-a2fc-9e60468e48f6\"}}];\n",
       "    root.Bokeh.embed.embed_items_notebook(docs_json, render_items);\n",
       "  }\n",
       "  if (root.Bokeh !== undefined && root.Bokeh.Panel !== undefined) {\n",
       "    embed_document(root);\n",
       "  } else {\n",
       "    var attempts = 0;\n",
       "    var timer = setInterval(function(root) {\n",
       "      if (root.Bokeh !== undefined && root.Bokeh.Panel !== undefined) {\n",
       "        clearInterval(timer);\n",
       "        embed_document(root);\n",
       "      } else if (document.readyState == \"complete\") {\n",
       "        attempts++;\n",
       "        if (attempts > 100) {\n",
       "          clearInterval(timer);\n",
       "          console.log(\"Bokeh: ERROR: Unable to run BokehJS code because BokehJS library is missing\");\n",
       "        }\n",
       "      }\n",
       "    }, 10, root)\n",
       "  }\n",
       "})(window);</script>"
      ],
      "text/plain": [
       ":Curve   [k]   (inertia)"
      ]
     },
     "execution_count": 178,
     "metadata": {
      "application/vnd.holoviews_exec.v0+json": {
       "id": "1102"
      }
     },
     "output_type": "execute_result"
    }
   ],
   "source": [
    "inertia = []\n",
    "k = list(range(1, 11))\n",
    "\n",
    "# Calculate the inertia for the range of k values\n",
    "for i in k:\n",
    "    km = KMeans(n_clusters=i, random_state=0)\n",
    "    km.fit(df_crypto_pca)\n",
    "    inertia.append(km.inertia_)\n",
    "\n",
    "# Create the Elbow Curve using hvPlot\n",
    "elbow_data = {\"k\": k, \"inertia\": inertia}\n",
    "df_elbow = pd.DataFrame(elbow_data)\n",
    "df_elbow.hvplot.line(x=\"k\", y=\"inertia\", xticks=k, title=\"Elbow Curve\")\n"
   ]
  },
  {
   "cell_type": "markdown",
   "metadata": {},
   "source": [
    "Running K-Means with `k=<your best value for k here>`"
   ]
  },
  {
   "cell_type": "code",
   "execution_count": 179,
   "metadata": {},
   "outputs": [
    {
     "data": {
      "text/html": [
       "<div>\n",
       "<style scoped>\n",
       "    .dataframe tbody tr th:only-of-type {\n",
       "        vertical-align: middle;\n",
       "    }\n",
       "\n",
       "    .dataframe tbody tr th {\n",
       "        vertical-align: top;\n",
       "    }\n",
       "\n",
       "    .dataframe thead th {\n",
       "        text-align: right;\n",
       "    }\n",
       "</style>\n",
       "<table border=\"1\" class=\"dataframe\">\n",
       "  <thead>\n",
       "    <tr style=\"text-align: right;\">\n",
       "      <th></th>\n",
       "      <th>pc1</th>\n",
       "      <th>pc2</th>\n",
       "      <th>pc3</th>\n",
       "      <th>Clusters</th>\n",
       "    </tr>\n",
       "  </thead>\n",
       "  <tbody>\n",
       "    <tr>\n",
       "      <th>0</th>\n",
       "      <td>-0.412665</td>\n",
       "      <td>0.823150</td>\n",
       "      <td>0.357227</td>\n",
       "      <td>2</td>\n",
       "    </tr>\n",
       "    <tr>\n",
       "      <th>1</th>\n",
       "      <td>-0.391306</td>\n",
       "      <td>0.827873</td>\n",
       "      <td>0.358336</td>\n",
       "      <td>2</td>\n",
       "    </tr>\n",
       "    <tr>\n",
       "      <th>2</th>\n",
       "      <td>3.143152</td>\n",
       "      <td>2.186748</td>\n",
       "      <td>0.487273</td>\n",
       "      <td>2</td>\n",
       "    </tr>\n",
       "    <tr>\n",
       "      <th>3</th>\n",
       "      <td>-0.190301</td>\n",
       "      <td>-0.003829</td>\n",
       "      <td>-0.043688</td>\n",
       "      <td>2</td>\n",
       "    </tr>\n",
       "    <tr>\n",
       "      <th>4</th>\n",
       "      <td>-0.051013</td>\n",
       "      <td>-1.161387</td>\n",
       "      <td>1.020473</td>\n",
       "      <td>1</td>\n",
       "    </tr>\n",
       "  </tbody>\n",
       "</table>\n",
       "</div>"
      ],
      "text/plain": [
       "        pc1       pc2       pc3  Clusters\n",
       "0 -0.412665  0.823150  0.357227         2\n",
       "1 -0.391306  0.827873  0.358336         2\n",
       "2  3.143152  2.186748  0.487273         2\n",
       "3 -0.190301 -0.003829 -0.043688         2\n",
       "4 -0.051013 -1.161387  1.020473         1"
      ]
     },
     "execution_count": 179,
     "metadata": {},
     "output_type": "execute_result"
    }
   ],
   "source": [
    "# Initialize the K-Means model\n",
    "model = KMeans(n_clusters=3, random_state=0)\n",
    "\n",
    "# Fit the model\n",
    "model.fit(df_crypto_pca)\n",
    "\n",
    "# Predict clusters\n",
    "predictions = model.predict(df_crypto_pca)\n",
    "\n",
    "# Create a new DataFrame including predicted clusters and cryptocurrencies features\n",
    "df_crypto_pca[\"Clusters\"] = model.labels_\n",
    "df_crypto_pca.head()\n"
   ]
  },
  {
   "cell_type": "markdown",
   "metadata": {},
   "source": [
    "### Visualizing Results\n",
    "\n",
    "#### 3D-Scatter with Clusters"
   ]
  },
  {
   "cell_type": "code",
   "execution_count": 180,
   "metadata": {},
   "outputs": [
    {
     "data": {
      "application/vnd.plotly.v1+json": {
       "config": {
        "plotlyServerURL": "https://plot.ly"
       },
       "data": [
        {
         "hovertemplate": "Clusters=%{marker.color}<br>pc3=%{x}<br>pc2=%{y}<br>pc1=%{z}<extra></extra>",
         "legendgroup": "2",
         "marker": {
          "color": [
           2,
           2,
           2,
           2,
           2,
           2,
           2,
           2,
           2,
           2,
           2,
           2,
           2,
           2,
           2,
           2,
           2,
           2,
           2,
           2,
           2,
           2,
           2,
           2,
           2,
           2,
           2,
           2,
           2,
           2,
           2,
           2,
           2,
           2,
           2,
           2,
           2,
           2,
           2,
           2,
           2,
           2,
           2,
           2,
           2,
           2,
           2,
           2,
           2,
           2,
           2,
           2,
           2,
           2,
           2,
           2,
           2,
           2,
           2,
           2,
           2,
           2,
           2,
           2,
           2,
           2,
           2,
           2,
           2,
           2,
           2,
           2,
           2,
           2,
           2,
           2,
           2,
           2,
           2,
           2,
           2,
           2,
           2,
           2,
           2,
           2,
           2,
           2,
           2,
           2,
           2,
           2,
           2,
           2,
           2,
           2,
           2,
           2,
           2,
           2,
           2,
           2,
           2,
           2,
           2,
           2,
           2,
           2,
           2,
           2,
           2,
           2,
           2,
           2,
           2,
           2,
           2,
           2,
           2,
           2,
           2,
           2,
           2,
           2,
           2,
           2,
           2,
           2,
           2,
           2,
           2,
           2,
           2,
           2,
           2,
           2,
           2,
           2,
           2,
           2,
           2,
           2,
           2,
           2,
           2,
           2,
           2,
           2,
           2,
           2,
           2,
           2,
           2,
           2,
           2,
           2,
           2,
           2,
           2,
           2,
           2,
           2,
           2,
           2,
           2,
           2,
           2,
           2,
           2,
           2,
           2,
           2,
           2,
           2,
           2,
           2,
           2,
           2,
           2,
           2,
           2,
           2,
           2,
           2,
           2,
           2,
           2,
           2,
           2,
           2,
           2,
           2,
           2,
           2,
           2,
           2,
           2,
           2,
           2,
           2,
           2,
           2,
           2,
           2,
           2,
           2,
           2,
           2,
           2,
           2,
           2,
           2,
           2,
           2,
           2,
           2,
           2,
           2,
           2,
           2,
           2,
           2,
           2,
           2,
           2,
           2,
           2,
           2,
           2,
           2,
           2,
           2,
           2,
           2,
           2,
           2,
           2,
           2,
           2,
           2,
           2,
           2,
           2,
           2,
           2,
           2,
           2,
           2,
           2,
           2,
           2,
           2,
           2,
           2,
           2,
           2,
           2,
           2,
           2,
           2,
           2,
           2,
           2,
           2,
           2,
           2,
           2,
           2,
           2,
           2,
           2,
           2,
           2,
           2,
           2,
           2,
           2,
           2,
           2,
           2,
           2,
           2,
           2,
           2,
           2,
           2,
           2,
           2,
           2,
           2,
           2,
           2,
           2,
           2,
           2,
           2,
           2,
           2,
           2,
           2,
           2,
           2,
           2,
           2,
           2,
           2,
           2,
           2,
           2,
           2,
           2,
           2,
           2,
           2,
           2,
           2,
           2,
           2,
           2,
           2,
           2,
           2,
           2,
           2,
           2,
           2,
           2,
           2,
           2,
           2,
           2,
           2,
           2,
           2,
           2,
           2,
           2,
           2,
           2,
           2,
           2,
           2,
           2
          ],
          "coloraxis": "coloraxis",
          "symbol": "circle"
         },
         "mode": "markers",
         "name": "2",
         "scene": "scene",
         "showlegend": true,
         "type": "scatter3d",
         "x": [
          0.35722699423776216,
          0.35833556490574026,
          0.48727300119108813,
          -0.04368780606873772,
          -0.2800440795954816,
          -0.11570799958504911,
          0.5937659899207651,
          -0.28017846026634285,
          -0.27265626378106395,
          -0.7531633047083452,
          -0.28008524341350505,
          0.35726262944621023,
          0.35719786757006244,
          0.5548594573286156,
          -0.04337120096347365,
          -0.27968610083879786,
          -0.28000673212929744,
          0.35722135319227116,
          -0.003792198658203105,
          -0.2801206510233878,
          0.35722807954466596,
          -0.280178526806962,
          0.35722912121344264,
          -0.28019550458669235,
          -0.7531673720708232,
          0.0010754096210557076,
          -0.2514402301697991,
          -0.280179154353495,
          -0.27958193962921546,
          -0.2801551678949633,
          -0.7052122729334478,
          -0.2801994823788596,
          -0.2771749968014988,
          -0.2800746460549886,
          -0.2800686615821258,
          0.3574838658662427,
          -1.8157013253096814,
          -0.08734912386835625,
          -0.11570839469141046,
          -0.04368795101655687,
          -0.2796535969470726,
          -0.28018125643489117,
          -0.28022097925870926,
          0.4362720510542289,
          -0.28013427605165814,
          -0.28020238356934973,
          0.5989052555480006,
          -0.19458886207111387,
          -0.24771187803204794,
          -0.04368765980990509,
          -0.27950633428545213,
          -0.19458652750681862,
          1.0272934778114586,
          0.3581301594467402,
          0.35743672422382955,
          0.35588322637034425,
          -0.2801782464707881,
          -0.2796813004160834,
          -0.2801136932010732,
          -1.815626709598577,
          -0.11575542680289523,
          -0.041827344995817466,
          -0.043632411836758395,
          -0.11573374759536038,
          -0.043642367016548805,
          -0.043558781675415006,
          -0.04373211847691877,
          -0.7532063428902503,
          0.3606561341699176,
          0.35744216108040816,
          -0.2801749076573235,
          -0.49270895180397056,
          -0.27965213743178274,
          -0.1157437867072,
          -0.04363658827016554,
          -0.1945873497200716,
          0.35939490671827934,
          -0.2799983863275968,
          0.5938642917612914,
          -0.2765893992121685,
          -0.27986832902188935,
          -0.19455982912096648,
          -0.28021815771488684,
          -0.2798828928804073,
          0.35722692686541374,
          -0.19456441111233924,
          -0.27808549667137034,
          -0.5145733565188668,
          -1.8155810146320417,
          0.03509745913166578,
          -0.2802169976435925,
          0.35726995613379325,
          -0.2586882318937768,
          -0.28022254569677885,
          -0.04368755558431462,
          -0.08015182267070053,
          -0.11575549830884578,
          1.073674964997916,
          -0.7531359995500102,
          -0.043616417259063865,
          0.7119744226728852,
          -0.7531613460974014,
          -1.3906571612653216,
          -0.2797681490879814,
          -0.27968365645945487,
          -0.1944781541889632,
          0.5958909280588282,
          -0.2733596666689552,
          -0.7531722197549744,
          -0.04368794680531945,
          -0.2797768042717394,
          0.5937658807882209,
          -0.05852129565950174,
          -0.2800443911499868,
          0.5937408048900403,
          0.002301417491058145,
          1.0662390650733498,
          0.3573179189020316,
          -0.7530256808411733,
          -0.2798577807276899,
          -0.7925700880827373,
          -0.11492082265055008,
          0.593804992893579,
          -0.2801806717474032,
          -0.7531525460219884,
          -0.11559849444545987,
          0.5942025100839677,
          0.5948591573725788,
          1.0668925262080058,
          -0.1154542640439035,
          -0.280222552147219,
          0.3615391159003601,
          0.35732319819920155,
          0.3574398799606412,
          -1.8940200790647368,
          -0.753151983306775,
          -1.8142257254726224,
          3.6495412640077354,
          -0.11564740753335326,
          0.3574207381805174,
          0.5937638470102153,
          -0.04371176630514488,
          -0.11574893497994135,
          0.3572725444150993,
          0.35722690522766437,
          -0.27979428120223165,
          -0.04370993530965517,
          0.7889052998403857,
          -0.28015913327523156,
          0.5574843176965688,
          0.35722545752212054,
          -0.11250551703630414,
          -1.894449466695422,
          -0.23378814887934615,
          0.5311614669442297,
          -0.11569102883749276,
          -0.25848590088389645,
          -0.7521567100090379,
          -0.19696327819664802,
          -0.11574722573763044,
          0.35731002358443503,
          0.3573182191028757,
          -0.7527132696692104,
          -0.11562522536769453,
          0.5937611304570106,
          0.35729783117520286,
          1.371792807212223,
          0.3572873777221069,
          0.35864148128709694,
          -0.11574459278579907,
          0.35753976636885476,
          0.3572551060036164,
          0.3572340529926964,
          0.6727186665552045,
          -0.28021800271062397,
          0.3583132436982395,
          0.5937637585130516,
          -0.11573534621769045,
          0.35726994618666613,
          -0.5357612866939483,
          0.3572746783568762,
          0.5699447880838374,
          -0.2802167002957676,
          -1.8944238677566445,
          -0.7510329842122161,
          0.35935585227126327,
          -0.2800109714874059,
          -0.11553856266304154,
          -0.11552128342585527,
          -0.2715280179119644,
          -0.11553894580353834,
          -0.11467365775270094,
          0.3572728779648885,
          0.3572891378213484,
          0.35940166737988344,
          -0.11566922817990088,
          -0.28014754781679824,
          -0.038356315511507415,
          0.35745435820054294,
          -0.07955731234737252,
          -0.28006791311669366,
          1.066722184509917,
          -0.7529904286357935,
          1.0669587071538276,
          0.23919854609687394,
          -0.2801827744846898,
          -0.19452156677184396,
          -0.2800609991468734,
          -0.753076999511126,
          -0.7531653060202167,
          0.46554719988119503,
          -0.1945457395859775,
          -0.5955006272421036,
          0.14724124156684398,
          -0.7508197358256359,
          0.23919668839893735,
          -0.0436878092047302,
          -0.11573532964819751,
          1.172109567419691,
          -0.2573895771380562,
          -0.28677900815703,
          -0.28018081536868555,
          -0.2800419900463527,
          -0.2800078913242571,
          -0.2800079403615469,
          0.35733103193083143,
          0.35723593535246617,
          -0.11569704502176088,
          1.028146933509862,
          -0.7494157280513956,
          0.3572611570780217,
          0.40937311127455506,
          0.5939314558722858,
          1.0692845690246229,
          0.9485851240370119,
          0.35727256423005344,
          0.6335669390802182,
          -0.280010978206948,
          0.3572584041284313,
          -0.7524531754462365,
          -0.11544402362620677,
          1.130639752240738,
          -0.1941375594150613,
          0.3576785933742129,
          -0.752013886203256,
          0.46573666819064585,
          0.35755281264213573,
          -0.26953209489338176,
          -0.11564876481298732,
          -0.7531634224166358,
          -0.28008676877718863,
          0.35915712936678745,
          0.35723557813224316,
          -1.8155789186599534,
          -0.7531566581576596,
          -0.04368972238864948,
          0.14480818464357684,
          -0.43784879307527114,
          0.35772075876565623,
          -0.2589352832484181,
          -1.8927255886327587,
          0.13113324725721995,
          -0.28013744713620514,
          -0.24085851579577544,
          -0.7521286249412601,
          -0.1157011608887949,
          -0.3521161779093587,
          -1.7346491188807553,
          -0.28017838242888665,
          1.0668087315558008,
          0.3572334794744322,
          0.35723781344151795,
          0.35729178213012575,
          -0.7529902756507431,
          0.6335619414496338,
          -2.012602735407437,
          0.3683013179381375,
          -1.6271031889542753,
          -0.6349215737125555,
          0.3789413470020658,
          0.515103747881284,
          0.35740867855386715,
          -1.9730908584643212,
          -0.950234661696685,
          -0.7531608478010589,
          -0.3126536173250209,
          0.6331443381291466,
          1.2244749968539923,
          -0.28017585718423904,
          0.3594014425992492,
          -0.9892414888284945,
          -1.815505660247425,
          -0.11564810460383547,
          -0.03926205088343821,
          -1.8154071221280885,
          -0.7531521500638865,
          0.39632293865377327,
          2.177470414374997,
          -0.9500652746406434,
          -2.0520071731091103,
          -0.043687809063778255,
          0.6499070102905974,
          -1.8164132542188158,
          0.6332492225581945,
          -0.27996451832132635,
          0.3572719853937939,
          0.6331739678886676,
          0.5184812764624736,
          0.035314628026091664,
          -1.8155815765496277,
          0.3574087268126682,
          -0.3511684113165202,
          0.5257201951637613,
          -0.11484276337354708,
          -0.04359586943424956,
          -0.8320321781768566,
          -0.043371182485880205,
          -0.11569127788224982,
          0.4326391718481659,
          -0.06688871910235833,
          -0.11576654804217851,
          0.3576617712424801,
          0.3573440415338406,
          0.35722655267313846,
          -0.11468808243786409,
          -0.2780849316466308,
          0.38001634888433256,
          0.5933090763405728,
          -0.11360338779040004,
          -0.0436423693787238,
          0.3572568643089501,
          -0.172845128670292,
          0.3580783395387899,
          -0.11531232226793141,
          0.35757019571001425,
          -0.2802132225959963,
          -0.2798312639761456,
          1.1591814055283354,
          0.5939431257766236,
          0.35786785155549883,
          1.0274162229107475,
          -0.19458557825840817,
          0.35776998377628055
         ],
         "y": [
          0.8231502329380378,
          0.8278725869093417,
          2.18674766297852,
          -0.003828542785742223,
          0.253751819085037,
          1.3378144202429378,
          0.565907619749758,
          0.2534234505957652,
          1.510092319493836,
          0.7680266223431055,
          0.2535362064095159,
          0.8232474957872364,
          0.8253175090988903,
          1.0642166587568611,
          -0.0029949643802057425,
          0.25432712060546864,
          0.253595688923216,
          0.8235699699928399,
          -0.04540942244167051,
          0.2535752061188511,
          0.8231514337380175,
          0.2534284018094465,
          0.8231558884876498,
          0.25340322284841005,
          0.7680014136019693,
          0.10444278504558216,
          0.32463366329943577,
          0.25347509685110664,
          0.254738995310188,
          0.25349350277075255,
          -0.12492591141269652,
          0.2533870557454946,
          0.2593747403522023,
          0.25373123873219755,
          0.2536540746076799,
          0.8237080933909773,
          -0.1759799486209737,
          0.7536711406488641,
          1.3378438196691653,
          -0.0038177573792475506,
          0.2544364481557626,
          0.2534675820603939,
          0.25336604985815403,
          0.7378064820353704,
          0.2535782472414147,
          0.2534003453435479,
          0.5764695713811213,
          1.4237270564499227,
          0.2931036196862475,
          -0.0038394257432957774,
          0.25521265598130183,
          1.4235533441094443,
          0.0941710293176759,
          0.8247966056615254,
          0.8236094273267258,
          0.9231385030039213,
          0.25340754230560597,
          0.25396992647433275,
          0.2535548408485828,
          -0.1815320209451557,
          1.3377371674583292,
          -0.00013752049617867242,
          -0.003686267519872011,
          1.3377631611013987,
          -0.0037671172073288684,
          -0.0037573329701065645,
          -0.003932818611360808,
          0.767950479005586,
          0.830277064517466,
          0.8235327335304096,
          0.25348696157095085,
          0.06353838202964494,
          0.25432784724145635,
          1.337772482767221,
          -0.0037053223084312424,
          1.4236145240858686,
          0.8257665987769385,
          0.2538140001557913,
          0.5661337922775835,
          0.2583225075540039,
          0.25417981371667336,
          1.4235338868608136,
          0.25336560232505895,
          0.25421664792289506,
          0.8231552391547811,
          1.4235469710850932,
          0.25817419171869094,
          0.5152182606071865,
          -0.1816535660059029,
          -0.0896768094396743,
          0.2534011367042558,
          0.8232320457378453,
          0.2902002568576403,
          0.25336285352173,
          -0.0038471810539103266,
          0.44762761045458754,
          1.3377423242084843,
          1.3075583694397117,
          0.7681259441633169,
          -0.0037702126500354263,
          0.4372499444648761,
          0.7680448126110786,
          0.19815668381850443,
          0.25391444918848527,
          0.25414523704905784,
          1.4236858225230435,
          0.5681152422404522,
          1.5093678180287302,
          0.7680342677312769,
          -0.0038180707327539537,
          0.254519129013692,
          0.56591574018136,
          1.4313061035354038,
          0.2537750015102984,
          0.5658964340897048,
          0.11588193748403866,
          0.0856142816037447,
          0.8232696127399541,
          0.7682775965276409,
          0.2537170952016339,
          0.8109381648991769,
          1.3385835152244605,
          0.5659561618482802,
          0.25342407611275214,
          0.768045722103601,
          1.338354466065759,
          0.5663311537871176,
          0.5670221950833284,
          0.051744513459326125,
          1.3381138553525544,
          0.25336283678896654,
          0.8301467076536247,
          0.8232592854887139,
          0.8237024691227982,
          -0.09550110908744501,
          0.7680038510885516,
          -0.17807677918995343,
          1.0324617131933744,
          1.3378958262860103,
          0.8234875043914109,
          0.5659031430110733,
          -0.0038921769454254027,
          1.337745739191981,
          0.823203382932395,
          0.8231568491957107,
          0.25418028466731823,
          -0.003880507079342932,
          1.2118255845874752,
          0.2534607056464932,
          0.760628474856797,
          0.8232645713599044,
          1.3418073262245016,
          -0.09592667774812526,
          1.4669361299055028,
          0.6711619749115972,
          1.3378630724273506,
          0.2751450307711921,
          0.7718126284540298,
          1.739743813428881,
          1.3377584408059784,
          0.8232899025232627,
          0.8232472751280278,
          0.7686371080963751,
          1.337884559301126,
          0.5659413503862843,
          0.8232889631904005,
          2.6676683867183573,
          0.823247151361437,
          0.8245613972232684,
          1.3377504980137163,
          0.8234828790531866,
          0.8231895291021772,
          0.8231685437004563,
          0.48036184878123434,
          0.2533682133501789,
          0.8242877764413798,
          0.5659097279869146,
          1.3377762151109718,
          0.8232327858925371,
          0.9809386123455409,
          0.8231975984170937,
          1.0136879594869603,
          0.253377152926779,
          -0.09586027282395757,
          0.7701616062113609,
          0.8286725968731047,
          0.2539111348591685,
          1.3379932170042312,
          1.3383467714902844,
          0.2620244780209824,
          1.3380217260637364,
          1.3392079362793161,
          0.8232133365050956,
          0.8232145413304699,
          0.8252635454436629,
          1.3378801930346844,
          0.2535035945198615,
          0.0058395028800894465,
          0.8234448010285295,
          1.8379888291308644,
          0.2535581049325563,
          0.051305183409998165,
          0.7682773723989024,
          0.051737912760757676,
          0.952031333622569,
          0.25346198548965587,
          1.4236375379469755,
          0.2535354291143204,
          0.7681618817779133,
          0.7679952165701531,
          0.9595806604553399,
          1.4236163086071978,
          0.5965224465433941,
          1.23182218822301,
          0.7706868638772949,
          0.9521695628660817,
          -0.003828309440019532,
          1.3378001076534343,
          2.616751902209617,
          0.27553296475677214,
          0.7411204049274028,
          0.2534347628131189,
          0.2535963380513931,
          0.25368194333476396,
          0.2536855921451281,
          0.8233187667671852,
          0.8231734266355989,
          1.3378189450181668,
          0.09561966192887096,
          0.780966037784439,
          0.8231873460972277,
          1.0412238922622257,
          0.5663818920216993,
          0.05571571341668869,
          0.18007159734465203,
          0.8232019085236204,
          0.5235015954427151,
          0.25391163485284707,
          0.8232372684002346,
          0.7692830424244174,
          1.338171518909361,
          0.2114806554506679,
          1.4245710769069098,
          0.823972185732339,
          0.7693816842621286,
          0.9454825336448082,
          0.8234956903437561,
          0.277438395729575,
          1.3379968199585268,
          0.7680025952191852,
          0.2536497070297843,
          0.8270665141906756,
          0.8231672213289853,
          -0.1816455966283716,
          0.7680238448861391,
          -0.0038226677786694307,
          0.6333153730758981,
          0.42493989561201473,
          0.8244411291132364,
          0.3085830742086933,
          -0.09346570482970393,
          0.23282959606749562,
          0.25348634745330256,
          0.3416530727177198,
          0.7697228497033621,
          1.3377973454472798,
          1.595158752133249,
          -0.26313796681428037,
          0.25341765879696054,
          0.05142244715384704,
          0.8231594517931041,
          0.8231648227809911,
          0.8232472809176018,
          0.7682659889509426,
          0.5238734635927784,
          0.032816290435217284,
          0.8387550224484108,
          0.4555305632420383,
          0.6393403510169791,
          0.8794783472095714,
          0.6519457845947046,
          0.8234012778191011,
          -0.009882659547695325,
          0.982431911985704,
          0.7680077349327695,
          1.552448623310202,
          0.5230055911703679,
          -0.1201028027381034,
          0.2534109420678443,
          0.8252802711214103,
          1.0257335585653529,
          -0.18152311043071143,
          1.3379476945276272,
          0.00766293297625398,
          -0.18147844748362474,
          0.768016259300304,
          0.8647744107668532,
          2.2194679984965013,
          0.982602009843147,
          0.07571722242178858,
          -0.003828319928096658,
          2.503275404580566,
          -0.1230061079287839,
          0.5232089924161554,
          0.253733173011034,
          0.8232449790878389,
          0.5230770184078741,
          1.086237463410667,
          -0.08944327241522478,
          -0.18166093284238607,
          0.8233976869352231,
          1.5967649589551518,
          0.6652365632492291,
          1.3386766310930411,
          -0.003620527344188345,
          0.8537192752277106,
          -0.0032906870312642412,
          1.3378816035715633,
          0.9493054886769452,
          0.46069763343494696,
          1.33856452261306,
          0.8235846185363724,
          0.8233349818728584,
          0.8231830823870417,
          1.3402812611072006,
          0.2581321488543613,
          0.8486671501271886,
          0.6274460131205069,
          1.341534503407794,
          -0.0037669414405069254,
          0.8233865522249556,
          0.45984359348309023,
          0.825373900821253,
          1.3388631804135975,
          0.823841518903142,
          0.2533872236149169,
          0.2539814218087765,
          2.4774112575958713,
          0.566333189062635,
          0.8246432446075307,
          0.09428295667758456,
          1.4235023829881854,
          0.8237290607132082
         ],
         "z": [
          -0.41266542545355983,
          -0.3913055807210582,
          3.143152316757404,
          -0.19030134717362862,
          -0.21967866006234654,
          -0.47370285277092594,
          -0.3817243830271896,
          -0.2211838824361654,
          -0.4905940203953468,
          -0.28250967235078867,
          -0.2206506116454245,
          -0.4122210307693854,
          -0.4030499948813661,
          3.6708182296812613,
          -0.18648881870234668,
          -0.216998805137992,
          -0.22035906975890873,
          -0.41080320202048587,
          -0.17923772120323636,
          -0.22048974050331058,
          -0.4126597140870821,
          -0.22116191566865306,
          -0.4126395660754214,
          -0.22127966029038154,
          -0.28262305004723565,
          0.30616663017038714,
          0.10509898951177395,
          -0.22095474643901614,
          -0.21513323566498935,
          -0.2208646406307571,
          -0.0870412131734218,
          -0.22135284990493623,
          -0.19370557601678579,
          -0.2197807163217913,
          -0.22012134184536652,
          -0.410098267117947,
          0.06115442911769842,
          2.0677790811280117,
          -0.47357241801240024,
          -0.19025349617542014,
          -0.21650191841890873,
          -0.22098885463840964,
          -0.22145363541813953,
          -0.40048914129826496,
          -0.22048098211040773,
          -0.22129483750537443,
          -0.33302431008389594,
          -0.4832953110042872,
          -0.03363692402975799,
          -0.19034963097105942,
          -0.21300320605896583,
          -0.4840660106433888,
          -0.3255992709526413,
          -0.4050386000360267,
          -0.410552903848549,
          0.030946832814495735,
          -0.22125446184031552,
          -0.21858354797893123,
          -0.22057776456597564,
          0.03652186631453964,
          -0.47406248565657405,
          -0.1732599547025812,
          -0.18965015177232616,
          -0.4739394843518637,
          -0.19001270093956849,
          -0.18994011705182712,
          -0.19077991271797895,
          -0.2828628482719442,
          -0.3798178087883046,
          -0.41089163133140083,
          -0.22090057140120434,
          -0.15727234524316977,
          -0.21698374190497483,
          -0.4739015823495349,
          -0.18973623576666115,
          -0.48379457692935,
          -0.4002897885115571,
          -0.2193865698477867,
          -0.3806856194986759,
          -0.19817480882171656,
          -0.21771654834773382,
          -0.4841431224397654,
          -0.2214546397708071,
          -0.21755803101310364,
          -0.4126432146893407,
          -0.48408660791931607,
          -0.19935490717397344,
          -0.23115992918260786,
          0.035997969387677686,
          -0.18045631771255727,
          -0.2212964157148554,
          -0.4122870961844831,
          -0.05035688736526311,
          -0.22146837728425345,
          -0.19038403851559713,
          0.7110480538271573,
          -0.474039607764861,
          -0.5918600699058457,
          -0.28205903606724647,
          -0.1900174055056407,
          -0.3664366677919082,
          -0.2824282008699559,
          -0.09169474016270095,
          -0.21886020686112434,
          -0.21780575754504866,
          -0.48343986342756584,
          -0.3711790849943378,
          -0.4940568988338251,
          -0.28247882351606524,
          -0.19025488641306035,
          -0.2161776426097955,
          -0.38168835557117947,
          -0.038546604986269974,
          -0.21957580791762657,
          -0.381782838999178,
          0.35739889584171375,
          -0.1681957684755385,
          -0.41210353418013973,
          -0.28134705312139313,
          -0.2197679563372075,
          -0.2874930382495188,
          -0.4700127253086653,
          -0.3814951994613643,
          -0.22118187499639896,
          -0.282421094753147,
          -0.4712661711952579,
          -0.37969120592402705,
          -0.3763932290129974,
          -0.31839474014617436,
          -0.4722845386604915,
          -0.22146845384785122,
          -0.38008905333791243,
          -0.41214756107711625,
          -0.41013857510386686,
          0.02762459670512768,
          -0.28260686149889713,
          0.05235595601191864,
          -0.8033537297563482,
          -0.47332018605767495,
          -0.4110999744321987,
          -0.38174501247432435,
          -0.19059231722390452,
          -0.4740221534348579,
          -0.412413495063802,
          -0.4126360715125232,
          -0.21768865156459097,
          -0.19053984944974112,
          -0.4986314450173648,
          -0.22101168527405488,
          0.1067814971619856,
          -0.4121581467269914,
          -0.45485301134127776,
          0.025584868812290086,
          -0.48688493396470206,
          -0.2997417642939296,
          -0.4734808583512463,
          -0.11715155076958216,
          -0.26534399206606013,
          0.9194108136180152,
          -0.47396514576147125,
          -0.4120161720901335,
          -0.41220263818969116,
          -0.27964147180281146,
          -0.4733624960893344,
          -0.381576267746405,
          -0.41202459294179944,
          -0.9182331609573445,
          -0.4122139358789873,
          -0.40590504548351336,
          -0.47399950473013786,
          -0.41107903659376566,
          -0.41248110160898954,
          -0.4125816414537077,
          -0.3704775297756503,
          -0.22144298933791398,
          -0.40723467316939116,
          -0.3817157972873641,
          -0.4738820643419341,
          -0.4122838123823518,
          0.7388650416411319,
          -0.41243844232129445,
          -0.473613021943437,
          -0.22140283187731843,
          0.025888715808352263,
          -0.2722851104419975,
          -0.38739691240511714,
          -0.21895954875582152,
          -0.4728497104198745,
          -0.4712734378268684,
          -0.17996929402718975,
          -0.4727232259006345,
          -0.4671533323355329,
          -0.4123691717580438,
          -0.41235815429107475,
          -0.4025216565604066,
          -0.47339722277065294,
          -0.22081716433523468,
          -0.14550441344949738,
          -0.41127791767121935,
          1.0329950401937957,
          -0.2205473136701513,
          -0.3204053111969968,
          -0.28133576340788646,
          -0.3184009924154404,
          -0.4268981121898297,
          -0.22101423986577937,
          -0.4836694399697852,
          -0.22064561491297677,
          -0.28187886429463016,
          -0.2826498530848378,
          0.23101546521870955,
          -0.48377215045224703,
          -0.2619331783377836,
          4.273157062352414,
          -0.2698779541167168,
          -0.42628483838443726,
          -0.19030031190196184,
          -0.473775943986009,
          0.9305134405138319,
          -0.1150465482716112,
          1.9425372724216443,
          -0.22113446192204192,
          -0.2203684739016318,
          -0.21997638972784186,
          -0.21996020125888718,
          -0.4118806553001621,
          -0.41255929875557823,
          -0.47367893917961806,
          -0.3188679973427786,
          -0.2237355001173799,
          -0.412488688290366,
          0.5740434431214638,
          -0.37956032132065265,
          -0.29992373472904216,
          -0.33518520985656997,
          -0.4124200364891676,
          -0.37435848157386814,
          -0.2189573304623684,
          -0.4122679264272668,
          -0.276682025582059,
          -0.4720248672659569,
          0.4132610715968643,
          -0.4793894648366128,
          -0.4088574856592722,
          -0.27609083580462085,
          0.16846710961556693,
          -0.4110175909363976,
          -0.11081548815561522,
          -0.47287211318763256,
          -0.28261642567305834,
          -0.2201470499132079,
          -0.39459930347222183,
          -0.4125869830368759,
          0.03603409442649654,
          -0.2825196916684091,
          -0.1902759221729664,
          -0.34849197465233955,
          -0.24170855268522176,
          -0.40676006066434206,
          0.0312011105243816,
          0.03711561223040366,
          -0.24145443219414855,
          -0.22089024417346914,
          0.18437539534629052,
          -0.2746155943282131,
          -0.47377630427614853,
          -0.5041465403147288,
          0.06597243724784617,
          -0.22120957857977974,
          -0.3198543435971303,
          -0.41262222144963745,
          -0.41259685678224606,
          -0.41221182557294767,
          -0.2813862677025734,
          -0.37270863534959814,
          0.01069519146066564,
          -0.33950013763842246,
          -0.12202038769861508,
          -0.2673373572701116,
          -0.154926582595676,
          -0.39068313992844295,
          -0.41148713748527027,
          0.016659374744503755,
          -0.3081165103765336,
          -0.28259270129181824,
          -0.49824919230929055,
          -0.3767086719046284,
          -0.29937019617421273,
          -0.2212385297369124,
          -0.40244745069933735,
          -0.3112279150434526,
          0.03660362565473388,
          -0.47309006518667124,
          -0.13772160739808714,
          0.03683632821694364,
          -0.2825518106931043,
          -0.21417420406789373,
          -0.8818646964782887,
          -0.30730202007545965,
          0.0056655180088498085,
          -0.1903003584338158,
          -0.04697999235684716,
          0.29618044851795383,
          -0.3757687490888743,
          -0.2197337468274314,
          -0.41222894777199515,
          -0.376381114463025,
          0.8119868269313218,
          -0.17934342172878,
          0.03596505503743584,
          -0.4115030689550843,
          -0.4966825615151115,
          -0.3279546964778216,
          -0.46957196423370773,
          -0.1893454434221738,
          -0.293074970252374,
          -0.1878022131046959,
          -0.4733986422800263,
          0.17391185938043835,
          0.7737183901145609,
          -0.47039180696998145,
          -0.41058466050356907,
          -0.41180410496796044,
          -0.41251968420788154,
          -0.4623913732529939,
          -0.19954143635363064,
          -0.2913945376623596,
          -0.10857151797859273,
          -0.45644730667784467,
          -0.1900119211249286,
          -0.41160544483922323,
          0.7330002660463504,
          -0.40249270262354886,
          -0.4689070757251705,
          -0.4094755955218444,
          -0.22135689270980116,
          -0.21858475467785587,
          -0.8560022627759759,
          -0.37977256018401184,
          -0.40581113897773524,
          -0.3250593892123851,
          -0.48429201481451384,
          -0.40990543434134796
         ]
        },
        {
         "hovertemplate": "Clusters=%{marker.color}<br>pc3=%{x}<br>pc2=%{y}<br>pc1=%{z}<extra></extra>",
         "legendgroup": "1",
         "marker": {
          "color": [
           1,
           1,
           1,
           1,
           1,
           1,
           1,
           1,
           1,
           1,
           1,
           1,
           1,
           1,
           1,
           1,
           1,
           1,
           1,
           1,
           1,
           1,
           1,
           1,
           1,
           1,
           1,
           1,
           1,
           1,
           1,
           1,
           1,
           1,
           1,
           1,
           1,
           1,
           1,
           1,
           1,
           1,
           1,
           1,
           1,
           1,
           1,
           1,
           1,
           1,
           1,
           1,
           1,
           1,
           1,
           1,
           1,
           1,
           1,
           1,
           1,
           1,
           1,
           1,
           1,
           1,
           1,
           1,
           1,
           1,
           1,
           1,
           1,
           1,
           1,
           1,
           1,
           1,
           1,
           1,
           1,
           1,
           1,
           1,
           1,
           1,
           1,
           1,
           1,
           1,
           1,
           1,
           1,
           1,
           1,
           1,
           1,
           1,
           1,
           1,
           1,
           1,
           1,
           1,
           1,
           1,
           1,
           1,
           1,
           1,
           1,
           1,
           1,
           1,
           1,
           1,
           1,
           1,
           1,
           1,
           1,
           1,
           1,
           1,
           1,
           1,
           1,
           1,
           1,
           1,
           1,
           1,
           1,
           1,
           1,
           1,
           1,
           1,
           1,
           1,
           1,
           1,
           1,
           1,
           1,
           1,
           1,
           1,
           1,
           1,
           1,
           1,
           1,
           1,
           1,
           1,
           1,
           1,
           1,
           1,
           1,
           1,
           1,
           1,
           1,
           1,
           1,
           1,
           1,
           1,
           1,
           1,
           1,
           1,
           1,
           1,
           1,
           1,
           1,
           1,
           1,
           1,
           1,
           1,
           1,
           1,
           1,
           1
          ],
          "coloraxis": "coloraxis",
          "symbol": "diamond"
         },
         "mode": "markers",
         "name": "1",
         "scene": "scene",
         "showlegend": true,
         "type": "scatter3d",
         "x": [
          1.0204728629380462,
          1.3357986258852732,
          1.0209292889768375,
          1.099353533010178,
          -1.2166918777703353,
          0.5138107526264094,
          -1.1061241167920013,
          0.47293697810922963,
          0.902412596469655,
          -1.4699712566890515,
          1.5396924255262634,
          0.5039368885584027,
          -0.869659799461871,
          0.3905557011347003,
          0.8238348752706279,
          -1.3436180337303951,
          -1.3426075172629575,
          -0.5935393350230352,
          -0.746486496447641,
          0.5870909065951767,
          -0.5937577094594987,
          1.8073531910791187,
          1.4360601953488115,
          -1.629344329587699,
          0.3927119248091952,
          1.53968061352803,
          -1.3426432082708082,
          -1.3415626195455093,
          0.4686619873877634,
          0.51204913835133,
          0.6264682211062768,
          -1.342429076375095,
          1.0205140841640543,
          1.5707734652567593,
          2.3280322837874956,
          1.808959555289858,
          -1.3421630952672765,
          1.2176187880976332,
          -1.1290417318227737,
          -1.5505538937236139,
          -0.869616961952938,
          -0.830173253752403,
          1.4146512065936976,
          0.4712287694061225,
          -1.3426497362534333,
          -0.8695020051639375,
          0.547541567480968,
          -0.8695793683767148,
          -0.8690057723473269,
          1.0205335868449867,
          1.0993536141208542,
          -1.0800839272065192,
          -0.8695530962092505,
          -0.869616961952938,
          1.4146754419800036,
          -1.273481825394838,
          -1.0667034104004245,
          1.414683756690385,
          0.6263474407042412,
          1.3362012303276734,
          -1.3425224878659658,
          1.0993448553753498,
          0.6263705982619797,
          -1.3425687476554382,
          1.1781433601905162,
          2.249236374224756,
          -0.8694247860592738,
          0.42935423954156876,
          -0.8688080610204492,
          -0.9430531481789741,
          -1.3383060983139543,
          -0.8695948203363728,
          -1.1057161024197653,
          -0.8300314513804392,
          1.336024592972708,
          2.5145071083171926,
          1.72995052670857,
          1.5730245288022366,
          1.4935246191744769,
          1.4188962680932704,
          1.4147466026400919,
          0.7159269409025213,
          -1.5394239003386465,
          -1.3426049651515426,
          -0.8695257612607472,
          1.4148227144227121,
          -1.2241987591810106,
          -0.6153258504258919,
          1.1447379346549909,
          0.3898930940440961,
          -0.4754564272937879,
          1.0993530829126112,
          1.2178921703375511,
          -0.790784031870743,
          -1.086991027544713,
          0.3899321373052426,
          1.0210861291658715,
          0.38990345620391176,
          -1.0792766618833416,
          0.4700781899334386,
          1.5985951503308211,
          1.414656795627837,
          1.0422008838240893,
          -0.6331086606623058,
          -1.0666928320245346,
          1.3379527569167453,
          1.884879634009889,
          0.389879877116797,
          -1.0664758365541458,
          0.39090817413618756,
          1.5329248957436452,
          -0.8301909069869327,
          -0.041936854176718226,
          1.4153543769035042,
          1.2177663586202954,
          0.5892732332519155,
          -1.5747136107852162,
          2.1703678267669653,
          -1.3335023275079128,
          -1.3423734719436868,
          1.034601973882516,
          1.4168008450555525,
          0.7840398088874991,
          1.0994571607519645,
          -1.3415668665103857,
          0.5481465315089253,
          -0.12072548334745949,
          -0.8694691686337406,
          -2.65674146818015,
          -0.8694860710911557,
          1.414669098424795,
          0.4292944729723197,
          0.6263826970905575,
          -1.342587194331274,
          0.5475178899652294,
          1.4159346331497553,
          1.3755399427322827,
          1.8128810505481252,
          -1.342546625300914,
          0.7449305067998717,
          1.4167788411122633,
          -2.2085575156753423,
          -1.0653221207390977,
          -1.1059353607623938,
          0.19458940121050525,
          0.8628622636105527,
          -1.0666902047524556,
          -1.3059331389299413,
          -1.0665211068931386,
          1.3396044184495994,
          1.296575772275265,
          1.7718174969344134,
          -1.342081480871399,
          -0.8692032804610971,
          1.3434027668272774,
          -1.6214347911842388,
          1.115641764401759,
          0.5476774253804463,
          1.4321157809806264,
          1.6513495614502491,
          1.6511751683248712,
          0.03711783049213218,
          0.9811082470524641,
          1.099878077118589,
          1.0993742176185664,
          -1.0667065617241014,
          -1.0782219463323075,
          0.39835803679268594,
          1.666342832157714,
          -1.1061052833646845,
          0.9024571764531361,
          -0.869640142008409,
          -1.080008531646129,
          -1.321334177352374,
          -2.7794673478873704,
          0.46867090842772763,
          1.0644552790064734,
          -1.0803975842032716,
          1.0205299303289148,
          -1.080402252245342,
          -1.104021892528478,
          -1.2463987083989836,
          -0.8696411880050906,
          -0.6550470614505158,
          -2.3767947516571515,
          1.417629945446559,
          1.099353536976027,
          -1.342639793373492
         ],
         "y": [
          -1.161387336487704,
          -1.5047539046846874,
          -1.1609245412591627,
          -1.2474495837237802,
          -0.8079848135194927,
          -0.47815561032346526,
          -0.9535180571248125,
          -0.5514217650579203,
          -1.0327615158345291,
          -0.6653276103255736,
          -0.4632965692149981,
          -0.47211378944639537,
          -1.2108594576075091,
          -0.4742174967462034,
          -0.9467831762194204,
          -0.6236634998948564,
          -0.6962025492216185,
          -1.510569628406272,
          -1.3291355038085775,
          -0.6896980204642862,
          -1.5107134623844822,
          -0.5732470668474848,
          -1.5459042974024202,
          -0.7897152969109449,
          -2.581880296540916,
          -0.4631356576380929,
          -0.6961991813881692,
          -0.6946404219721934,
          -0.5611811188147275,
          -0.597983547527635,
          -0.732746386776622,
          -0.69573966465714,
          -1.161683124670119,
          -1.6492157976960646,
          -1.320882273494002,
          -2.0191873808726584,
          -0.6956870673627841,
          -1.3760830449244215,
          -0.36114287747571827,
          -0.8743629810549061,
          -1.2107683824166637,
          -1.2535587144530327,
          -1.5905292652158727,
          -0.5554585188139658,
          -0.6957134414397176,
          -1.2104700594448898,
          -0.6470966905928841,
          -1.210287128728409,
          -1.2101824606933942,
          -1.161609904653779,
          -1.2474556190792687,
          -3.5076480175293048,
          -1.210602711491654,
          -1.2107683824166637,
          -1.5905293817358723,
          -0.5123047527845119,
          -0.996400061763742,
          -1.5904923567695557,
          -0.7329046655107917,
          -1.5043845125614972,
          -0.6961657943436115,
          -1.247459603884424,
          -0.7328245818383344,
          -0.6960962469578353,
          -1.3332712664995798,
          -1.235078006157802,
          -1.2102668831487493,
          -0.5183845433490136,
          -1.2086650359800641,
          -0.794871876365536,
          -0.6910620510543868,
          -1.210776632188445,
          -0.9531275882746713,
          -1.2532088373354844,
          -1.504355389763657,
          -1.2233744128152328,
          -1.9335675349436583,
          -1.7609330176273768,
          -1.676215418904468,
          -1.5801821946102486,
          -1.5904147324417444,
          -0.8004950947579234,
          -0.481222065954358,
          -0.6961914906974063,
          -1.2107351117333547,
          -1.590358848417457,
          -0.8246603867392658,
          -1.1989545424014734,
          -1.1854000139910694,
          -0.4755674938474797,
          -1.6395687334817992,
          -1.247416092462953,
          -1.375719861673741,
          -1.2965569166682709,
          -0.9038840879179646,
          -0.47552194955911,
          -1.1611198622571755,
          -0.475551674654044,
          -3.5062426088998904,
          -0.5583664777862957,
          -1.3453248325226557,
          -1.590535318207508,
          -1.1388619124069268,
          -1.468068585542463,
          -0.9963675453013476,
          -1.5011970638387861,
          -1.5980795557272736,
          -0.47556760696180794,
          -0.9961211039865913,
          -0.47356037475969104,
          -1.7191345823084425,
          -1.2536385477067848,
          -2.1113970194283302,
          -1.5894107505562018,
          -1.375588620326557,
          -0.6855313372261198,
          -1.677880610177573,
          -1.1493537783616106,
          -1.5466265927352985,
          -0.6959428486649284,
          -1.1471846274890012,
          -1.5881924263914882,
          -0.9043230977660724,
          -1.2471279205935941,
          -0.6943244100250556,
          -0.6464409585472797,
          -2.0255636849298333,
          -1.210618392534857,
          -1.7927758974776864,
          -1.210672126112975,
          -1.5904835785017957,
          -0.5184047542299159,
          -0.7328593006402426,
          -0.6961049797686045,
          -0.6471216917695409,
          -1.589309808669024,
          -1.5473127481683382,
          -1.0611957423446803,
          -0.6961729662755415,
          -0.8607607691212898,
          -1.586555137370828,
          -1.1860726995808883,
          -0.9950858001364674,
          -0.9531764717117668,
          -2.3685991789324254,
          -0.9901518138421226,
          -0.9963991093669867,
          -0.6606444148001257,
          -0.9960311549903906,
          -1.5010641204513793,
          -1.4617274275834558,
          -0.8186151586300774,
          -0.6953753268143187,
          -1.2104035795769879,
          -0.24811708349655273,
          -3.7539724565652626,
          -1.2170259579638083,
          -0.646943812381535,
          -1.5671472041234318,
          -1.8476431707158438,
          -1.847763203386092,
          -2.196902761041558,
          -1.1188266482958091,
          -1.2468424574219072,
          -1.2473681069631066,
          -0.9964327784518008,
          -3.5027586552768195,
          -0.45414721646925416,
          -1.8330096101730702,
          -0.9535260407076641,
          -1.0326361679061649,
          -1.2108467918938448,
          -3.507534002349993,
          -0.6410487674757471,
          -2.0783127575980664,
          -0.5613859241640929,
          -1.1998614141004855,
          -3.5048001902640475,
          -1.1616193898385334,
          -3.5044528464298166,
          -0.9480630012199153,
          -2.4846345887994365,
          -1.2108289352618236,
          -1.0154261988105047,
          -2.0821222374038735,
          -1.5842770404482918,
          -1.2474498788181958,
          -0.6962893517743051
         ],
         "z": [
          -0.05101253000576881,
          -0.011450356650791419,
          -0.04879804407865589,
          -0.04208461025288932,
          0.19048330548241008,
          0.26119075127958774,
          0.1281583925520779,
          -0.0784523812232979,
          -0.06639008716622619,
          1.1716192848406368,
          -0.259078307686518,
          0.28458347906613296,
          0.15863466347769928,
          -0.12794141391974148,
          -0.07558509253438458,
          0.41937791689923165,
          0.09756047388879473,
          0.19659183051035498,
          0.22176080480821825,
          -0.10729688645593875,
          0.19587691491860165,
          4.653678143255551,
          0.2043968630609157,
          0.1999634718491456,
          0.32811675178315663,
          -0.25836776323587557,
          0.09756299347473998,
          0.10486253042071053,
          -0.12328666132457766,
          -0.08978359658344032,
          -0.10293146921825448,
          0.09967848074147162,
          -0.05231185659000611,
          0.5198415876968524,
          -0.15647452292577138,
          0.05069047100052665,
          0.10000477501881097,
          -0.02666955018500223,
          1.6600960218799297,
          0.21514248214578324,
          0.1590540867013619,
          0.16458865613005064,
          -0.0012580683210823254,
          -0.09697622114620205,
          0.09971804821603339,
          0.160419098038199,
          -0.1137076878259784,
          0.1612045925453391,
          0.16186935159059992,
          -0.0519798660470256,
          -0.04211138697056061,
          0.6819593272389092,
          0.15981214212465358,
          0.1590540867013619,
          -0.0012501399649898395,
          0.9384004384088719,
          0.13327779805674211,
          -0.001082802384243204,
          -0.10367652786152776,
          -0.009669460851904897,
          0.09775334644088432,
          -0.04213213715162751,
          -0.10331277988233958,
          0.09804610788009235,
          -0.032119923292353164,
          -0.16651867720634034,
          0.1613483806106912,
          -0.12874612043037761,
          0.1686776311440638,
          0.8895869472343604,
          0.12189011838965964,
          0.1590251629670947,
          0.13003478229854082,
          0.16619199175419533,
          -0.0096016738583011,
          0.7052439747663015,
          0.03975297058067673,
          0.024453419857534135,
          0.009337676480139664,
          0.046176024064540896,
          -0.0007161460357309069,
          -0.008980767620477705,
          0.07459711513281071,
          0.09761047779788186,
          0.1592336354596776,
          -0.00044142242474825335,
          0.1138055458420847,
          1.0274800599046687,
          0.24931392765362703,
          -0.1341681056472221,
          0.2103193999983575,
          -0.04193602148503282,
          -0.024961263032899018,
          0.16918101813445147,
          0.3552667997110071,
          -0.13395222229482048,
          -0.04961087071132442,
          -0.13409423630561543,
          0.6884825320171428,
          -0.11029238508895067,
          1.1518780260796646,
          -0.0012830038945552734,
          0.05660229296689218,
          0.18972865663604407,
          0.13342590077092367,
          0.005097434109248808,
          1.4019217543041196,
          -0.13417321402987892,
          0.13459604848393825,
          -0.12490008630901998,
          0.014284928129998037,
          0.16422793855950843,
          0.26603450411402707,
          0.003954670301115312,
          -0.024422221849110446,
          -0.08803076055438708,
          0.4190213635007245,
          -0.17694362700449878,
          0.2865397908467047,
          0.09879545197500778,
          0.016990232091828407,
          0.009869729523429844,
          -0.08270887177059094,
          -0.04061988574462544,
          0.10626456261335959,
          -0.11058454207285143,
          0.25612198375588496,
          0.15977174565429736,
          0.47543024776881704,
          0.15952720690481195,
          -0.0010489235322883705,
          -0.1288567117745228,
          -0.10346276106114187,
          0.0980008940812555,
          -0.11382697765949726,
          0.004605201345435828,
          -0.004783956489611261,
          2.488465188246679,
          0.09771308182556937,
          -0.08469821407006861,
          0.017133796393141856,
          2.526702211991339,
          0.13959623263257398,
          0.12974126502458125,
          0.29715077465697626,
          -0.07276405152654741,
          0.1332866300359026,
          0.2682665175180743,
          0.13497976495225572,
          0.006263471372819091,
          -0.01585916249791021,
          3.3696998499819997,
          0.10141775860789555,
          0.16081846026664917,
          -0.28097427189348967,
          0.8164284605515643,
          0.09871297712148024,
          -0.11298136026729234,
          0.10867557856887768,
          0.03031014250645865,
          0.02971626346763397,
          0.2774946898745308,
          -0.05753945961424715,
          -0.03920536424558834,
          -0.041715536919342086,
          0.13313139434979346,
          0.7043234683623962,
          -0.036083688225491094,
          0.10052761049722832,
          0.1281294981693676,
          -0.06581784028582098,
          0.1586977665296938,
          0.6824919806898294,
          0.3499300327636595,
          0.5094863234495205,
          -0.12419315982763074,
          -0.024726358145417633,
          0.6944981506614278,
          -0.05202326711906791,
          0.6960391912515747,
          0.15311868698455533,
          0.4773811828414771,
          0.1587767091399889,
          0.12009009854822204,
          0.560749992907244,
          0.027548172381721907,
          -0.04208591948146201,
          0.09716370741822854
         ]
        },
        {
         "hovertemplate": "Clusters=%{marker.color}<br>pc3=%{x}<br>pc2=%{y}<br>pc1=%{z}<extra></extra>",
         "legendgroup": "0",
         "marker": {
          "color": [
           0,
           0
          ],
          "coloraxis": "coloraxis",
          "symbol": "square"
         },
         "mode": "markers",
         "name": "0",
         "scene": "scene",
         "showlegend": true,
         "type": "scatter3d",
         "x": [
          3.586890143509476,
          -0.7858800338600113
         ],
         "y": [
          0.7022773521797282,
          3.9314042365811197
         ],
         "z": [
          10.938854473739445,
          25.459357630637204
         ]
        }
       ],
       "layout": {
        "autosize": true,
        "coloraxis": {
         "colorbar": {
          "title": {
           "text": "Clusters"
          }
         },
         "colorscale": [
          [
           0,
           "#0d0887"
          ],
          [
           0.1111111111111111,
           "#46039f"
          ],
          [
           0.2222222222222222,
           "#7201a8"
          ],
          [
           0.3333333333333333,
           "#9c179e"
          ],
          [
           0.4444444444444444,
           "#bd3786"
          ],
          [
           0.5555555555555556,
           "#d8576b"
          ],
          [
           0.6666666666666666,
           "#ed7953"
          ],
          [
           0.7777777777777778,
           "#fb9f3a"
          ],
          [
           0.8888888888888888,
           "#fdca26"
          ],
          [
           1,
           "#f0f921"
          ]
         ]
        },
        "legend": {
         "title": {
          "text": "Clusters"
         },
         "tracegroupgap": 0,
         "x": 0,
         "y": 1
        },
        "margin": {
         "t": 60
        },
        "scene": {
         "aspectmode": "auto",
         "aspectratio": {
          "x": 1,
          "y": 1,
          "z": 1
         },
         "domain": {
          "x": [
           0,
           1
          ],
          "y": [
           0,
           1
          ]
         },
         "xaxis": {
          "title": {
           "text": "pc3"
          },
          "type": "linear"
         },
         "yaxis": {
          "title": {
           "text": "pc2"
          },
          "type": "linear"
         },
         "zaxis": {
          "title": {
           "text": "pc1"
          },
          "type": "linear"
         }
        },
        "template": {
         "data": {
          "bar": [
           {
            "error_x": {
             "color": "#2a3f5f"
            },
            "error_y": {
             "color": "#2a3f5f"
            },
            "marker": {
             "line": {
              "color": "#E5ECF6",
              "width": 0.5
             }
            },
            "type": "bar"
           }
          ],
          "barpolar": [
           {
            "marker": {
             "line": {
              "color": "#E5ECF6",
              "width": 0.5
             }
            },
            "type": "barpolar"
           }
          ],
          "carpet": [
           {
            "aaxis": {
             "endlinecolor": "#2a3f5f",
             "gridcolor": "white",
             "linecolor": "white",
             "minorgridcolor": "white",
             "startlinecolor": "#2a3f5f"
            },
            "baxis": {
             "endlinecolor": "#2a3f5f",
             "gridcolor": "white",
             "linecolor": "white",
             "minorgridcolor": "white",
             "startlinecolor": "#2a3f5f"
            },
            "type": "carpet"
           }
          ],
          "choropleth": [
           {
            "colorbar": {
             "outlinewidth": 0,
             "ticks": ""
            },
            "type": "choropleth"
           }
          ],
          "contour": [
           {
            "colorbar": {
             "outlinewidth": 0,
             "ticks": ""
            },
            "colorscale": [
             [
              0,
              "#0d0887"
             ],
             [
              0.1111111111111111,
              "#46039f"
             ],
             [
              0.2222222222222222,
              "#7201a8"
             ],
             [
              0.3333333333333333,
              "#9c179e"
             ],
             [
              0.4444444444444444,
              "#bd3786"
             ],
             [
              0.5555555555555556,
              "#d8576b"
             ],
             [
              0.6666666666666666,
              "#ed7953"
             ],
             [
              0.7777777777777778,
              "#fb9f3a"
             ],
             [
              0.8888888888888888,
              "#fdca26"
             ],
             [
              1,
              "#f0f921"
             ]
            ],
            "type": "contour"
           }
          ],
          "contourcarpet": [
           {
            "colorbar": {
             "outlinewidth": 0,
             "ticks": ""
            },
            "type": "contourcarpet"
           }
          ],
          "heatmap": [
           {
            "colorbar": {
             "outlinewidth": 0,
             "ticks": ""
            },
            "colorscale": [
             [
              0,
              "#0d0887"
             ],
             [
              0.1111111111111111,
              "#46039f"
             ],
             [
              0.2222222222222222,
              "#7201a8"
             ],
             [
              0.3333333333333333,
              "#9c179e"
             ],
             [
              0.4444444444444444,
              "#bd3786"
             ],
             [
              0.5555555555555556,
              "#d8576b"
             ],
             [
              0.6666666666666666,
              "#ed7953"
             ],
             [
              0.7777777777777778,
              "#fb9f3a"
             ],
             [
              0.8888888888888888,
              "#fdca26"
             ],
             [
              1,
              "#f0f921"
             ]
            ],
            "type": "heatmap"
           }
          ],
          "heatmapgl": [
           {
            "colorbar": {
             "outlinewidth": 0,
             "ticks": ""
            },
            "colorscale": [
             [
              0,
              "#0d0887"
             ],
             [
              0.1111111111111111,
              "#46039f"
             ],
             [
              0.2222222222222222,
              "#7201a8"
             ],
             [
              0.3333333333333333,
              "#9c179e"
             ],
             [
              0.4444444444444444,
              "#bd3786"
             ],
             [
              0.5555555555555556,
              "#d8576b"
             ],
             [
              0.6666666666666666,
              "#ed7953"
             ],
             [
              0.7777777777777778,
              "#fb9f3a"
             ],
             [
              0.8888888888888888,
              "#fdca26"
             ],
             [
              1,
              "#f0f921"
             ]
            ],
            "type": "heatmapgl"
           }
          ],
          "histogram": [
           {
            "marker": {
             "colorbar": {
              "outlinewidth": 0,
              "ticks": ""
             }
            },
            "type": "histogram"
           }
          ],
          "histogram2d": [
           {
            "colorbar": {
             "outlinewidth": 0,
             "ticks": ""
            },
            "colorscale": [
             [
              0,
              "#0d0887"
             ],
             [
              0.1111111111111111,
              "#46039f"
             ],
             [
              0.2222222222222222,
              "#7201a8"
             ],
             [
              0.3333333333333333,
              "#9c179e"
             ],
             [
              0.4444444444444444,
              "#bd3786"
             ],
             [
              0.5555555555555556,
              "#d8576b"
             ],
             [
              0.6666666666666666,
              "#ed7953"
             ],
             [
              0.7777777777777778,
              "#fb9f3a"
             ],
             [
              0.8888888888888888,
              "#fdca26"
             ],
             [
              1,
              "#f0f921"
             ]
            ],
            "type": "histogram2d"
           }
          ],
          "histogram2dcontour": [
           {
            "colorbar": {
             "outlinewidth": 0,
             "ticks": ""
            },
            "colorscale": [
             [
              0,
              "#0d0887"
             ],
             [
              0.1111111111111111,
              "#46039f"
             ],
             [
              0.2222222222222222,
              "#7201a8"
             ],
             [
              0.3333333333333333,
              "#9c179e"
             ],
             [
              0.4444444444444444,
              "#bd3786"
             ],
             [
              0.5555555555555556,
              "#d8576b"
             ],
             [
              0.6666666666666666,
              "#ed7953"
             ],
             [
              0.7777777777777778,
              "#fb9f3a"
             ],
             [
              0.8888888888888888,
              "#fdca26"
             ],
             [
              1,
              "#f0f921"
             ]
            ],
            "type": "histogram2dcontour"
           }
          ],
          "mesh3d": [
           {
            "colorbar": {
             "outlinewidth": 0,
             "ticks": ""
            },
            "type": "mesh3d"
           }
          ],
          "parcoords": [
           {
            "line": {
             "colorbar": {
              "outlinewidth": 0,
              "ticks": ""
             }
            },
            "type": "parcoords"
           }
          ],
          "pie": [
           {
            "automargin": true,
            "type": "pie"
           }
          ],
          "scatter": [
           {
            "marker": {
             "colorbar": {
              "outlinewidth": 0,
              "ticks": ""
             }
            },
            "type": "scatter"
           }
          ],
          "scatter3d": [
           {
            "line": {
             "colorbar": {
              "outlinewidth": 0,
              "ticks": ""
             }
            },
            "marker": {
             "colorbar": {
              "outlinewidth": 0,
              "ticks": ""
             }
            },
            "type": "scatter3d"
           }
          ],
          "scattercarpet": [
           {
            "marker": {
             "colorbar": {
              "outlinewidth": 0,
              "ticks": ""
             }
            },
            "type": "scattercarpet"
           }
          ],
          "scattergeo": [
           {
            "marker": {
             "colorbar": {
              "outlinewidth": 0,
              "ticks": ""
             }
            },
            "type": "scattergeo"
           }
          ],
          "scattergl": [
           {
            "marker": {
             "colorbar": {
              "outlinewidth": 0,
              "ticks": ""
             }
            },
            "type": "scattergl"
           }
          ],
          "scattermapbox": [
           {
            "marker": {
             "colorbar": {
              "outlinewidth": 0,
              "ticks": ""
             }
            },
            "type": "scattermapbox"
           }
          ],
          "scatterpolar": [
           {
            "marker": {
             "colorbar": {
              "outlinewidth": 0,
              "ticks": ""
             }
            },
            "type": "scatterpolar"
           }
          ],
          "scatterpolargl": [
           {
            "marker": {
             "colorbar": {
              "outlinewidth": 0,
              "ticks": ""
             }
            },
            "type": "scatterpolargl"
           }
          ],
          "scatterternary": [
           {
            "marker": {
             "colorbar": {
              "outlinewidth": 0,
              "ticks": ""
             }
            },
            "type": "scatterternary"
           }
          ],
          "surface": [
           {
            "colorbar": {
             "outlinewidth": 0,
             "ticks": ""
            },
            "colorscale": [
             [
              0,
              "#0d0887"
             ],
             [
              0.1111111111111111,
              "#46039f"
             ],
             [
              0.2222222222222222,
              "#7201a8"
             ],
             [
              0.3333333333333333,
              "#9c179e"
             ],
             [
              0.4444444444444444,
              "#bd3786"
             ],
             [
              0.5555555555555556,
              "#d8576b"
             ],
             [
              0.6666666666666666,
              "#ed7953"
             ],
             [
              0.7777777777777778,
              "#fb9f3a"
             ],
             [
              0.8888888888888888,
              "#fdca26"
             ],
             [
              1,
              "#f0f921"
             ]
            ],
            "type": "surface"
           }
          ],
          "table": [
           {
            "cells": {
             "fill": {
              "color": "#EBF0F8"
             },
             "line": {
              "color": "white"
             }
            },
            "header": {
             "fill": {
              "color": "#C8D4E3"
             },
             "line": {
              "color": "white"
             }
            },
            "type": "table"
           }
          ]
         },
         "layout": {
          "annotationdefaults": {
           "arrowcolor": "#2a3f5f",
           "arrowhead": 0,
           "arrowwidth": 1
          },
          "autotypenumbers": "strict",
          "coloraxis": {
           "colorbar": {
            "outlinewidth": 0,
            "ticks": ""
           }
          },
          "colorscale": {
           "diverging": [
            [
             0,
             "#8e0152"
            ],
            [
             0.1,
             "#c51b7d"
            ],
            [
             0.2,
             "#de77ae"
            ],
            [
             0.3,
             "#f1b6da"
            ],
            [
             0.4,
             "#fde0ef"
            ],
            [
             0.5,
             "#f7f7f7"
            ],
            [
             0.6,
             "#e6f5d0"
            ],
            [
             0.7,
             "#b8e186"
            ],
            [
             0.8,
             "#7fbc41"
            ],
            [
             0.9,
             "#4d9221"
            ],
            [
             1,
             "#276419"
            ]
           ],
           "sequential": [
            [
             0,
             "#0d0887"
            ],
            [
             0.1111111111111111,
             "#46039f"
            ],
            [
             0.2222222222222222,
             "#7201a8"
            ],
            [
             0.3333333333333333,
             "#9c179e"
            ],
            [
             0.4444444444444444,
             "#bd3786"
            ],
            [
             0.5555555555555556,
             "#d8576b"
            ],
            [
             0.6666666666666666,
             "#ed7953"
            ],
            [
             0.7777777777777778,
             "#fb9f3a"
            ],
            [
             0.8888888888888888,
             "#fdca26"
            ],
            [
             1,
             "#f0f921"
            ]
           ],
           "sequentialminus": [
            [
             0,
             "#0d0887"
            ],
            [
             0.1111111111111111,
             "#46039f"
            ],
            [
             0.2222222222222222,
             "#7201a8"
            ],
            [
             0.3333333333333333,
             "#9c179e"
            ],
            [
             0.4444444444444444,
             "#bd3786"
            ],
            [
             0.5555555555555556,
             "#d8576b"
            ],
            [
             0.6666666666666666,
             "#ed7953"
            ],
            [
             0.7777777777777778,
             "#fb9f3a"
            ],
            [
             0.8888888888888888,
             "#fdca26"
            ],
            [
             1,
             "#f0f921"
            ]
           ]
          },
          "colorway": [
           "#636efa",
           "#EF553B",
           "#00cc96",
           "#ab63fa",
           "#FFA15A",
           "#19d3f3",
           "#FF6692",
           "#B6E880",
           "#FF97FF",
           "#FECB52"
          ],
          "font": {
           "color": "#2a3f5f"
          },
          "geo": {
           "bgcolor": "white",
           "lakecolor": "white",
           "landcolor": "#E5ECF6",
           "showlakes": true,
           "showland": true,
           "subunitcolor": "white"
          },
          "hoverlabel": {
           "align": "left"
          },
          "hovermode": "closest",
          "mapbox": {
           "style": "light"
          },
          "paper_bgcolor": "white",
          "plot_bgcolor": "#E5ECF6",
          "polar": {
           "angularaxis": {
            "gridcolor": "white",
            "linecolor": "white",
            "ticks": ""
           },
           "bgcolor": "#E5ECF6",
           "radialaxis": {
            "gridcolor": "white",
            "linecolor": "white",
            "ticks": ""
           }
          },
          "scene": {
           "xaxis": {
            "backgroundcolor": "#E5ECF6",
            "gridcolor": "white",
            "gridwidth": 2,
            "linecolor": "white",
            "showbackground": true,
            "ticks": "",
            "zerolinecolor": "white"
           },
           "yaxis": {
            "backgroundcolor": "#E5ECF6",
            "gridcolor": "white",
            "gridwidth": 2,
            "linecolor": "white",
            "showbackground": true,
            "ticks": "",
            "zerolinecolor": "white"
           },
           "zaxis": {
            "backgroundcolor": "#E5ECF6",
            "gridcolor": "white",
            "gridwidth": 2,
            "linecolor": "white",
            "showbackground": true,
            "ticks": "",
            "zerolinecolor": "white"
           }
          },
          "shapedefaults": {
           "line": {
            "color": "#2a3f5f"
           }
          },
          "ternary": {
           "aaxis": {
            "gridcolor": "white",
            "linecolor": "white",
            "ticks": ""
           },
           "baxis": {
            "gridcolor": "white",
            "linecolor": "white",
            "ticks": ""
           },
           "bgcolor": "#E5ECF6",
           "caxis": {
            "gridcolor": "white",
            "linecolor": "white",
            "ticks": ""
           }
          },
          "title": {
           "x": 0.05
          },
          "xaxis": {
           "automargin": true,
           "gridcolor": "white",
           "linecolor": "white",
           "ticks": "",
           "title": {
            "standoff": 15
           },
           "zerolinecolor": "white",
           "zerolinewidth": 2
          },
          "yaxis": {
           "automargin": true,
           "gridcolor": "white",
           "linecolor": "white",
           "ticks": "",
           "title": {
            "standoff": 15
           },
           "zerolinecolor": "white",
           "zerolinewidth": 2
          }
         }
        }
       }
      },
      "image/png": "[encoded data removed]",
      "text/html": [
       "<div>                            <div id=\"ca9a024f-401f-4135-bd52-0ab58f72c07e\" class=\"plotly-graph-div\" style=\"height:525px; width:100%;\"></div>            <script type=\"text/javascript\">                require([\"plotly\"], function(Plotly) {                    window.PLOTLYENV=window.PLOTLYENV || {};                                    if (document.getElementById(\"ca9a024f-401f-4135-bd52-0ab58f72c07e\")) {                    Plotly.newPlot(                        \"ca9a024f-401f-4135-bd52-0ab58f72c07e\",                        [{\"hovertemplate\": \"Clusters=%{marker.color}<br>pc3=%{x}<br>pc2=%{y}<br>pc1=%{z}<extra></extra>\", \"legendgroup\": \"2\", \"marker\": {\"color\": [2, 2, 2, 2, 2, 2, 2, 2, 2, 2, 2, 2, 2, 2, 2, 2, 2, 2, 2, 2, 2, 2, 2, 2, 2, 2, 2, 2, 2, 2, 2, 2, 2, 2, 2, 2, 2, 2, 2, 2, 2, 2, 2, 2, 2, 2, 2, 2, 2, 2, 2, 2, 2, 2, 2, 2, 2, 2, 2, 2, 2, 2, 2, 2, 2, 2, 2, 2, 2, 2, 2, 2, 2, 2, 2, 2, 2, 2, 2, 2, 2, 2, 2, 2, 2, 2, 2, 2, 2, 2, 2, 2, 2, 2, 2, 2, 2, 2, 2, 2, 2, 2, 2, 2, 2, 2, 2, 2, 2, 2, 2, 2, 2, 2, 2, 2, 2, 2, 2, 2, 2, 2, 2, 2, 2, 2, 2, 2, 2, 2, 2, 2, 2, 2, 2, 2, 2, 2, 2, 2, 2, 2, 2, 2, 2, 2, 2, 2, 2, 2, 2, 2, 2, 2, 2, 2, 2, 2, 2, 2, 2, 2, 2, 2, 2, 2, 2, 2, 2, 2, 2, 2, 2, 2, 2, 2, 2, 2, 2, 2, 2, 2, 2, 2, 2, 2, 2, 2, 2, 2, 2, 2, 2, 2, 2, 2, 2, 2, 2, 2, 2, 2, 2, 2, 2, 2, 2, 2, 2, 2, 2, 2, 2, 2, 2, 2, 2, 2, 2, 2, 2, 2, 2, 2, 2, 2, 2, 2, 2, 2, 2, 2, 2, 2, 2, 2, 2, 2, 2, 2, 2, 2, 2, 2, 2, 2, 2, 2, 2, 2, 2, 2, 2, 2, 2, 2, 2, 2, 2, 2, 2, 2, 2, 2, 2, 2, 2, 2, 2, 2, 2, 2, 2, 2, 2, 2, 2, 2, 2, 2, 2, 2, 2, 2, 2, 2, 2, 2, 2, 2, 2, 2, 2, 2, 2, 2, 2, 2, 2, 2, 2, 2, 2, 2, 2, 2, 2, 2, 2, 2, 2, 2, 2, 2, 2, 2, 2, 2, 2, 2, 2, 2, 2, 2, 2, 2, 2, 2, 2, 2, 2, 2, 2, 2, 2, 2, 2, 2, 2, 2, 2, 2, 2], \"coloraxis\": \"coloraxis\", \"symbol\": \"circle\"}, \"mode\": \"markers\", \"name\": \"2\", \"scene\": \"scene\", \"showlegend\": true, \"type\": \"scatter3d\", \"x\": [0.35722699423776216, 0.35833556490574026, 0.48727300119108813, -0.04368780606873772, -0.2800440795954816, -0.11570799958504911, 0.5937659899207651, -0.28017846026634285, -0.27265626378106395, -0.7531633047083452, -0.28008524341350505, 0.35726262944621023, 0.35719786757006244, 0.5548594573286156, -0.04337120096347365, -0.27968610083879786, -0.28000673212929744, 0.35722135319227116, -0.003792198658203105, -0.2801206510233878, 0.35722807954466596, -0.280178526806962, 0.35722912121344264, -0.28019550458669235, -0.7531673720708232, 0.0010754096210557076, -0.2514402301697991, -0.280179154353495, -0.27958193962921546, -0.2801551678949633, -0.7052122729334478, -0.2801994823788596, -0.2771749968014988, -0.2800746460549886, -0.2800686615821258, 0.3574838658662427, -1.8157013253096814, -0.08734912386835625, -0.11570839469141046, -0.04368795101655687, -0.2796535969470726, -0.28018125643489117, -0.28022097925870926, 0.4362720510542289, -0.28013427605165814, -0.28020238356934973, 0.5989052555480006, -0.19458886207111387, -0.24771187803204794, -0.04368765980990509, -0.27950633428545213, -0.19458652750681862, 1.0272934778114586, 0.3581301594467402, 0.35743672422382955, 0.35588322637034425, -0.2801782464707881, -0.2796813004160834, -0.2801136932010732, -1.815626709598577, -0.11575542680289523, -0.041827344995817466, -0.043632411836758395, -0.11573374759536038, -0.043642367016548805, -0.043558781675415006, -0.04373211847691877, -0.7532063428902503, 0.3606561341699176, 0.35744216108040816, -0.2801749076573235, -0.49270895180397056, -0.27965213743178274, -0.1157437867072, -0.04363658827016554, -0.1945873497200716, 0.35939490671827934, -0.2799983863275968, 0.5938642917612914, -0.2765893992121685, -0.27986832902188935, -0.19455982912096648, -0.28021815771488684, -0.2798828928804073, 0.35722692686541374, -0.19456441111233924, -0.27808549667137034, -0.5145733565188668, -1.8155810146320417, 0.03509745913166578, -0.2802169976435925, 0.35726995613379325, -0.2586882318937768, -0.28022254569677885, -0.04368755558431462, -0.08015182267070053, -0.11575549830884578, 1.073674964997916, -0.7531359995500102, -0.043616417259063865, 0.7119744226728852, -0.7531613460974014, -1.3906571612653216, -0.2797681490879814, -0.27968365645945487, -0.1944781541889632, 0.5958909280588282, -0.2733596666689552, -0.7531722197549744, -0.04368794680531945, -0.2797768042717394, 0.5937658807882209, -0.05852129565950174, -0.2800443911499868, 0.5937408048900403, 0.002301417491058145, 1.0662390650733498, 0.3573179189020316, -0.7530256808411733, -0.2798577807276899, -0.7925700880827373, -0.11492082265055008, 0.593804992893579, -0.2801806717474032, -0.7531525460219884, -0.11559849444545987, 0.5942025100839677, 0.5948591573725788, 1.0668925262080058, -0.1154542640439035, -0.280222552147219, 0.3615391159003601, 0.35732319819920155, 0.3574398799606412, -1.8940200790647368, -0.753151983306775, -1.8142257254726224, 3.6495412640077354, -0.11564740753335326, 0.3574207381805174, 0.5937638470102153, -0.04371176630514488, -0.11574893497994135, 0.3572725444150993, 0.35722690522766437, -0.27979428120223165, -0.04370993530965517, 0.7889052998403857, -0.28015913327523156, 0.5574843176965688, 0.35722545752212054, -0.11250551703630414, -1.894449466695422, -0.23378814887934615, 0.5311614669442297, -0.11569102883749276, -0.25848590088389645, -0.7521567100090379, -0.19696327819664802, -0.11574722573763044, 0.35731002358443503, 0.3573182191028757, -0.7527132696692104, -0.11562522536769453, 0.5937611304570106, 0.35729783117520286, 1.371792807212223, 0.3572873777221069, 0.35864148128709694, -0.11574459278579907, 0.35753976636885476, 0.3572551060036164, 0.3572340529926964, 0.6727186665552045, -0.28021800271062397, 0.3583132436982395, 0.5937637585130516, -0.11573534621769045, 0.35726994618666613, -0.5357612866939483, 0.3572746783568762, 0.5699447880838374, -0.2802167002957676, -1.8944238677566445, -0.7510329842122161, 0.35935585227126327, -0.2800109714874059, -0.11553856266304154, -0.11552128342585527, -0.2715280179119644, -0.11553894580353834, -0.11467365775270094, 0.3572728779648885, 0.3572891378213484, 0.35940166737988344, -0.11566922817990088, -0.28014754781679824, -0.038356315511507415, 0.35745435820054294, -0.07955731234737252, -0.28006791311669366, 1.066722184509917, -0.7529904286357935, 1.0669587071538276, 0.23919854609687394, -0.2801827744846898, -0.19452156677184396, -0.2800609991468734, -0.753076999511126, -0.7531653060202167, 0.46554719988119503, -0.1945457395859775, -0.5955006272421036, 0.14724124156684398, -0.7508197358256359, 0.23919668839893735, -0.0436878092047302, -0.11573532964819751, 1.172109567419691, -0.2573895771380562, -0.28677900815703, -0.28018081536868555, -0.2800419900463527, -0.2800078913242571, -0.2800079403615469, 0.35733103193083143, 0.35723593535246617, -0.11569704502176088, 1.028146933509862, -0.7494157280513956, 0.3572611570780217, 0.40937311127455506, 0.5939314558722858, 1.0692845690246229, 0.9485851240370119, 0.35727256423005344, 0.6335669390802182, -0.280010978206948, 0.3572584041284313, -0.7524531754462365, -0.11544402362620677, 1.130639752240738, -0.1941375594150613, 0.3576785933742129, -0.752013886203256, 0.46573666819064585, 0.35755281264213573, -0.26953209489338176, -0.11564876481298732, -0.7531634224166358, -0.28008676877718863, 0.35915712936678745, 0.35723557813224316, -1.8155789186599534, -0.7531566581576596, -0.04368972238864948, 0.14480818464357684, -0.43784879307527114, 0.35772075876565623, -0.2589352832484181, -1.8927255886327587, 0.13113324725721995, -0.28013744713620514, -0.24085851579577544, -0.7521286249412601, -0.1157011608887949, -0.3521161779093587, -1.7346491188807553, -0.28017838242888665, 1.0668087315558008, 0.3572334794744322, 0.35723781344151795, 0.35729178213012575, -0.7529902756507431, 0.6335619414496338, -2.012602735407437, 0.3683013179381375, -1.6271031889542753, -0.6349215737125555, 0.3789413470020658, 0.515103747881284, 0.35740867855386715, -1.9730908584643212, -0.950234661696685, -0.7531608478010589, -0.3126536173250209, 0.6331443381291466, 1.2244749968539923, -0.28017585718423904, 0.3594014425992492, -0.9892414888284945, -1.815505660247425, -0.11564810460383547, -0.03926205088343821, -1.8154071221280885, -0.7531521500638865, 0.39632293865377327, 2.177470414374997, -0.9500652746406434, -2.0520071731091103, -0.043687809063778255, 0.6499070102905974, -1.8164132542188158, 0.6332492225581945, -0.27996451832132635, 0.3572719853937939, 0.6331739678886676, 0.5184812764624736, 0.035314628026091664, -1.8155815765496277, 0.3574087268126682, -0.3511684113165202, 0.5257201951637613, -0.11484276337354708, -0.04359586943424956, -0.8320321781768566, -0.043371182485880205, -0.11569127788224982, 0.4326391718481659, -0.06688871910235833, -0.11576654804217851, 0.3576617712424801, 0.3573440415338406, 0.35722655267313846, -0.11468808243786409, -0.2780849316466308, 0.38001634888433256, 0.5933090763405728, -0.11360338779040004, -0.0436423693787238, 0.3572568643089501, -0.172845128670292, 0.3580783395387899, -0.11531232226793141, 0.35757019571001425, -0.2802132225959963, -0.2798312639761456, 1.1591814055283354, 0.5939431257766236, 0.35786785155549883, 1.0274162229107475, -0.19458557825840817, 0.35776998377628055], \"y\": [0.8231502329380378, 0.8278725869093417, 2.18674766297852, -0.003828542785742223, 0.253751819085037, 1.3378144202429378, 0.565907619749758, 0.2534234505957652, 1.510092319493836, 0.7680266223431055, 0.2535362064095159, 0.8232474957872364, 0.8253175090988903, 1.0642166587568611, -0.0029949643802057425, 0.25432712060546864, 0.253595688923216, 0.8235699699928399, -0.04540942244167051, 0.2535752061188511, 0.8231514337380175, 0.2534284018094465, 0.8231558884876498, 0.25340322284841005, 0.7680014136019693, 0.10444278504558216, 0.32463366329943577, 0.25347509685110664, 0.254738995310188, 0.25349350277075255, -0.12492591141269652, 0.2533870557454946, 0.2593747403522023, 0.25373123873219755, 0.2536540746076799, 0.8237080933909773, -0.1759799486209737, 0.7536711406488641, 1.3378438196691653, -0.0038177573792475506, 0.2544364481557626, 0.2534675820603939, 0.25336604985815403, 0.7378064820353704, 0.2535782472414147, 0.2534003453435479, 0.5764695713811213, 1.4237270564499227, 0.2931036196862475, -0.0038394257432957774, 0.25521265598130183, 1.4235533441094443, 0.0941710293176759, 0.8247966056615254, 0.8236094273267258, 0.9231385030039213, 0.25340754230560597, 0.25396992647433275, 0.2535548408485828, -0.1815320209451557, 1.3377371674583292, -0.00013752049617867242, -0.003686267519872011, 1.3377631611013987, -0.0037671172073288684, -0.0037573329701065645, -0.003932818611360808, 0.767950479005586, 0.830277064517466, 0.8235327335304096, 0.25348696157095085, 0.06353838202964494, 0.25432784724145635, 1.337772482767221, -0.0037053223084312424, 1.4236145240858686, 0.8257665987769385, 0.2538140001557913, 0.5661337922775835, 0.2583225075540039, 0.25417981371667336, 1.4235338868608136, 0.25336560232505895, 0.25421664792289506, 0.8231552391547811, 1.4235469710850932, 0.25817419171869094, 0.5152182606071865, -0.1816535660059029, -0.0896768094396743, 0.2534011367042558, 0.8232320457378453, 0.2902002568576403, 0.25336285352173, -0.0038471810539103266, 0.44762761045458754, 1.3377423242084843, 1.3075583694397117, 0.7681259441633169, -0.0037702126500354263, 0.4372499444648761, 0.7680448126110786, 0.19815668381850443, 0.25391444918848527, 0.25414523704905784, 1.4236858225230435, 0.5681152422404522, 1.5093678180287302, 0.7680342677312769, -0.0038180707327539537, 0.254519129013692, 0.56591574018136, 1.4313061035354038, 0.2537750015102984, 0.5658964340897048, 0.11588193748403866, 0.0856142816037447, 0.8232696127399541, 0.7682775965276409, 0.2537170952016339, 0.8109381648991769, 1.3385835152244605, 0.5659561618482802, 0.25342407611275214, 0.768045722103601, 1.338354466065759, 0.5663311537871176, 0.5670221950833284, 0.051744513459326125, 1.3381138553525544, 0.25336283678896654, 0.8301467076536247, 0.8232592854887139, 0.8237024691227982, -0.09550110908744501, 0.7680038510885516, -0.17807677918995343, 1.0324617131933744, 1.3378958262860103, 0.8234875043914109, 0.5659031430110733, -0.0038921769454254027, 1.337745739191981, 0.823203382932395, 0.8231568491957107, 0.25418028466731823, -0.003880507079342932, 1.2118255845874752, 0.2534607056464932, 0.760628474856797, 0.8232645713599044, 1.3418073262245016, -0.09592667774812526, 1.4669361299055028, 0.6711619749115972, 1.3378630724273506, 0.2751450307711921, 0.7718126284540298, 1.739743813428881, 1.3377584408059784, 0.8232899025232627, 0.8232472751280278, 0.7686371080963751, 1.337884559301126, 0.5659413503862843, 0.8232889631904005, 2.6676683867183573, 0.823247151361437, 0.8245613972232684, 1.3377504980137163, 0.8234828790531866, 0.8231895291021772, 0.8231685437004563, 0.48036184878123434, 0.2533682133501789, 0.8242877764413798, 0.5659097279869146, 1.3377762151109718, 0.8232327858925371, 0.9809386123455409, 0.8231975984170937, 1.0136879594869603, 0.253377152926779, -0.09586027282395757, 0.7701616062113609, 0.8286725968731047, 0.2539111348591685, 1.3379932170042312, 1.3383467714902844, 0.2620244780209824, 1.3380217260637364, 1.3392079362793161, 0.8232133365050956, 0.8232145413304699, 0.8252635454436629, 1.3378801930346844, 0.2535035945198615, 0.0058395028800894465, 0.8234448010285295, 1.8379888291308644, 0.2535581049325563, 0.051305183409998165, 0.7682773723989024, 0.051737912760757676, 0.952031333622569, 0.25346198548965587, 1.4236375379469755, 0.2535354291143204, 0.7681618817779133, 0.7679952165701531, 0.9595806604553399, 1.4236163086071978, 0.5965224465433941, 1.23182218822301, 0.7706868638772949, 0.9521695628660817, -0.003828309440019532, 1.3378001076534343, 2.616751902209617, 0.27553296475677214, 0.7411204049274028, 0.2534347628131189, 0.2535963380513931, 0.25368194333476396, 0.2536855921451281, 0.8233187667671852, 0.8231734266355989, 1.3378189450181668, 0.09561966192887096, 0.780966037784439, 0.8231873460972277, 1.0412238922622257, 0.5663818920216993, 0.05571571341668869, 0.18007159734465203, 0.8232019085236204, 0.5235015954427151, 0.25391163485284707, 0.8232372684002346, 0.7692830424244174, 1.338171518909361, 0.2114806554506679, 1.4245710769069098, 0.823972185732339, 0.7693816842621286, 0.9454825336448082, 0.8234956903437561, 0.277438395729575, 1.3379968199585268, 0.7680025952191852, 0.2536497070297843, 0.8270665141906756, 0.8231672213289853, -0.1816455966283716, 0.7680238448861391, -0.0038226677786694307, 0.6333153730758981, 0.42493989561201473, 0.8244411291132364, 0.3085830742086933, -0.09346570482970393, 0.23282959606749562, 0.25348634745330256, 0.3416530727177198, 0.7697228497033621, 1.3377973454472798, 1.595158752133249, -0.26313796681428037, 0.25341765879696054, 0.05142244715384704, 0.8231594517931041, 0.8231648227809911, 0.8232472809176018, 0.7682659889509426, 0.5238734635927784, 0.032816290435217284, 0.8387550224484108, 0.4555305632420383, 0.6393403510169791, 0.8794783472095714, 0.6519457845947046, 0.8234012778191011, -0.009882659547695325, 0.982431911985704, 0.7680077349327695, 1.552448623310202, 0.5230055911703679, -0.1201028027381034, 0.2534109420678443, 0.8252802711214103, 1.0257335585653529, -0.18152311043071143, 1.3379476945276272, 0.00766293297625398, -0.18147844748362474, 0.768016259300304, 0.8647744107668532, 2.2194679984965013, 0.982602009843147, 0.07571722242178858, -0.003828319928096658, 2.503275404580566, -0.1230061079287839, 0.5232089924161554, 0.253733173011034, 0.8232449790878389, 0.5230770184078741, 1.086237463410667, -0.08944327241522478, -0.18166093284238607, 0.8233976869352231, 1.5967649589551518, 0.6652365632492291, 1.3386766310930411, -0.003620527344188345, 0.8537192752277106, -0.0032906870312642412, 1.3378816035715633, 0.9493054886769452, 0.46069763343494696, 1.33856452261306, 0.8235846185363724, 0.8233349818728584, 0.8231830823870417, 1.3402812611072006, 0.2581321488543613, 0.8486671501271886, 0.6274460131205069, 1.341534503407794, -0.0037669414405069254, 0.8233865522249556, 0.45984359348309023, 0.825373900821253, 1.3388631804135975, 0.823841518903142, 0.2533872236149169, 0.2539814218087765, 2.4774112575958713, 0.566333189062635, 0.8246432446075307, 0.09428295667758456, 1.4235023829881854, 0.8237290607132082], \"z\": [-0.41266542545355983, -0.3913055807210582, 3.143152316757404, -0.19030134717362862, -0.21967866006234654, -0.47370285277092594, -0.3817243830271896, -0.2211838824361654, -0.4905940203953468, -0.28250967235078867, -0.2206506116454245, -0.4122210307693854, -0.4030499948813661, 3.6708182296812613, -0.18648881870234668, -0.216998805137992, -0.22035906975890873, -0.41080320202048587, -0.17923772120323636, -0.22048974050331058, -0.4126597140870821, -0.22116191566865306, -0.4126395660754214, -0.22127966029038154, -0.28262305004723565, 0.30616663017038714, 0.10509898951177395, -0.22095474643901614, -0.21513323566498935, -0.2208646406307571, -0.0870412131734218, -0.22135284990493623, -0.19370557601678579, -0.2197807163217913, -0.22012134184536652, -0.410098267117947, 0.06115442911769842, 2.0677790811280117, -0.47357241801240024, -0.19025349617542014, -0.21650191841890873, -0.22098885463840964, -0.22145363541813953, -0.40048914129826496, -0.22048098211040773, -0.22129483750537443, -0.33302431008389594, -0.4832953110042872, -0.03363692402975799, -0.19034963097105942, -0.21300320605896583, -0.4840660106433888, -0.3255992709526413, -0.4050386000360267, -0.410552903848549, 0.030946832814495735, -0.22125446184031552, -0.21858354797893123, -0.22057776456597564, 0.03652186631453964, -0.47406248565657405, -0.1732599547025812, -0.18965015177232616, -0.4739394843518637, -0.19001270093956849, -0.18994011705182712, -0.19077991271797895, -0.2828628482719442, -0.3798178087883046, -0.41089163133140083, -0.22090057140120434, -0.15727234524316977, -0.21698374190497483, -0.4739015823495349, -0.18973623576666115, -0.48379457692935, -0.4002897885115571, -0.2193865698477867, -0.3806856194986759, -0.19817480882171656, -0.21771654834773382, -0.4841431224397654, -0.2214546397708071, -0.21755803101310364, -0.4126432146893407, -0.48408660791931607, -0.19935490717397344, -0.23115992918260786, 0.035997969387677686, -0.18045631771255727, -0.2212964157148554, -0.4122870961844831, -0.05035688736526311, -0.22146837728425345, -0.19038403851559713, 0.7110480538271573, -0.474039607764861, -0.5918600699058457, -0.28205903606724647, -0.1900174055056407, -0.3664366677919082, -0.2824282008699559, -0.09169474016270095, -0.21886020686112434, -0.21780575754504866, -0.48343986342756584, -0.3711790849943378, -0.4940568988338251, -0.28247882351606524, -0.19025488641306035, -0.2161776426097955, -0.38168835557117947, -0.038546604986269974, -0.21957580791762657, -0.381782838999178, 0.35739889584171375, -0.1681957684755385, -0.41210353418013973, -0.28134705312139313, -0.2197679563372075, -0.2874930382495188, -0.4700127253086653, -0.3814951994613643, -0.22118187499639896, -0.282421094753147, -0.4712661711952579, -0.37969120592402705, -0.3763932290129974, -0.31839474014617436, -0.4722845386604915, -0.22146845384785122, -0.38008905333791243, -0.41214756107711625, -0.41013857510386686, 0.02762459670512768, -0.28260686149889713, 0.05235595601191864, -0.8033537297563482, -0.47332018605767495, -0.4110999744321987, -0.38174501247432435, -0.19059231722390452, -0.4740221534348579, -0.412413495063802, -0.4126360715125232, -0.21768865156459097, -0.19053984944974112, -0.4986314450173648, -0.22101168527405488, 0.1067814971619856, -0.4121581467269914, -0.45485301134127776, 0.025584868812290086, -0.48688493396470206, -0.2997417642939296, -0.4734808583512463, -0.11715155076958216, -0.26534399206606013, 0.9194108136180152, -0.47396514576147125, -0.4120161720901335, -0.41220263818969116, -0.27964147180281146, -0.4733624960893344, -0.381576267746405, -0.41202459294179944, -0.9182331609573445, -0.4122139358789873, -0.40590504548351336, -0.47399950473013786, -0.41107903659376566, -0.41248110160898954, -0.4125816414537077, -0.3704775297756503, -0.22144298933791398, -0.40723467316939116, -0.3817157972873641, -0.4738820643419341, -0.4122838123823518, 0.7388650416411319, -0.41243844232129445, -0.473613021943437, -0.22140283187731843, 0.025888715808352263, -0.2722851104419975, -0.38739691240511714, -0.21895954875582152, -0.4728497104198745, -0.4712734378268684, -0.17996929402718975, -0.4727232259006345, -0.4671533323355329, -0.4123691717580438, -0.41235815429107475, -0.4025216565604066, -0.47339722277065294, -0.22081716433523468, -0.14550441344949738, -0.41127791767121935, 1.0329950401937957, -0.2205473136701513, -0.3204053111969968, -0.28133576340788646, -0.3184009924154404, -0.4268981121898297, -0.22101423986577937, -0.4836694399697852, -0.22064561491297677, -0.28187886429463016, -0.2826498530848378, 0.23101546521870955, -0.48377215045224703, -0.2619331783377836, 4.273157062352414, -0.2698779541167168, -0.42628483838443726, -0.19030031190196184, -0.473775943986009, 0.9305134405138319, -0.1150465482716112, 1.9425372724216443, -0.22113446192204192, -0.2203684739016318, -0.21997638972784186, -0.21996020125888718, -0.4118806553001621, -0.41255929875557823, -0.47367893917961806, -0.3188679973427786, -0.2237355001173799, -0.412488688290366, 0.5740434431214638, -0.37956032132065265, -0.29992373472904216, -0.33518520985656997, -0.4124200364891676, -0.37435848157386814, -0.2189573304623684, -0.4122679264272668, -0.276682025582059, -0.4720248672659569, 0.4132610715968643, -0.4793894648366128, -0.4088574856592722, -0.27609083580462085, 0.16846710961556693, -0.4110175909363976, -0.11081548815561522, -0.47287211318763256, -0.28261642567305834, -0.2201470499132079, -0.39459930347222183, -0.4125869830368759, 0.03603409442649654, -0.2825196916684091, -0.1902759221729664, -0.34849197465233955, -0.24170855268522176, -0.40676006066434206, 0.0312011105243816, 0.03711561223040366, -0.24145443219414855, -0.22089024417346914, 0.18437539534629052, -0.2746155943282131, -0.47377630427614853, -0.5041465403147288, 0.06597243724784617, -0.22120957857977974, -0.3198543435971303, -0.41262222144963745, -0.41259685678224606, -0.41221182557294767, -0.2813862677025734, -0.37270863534959814, 0.01069519146066564, -0.33950013763842246, -0.12202038769861508, -0.2673373572701116, -0.154926582595676, -0.39068313992844295, -0.41148713748527027, 0.016659374744503755, -0.3081165103765336, -0.28259270129181824, -0.49824919230929055, -0.3767086719046284, -0.29937019617421273, -0.2212385297369124, -0.40244745069933735, -0.3112279150434526, 0.03660362565473388, -0.47309006518667124, -0.13772160739808714, 0.03683632821694364, -0.2825518106931043, -0.21417420406789373, -0.8818646964782887, -0.30730202007545965, 0.0056655180088498085, -0.1903003584338158, -0.04697999235684716, 0.29618044851795383, -0.3757687490888743, -0.2197337468274314, -0.41222894777199515, -0.376381114463025, 0.8119868269313218, -0.17934342172878, 0.03596505503743584, -0.4115030689550843, -0.4966825615151115, -0.3279546964778216, -0.46957196423370773, -0.1893454434221738, -0.293074970252374, -0.1878022131046959, -0.4733986422800263, 0.17391185938043835, 0.7737183901145609, -0.47039180696998145, -0.41058466050356907, -0.41180410496796044, -0.41251968420788154, -0.4623913732529939, -0.19954143635363064, -0.2913945376623596, -0.10857151797859273, -0.45644730667784467, -0.1900119211249286, -0.41160544483922323, 0.7330002660463504, -0.40249270262354886, -0.4689070757251705, -0.4094755955218444, -0.22135689270980116, -0.21858475467785587, -0.8560022627759759, -0.37977256018401184, -0.40581113897773524, -0.3250593892123851, -0.48429201481451384, -0.40990543434134796]}, {\"hovertemplate\": \"Clusters=%{marker.color}<br>pc3=%{x}<br>pc2=%{y}<br>pc1=%{z}<extra></extra>\", \"legendgroup\": \"1\", \"marker\": {\"color\": [1, 1, 1, 1, 1, 1, 1, 1, 1, 1, 1, 1, 1, 1, 1, 1, 1, 1, 1, 1, 1, 1, 1, 1, 1, 1, 1, 1, 1, 1, 1, 1, 1, 1, 1, 1, 1, 1, 1, 1, 1, 1, 1, 1, 1, 1, 1, 1, 1, 1, 1, 1, 1, 1, 1, 1, 1, 1, 1, 1, 1, 1, 1, 1, 1, 1, 1, 1, 1, 1, 1, 1, 1, 1, 1, 1, 1, 1, 1, 1, 1, 1, 1, 1, 1, 1, 1, 1, 1, 1, 1, 1, 1, 1, 1, 1, 1, 1, 1, 1, 1, 1, 1, 1, 1, 1, 1, 1, 1, 1, 1, 1, 1, 1, 1, 1, 1, 1, 1, 1, 1, 1, 1, 1, 1, 1, 1, 1, 1, 1, 1, 1, 1, 1, 1, 1, 1, 1, 1, 1, 1, 1, 1, 1, 1, 1, 1, 1, 1, 1, 1, 1, 1, 1, 1, 1, 1, 1, 1, 1, 1, 1, 1, 1, 1, 1, 1, 1, 1, 1, 1, 1, 1, 1, 1, 1, 1, 1, 1, 1, 1, 1, 1, 1, 1, 1, 1, 1], \"coloraxis\": \"coloraxis\", \"symbol\": \"diamond\"}, \"mode\": \"markers\", \"name\": \"1\", \"scene\": \"scene\", \"showlegend\": true, \"type\": \"scatter3d\", \"x\": [1.0204728629380462, 1.3357986258852732, 1.0209292889768375, 1.099353533010178, -1.2166918777703353, 0.5138107526264094, -1.1061241167920013, 0.47293697810922963, 0.902412596469655, -1.4699712566890515, 1.5396924255262634, 0.5039368885584027, -0.869659799461871, 0.3905557011347003, 0.8238348752706279, -1.3436180337303951, -1.3426075172629575, -0.5935393350230352, -0.746486496447641, 0.5870909065951767, -0.5937577094594987, 1.8073531910791187, 1.4360601953488115, -1.629344329587699, 0.3927119248091952, 1.53968061352803, -1.3426432082708082, -1.3415626195455093, 0.4686619873877634, 0.51204913835133, 0.6264682211062768, -1.342429076375095, 1.0205140841640543, 1.5707734652567593, 2.3280322837874956, 1.808959555289858, -1.3421630952672765, 1.2176187880976332, -1.1290417318227737, -1.5505538937236139, -0.869616961952938, -0.830173253752403, 1.4146512065936976, 0.4712287694061225, -1.3426497362534333, -0.8695020051639375, 0.547541567480968, -0.8695793683767148, -0.8690057723473269, 1.0205335868449867, 1.0993536141208542, -1.0800839272065192, -0.8695530962092505, -0.869616961952938, 1.4146754419800036, -1.273481825394838, -1.0667034104004245, 1.414683756690385, 0.6263474407042412, 1.3362012303276734, -1.3425224878659658, 1.0993448553753498, 0.6263705982619797, -1.3425687476554382, 1.1781433601905162, 2.249236374224756, -0.8694247860592738, 0.42935423954156876, -0.8688080610204492, -0.9430531481789741, -1.3383060983139543, -0.8695948203363728, -1.1057161024197653, -0.8300314513804392, 1.336024592972708, 2.5145071083171926, 1.72995052670857, 1.5730245288022366, 1.4935246191744769, 1.4188962680932704, 1.4147466026400919, 0.7159269409025213, -1.5394239003386465, -1.3426049651515426, -0.8695257612607472, 1.4148227144227121, -1.2241987591810106, -0.6153258504258919, 1.1447379346549909, 0.3898930940440961, -0.4754564272937879, 1.0993530829126112, 1.2178921703375511, -0.790784031870743, -1.086991027544713, 0.3899321373052426, 1.0210861291658715, 0.38990345620391176, -1.0792766618833416, 0.4700781899334386, 1.5985951503308211, 1.414656795627837, 1.0422008838240893, -0.6331086606623058, -1.0666928320245346, 1.3379527569167453, 1.884879634009889, 0.389879877116797, -1.0664758365541458, 0.39090817413618756, 1.5329248957436452, -0.8301909069869327, -0.041936854176718226, 1.4153543769035042, 1.2177663586202954, 0.5892732332519155, -1.5747136107852162, 2.1703678267669653, -1.3335023275079128, -1.3423734719436868, 1.034601973882516, 1.4168008450555525, 0.7840398088874991, 1.0994571607519645, -1.3415668665103857, 0.5481465315089253, -0.12072548334745949, -0.8694691686337406, -2.65674146818015, -0.8694860710911557, 1.414669098424795, 0.4292944729723197, 0.6263826970905575, -1.342587194331274, 0.5475178899652294, 1.4159346331497553, 1.3755399427322827, 1.8128810505481252, -1.342546625300914, 0.7449305067998717, 1.4167788411122633, -2.2085575156753423, -1.0653221207390977, -1.1059353607623938, 0.19458940121050525, 0.8628622636105527, -1.0666902047524556, -1.3059331389299413, -1.0665211068931386, 1.3396044184495994, 1.296575772275265, 1.7718174969344134, -1.342081480871399, -0.8692032804610971, 1.3434027668272774, -1.6214347911842388, 1.115641764401759, 0.5476774253804463, 1.4321157809806264, 1.6513495614502491, 1.6511751683248712, 0.03711783049213218, 0.9811082470524641, 1.099878077118589, 1.0993742176185664, -1.0667065617241014, -1.0782219463323075, 0.39835803679268594, 1.666342832157714, -1.1061052833646845, 0.9024571764531361, -0.869640142008409, -1.080008531646129, -1.321334177352374, -2.7794673478873704, 0.46867090842772763, 1.0644552790064734, -1.0803975842032716, 1.0205299303289148, -1.080402252245342, -1.104021892528478, -1.2463987083989836, -0.8696411880050906, -0.6550470614505158, -2.3767947516571515, 1.417629945446559, 1.099353536976027, -1.342639793373492], \"y\": [-1.161387336487704, -1.5047539046846874, -1.1609245412591627, -1.2474495837237802, -0.8079848135194927, -0.47815561032346526, -0.9535180571248125, -0.5514217650579203, -1.0327615158345291, -0.6653276103255736, -0.4632965692149981, -0.47211378944639537, -1.2108594576075091, -0.4742174967462034, -0.9467831762194204, -0.6236634998948564, -0.6962025492216185, -1.510569628406272, -1.3291355038085775, -0.6896980204642862, -1.5107134623844822, -0.5732470668474848, -1.5459042974024202, -0.7897152969109449, -2.581880296540916, -0.4631356576380929, -0.6961991813881692, -0.6946404219721934, -0.5611811188147275, -0.597983547527635, -0.732746386776622, -0.69573966465714, -1.161683124670119, -1.6492157976960646, -1.320882273494002, -2.0191873808726584, -0.6956870673627841, -1.3760830449244215, -0.36114287747571827, -0.8743629810549061, -1.2107683824166637, -1.2535587144530327, -1.5905292652158727, -0.5554585188139658, -0.6957134414397176, -1.2104700594448898, -0.6470966905928841, -1.210287128728409, -1.2101824606933942, -1.161609904653779, -1.2474556190792687, -3.5076480175293048, -1.210602711491654, -1.2107683824166637, -1.5905293817358723, -0.5123047527845119, -0.996400061763742, -1.5904923567695557, -0.7329046655107917, -1.5043845125614972, -0.6961657943436115, -1.247459603884424, -0.7328245818383344, -0.6960962469578353, -1.3332712664995798, -1.235078006157802, -1.2102668831487493, -0.5183845433490136, -1.2086650359800641, -0.794871876365536, -0.6910620510543868, -1.210776632188445, -0.9531275882746713, -1.2532088373354844, -1.504355389763657, -1.2233744128152328, -1.9335675349436583, -1.7609330176273768, -1.676215418904468, -1.5801821946102486, -1.5904147324417444, -0.8004950947579234, -0.481222065954358, -0.6961914906974063, -1.2107351117333547, -1.590358848417457, -0.8246603867392658, -1.1989545424014734, -1.1854000139910694, -0.4755674938474797, -1.6395687334817992, -1.247416092462953, -1.375719861673741, -1.2965569166682709, -0.9038840879179646, -0.47552194955911, -1.1611198622571755, -0.475551674654044, -3.5062426088998904, -0.5583664777862957, -1.3453248325226557, -1.590535318207508, -1.1388619124069268, -1.468068585542463, -0.9963675453013476, -1.5011970638387861, -1.5980795557272736, -0.47556760696180794, -0.9961211039865913, -0.47356037475969104, -1.7191345823084425, -1.2536385477067848, -2.1113970194283302, -1.5894107505562018, -1.375588620326557, -0.6855313372261198, -1.677880610177573, -1.1493537783616106, -1.5466265927352985, -0.6959428486649284, -1.1471846274890012, -1.5881924263914882, -0.9043230977660724, -1.2471279205935941, -0.6943244100250556, -0.6464409585472797, -2.0255636849298333, -1.210618392534857, -1.7927758974776864, -1.210672126112975, -1.5904835785017957, -0.5184047542299159, -0.7328593006402426, -0.6961049797686045, -0.6471216917695409, -1.589309808669024, -1.5473127481683382, -1.0611957423446803, -0.6961729662755415, -0.8607607691212898, -1.586555137370828, -1.1860726995808883, -0.9950858001364674, -0.9531764717117668, -2.3685991789324254, -0.9901518138421226, -0.9963991093669867, -0.6606444148001257, -0.9960311549903906, -1.5010641204513793, -1.4617274275834558, -0.8186151586300774, -0.6953753268143187, -1.2104035795769879, -0.24811708349655273, -3.7539724565652626, -1.2170259579638083, -0.646943812381535, -1.5671472041234318, -1.8476431707158438, -1.847763203386092, -2.196902761041558, -1.1188266482958091, -1.2468424574219072, -1.2473681069631066, -0.9964327784518008, -3.5027586552768195, -0.45414721646925416, -1.8330096101730702, -0.9535260407076641, -1.0326361679061649, -1.2108467918938448, -3.507534002349993, -0.6410487674757471, -2.0783127575980664, -0.5613859241640929, -1.1998614141004855, -3.5048001902640475, -1.1616193898385334, -3.5044528464298166, -0.9480630012199153, -2.4846345887994365, -1.2108289352618236, -1.0154261988105047, -2.0821222374038735, -1.5842770404482918, -1.2474498788181958, -0.6962893517743051], \"z\": [-0.05101253000576881, -0.011450356650791419, -0.04879804407865589, -0.04208461025288932, 0.19048330548241008, 0.26119075127958774, 0.1281583925520779, -0.0784523812232979, -0.06639008716622619, 1.1716192848406368, -0.259078307686518, 0.28458347906613296, 0.15863466347769928, -0.12794141391974148, -0.07558509253438458, 0.41937791689923165, 0.09756047388879473, 0.19659183051035498, 0.22176080480821825, -0.10729688645593875, 0.19587691491860165, 4.653678143255551, 0.2043968630609157, 0.1999634718491456, 0.32811675178315663, -0.25836776323587557, 0.09756299347473998, 0.10486253042071053, -0.12328666132457766, -0.08978359658344032, -0.10293146921825448, 0.09967848074147162, -0.05231185659000611, 0.5198415876968524, -0.15647452292577138, 0.05069047100052665, 0.10000477501881097, -0.02666955018500223, 1.6600960218799297, 0.21514248214578324, 0.1590540867013619, 0.16458865613005064, -0.0012580683210823254, -0.09697622114620205, 0.09971804821603339, 0.160419098038199, -0.1137076878259784, 0.1612045925453391, 0.16186935159059992, -0.0519798660470256, -0.04211138697056061, 0.6819593272389092, 0.15981214212465358, 0.1590540867013619, -0.0012501399649898395, 0.9384004384088719, 0.13327779805674211, -0.001082802384243204, -0.10367652786152776, -0.009669460851904897, 0.09775334644088432, -0.04213213715162751, -0.10331277988233958, 0.09804610788009235, -0.032119923292353164, -0.16651867720634034, 0.1613483806106912, -0.12874612043037761, 0.1686776311440638, 0.8895869472343604, 0.12189011838965964, 0.1590251629670947, 0.13003478229854082, 0.16619199175419533, -0.0096016738583011, 0.7052439747663015, 0.03975297058067673, 0.024453419857534135, 0.009337676480139664, 0.046176024064540896, -0.0007161460357309069, -0.008980767620477705, 0.07459711513281071, 0.09761047779788186, 0.1592336354596776, -0.00044142242474825335, 0.1138055458420847, 1.0274800599046687, 0.24931392765362703, -0.1341681056472221, 0.2103193999983575, -0.04193602148503282, -0.024961263032899018, 0.16918101813445147, 0.3552667997110071, -0.13395222229482048, -0.04961087071132442, -0.13409423630561543, 0.6884825320171428, -0.11029238508895067, 1.1518780260796646, -0.0012830038945552734, 0.05660229296689218, 0.18972865663604407, 0.13342590077092367, 0.005097434109248808, 1.4019217543041196, -0.13417321402987892, 0.13459604848393825, -0.12490008630901998, 0.014284928129998037, 0.16422793855950843, 0.26603450411402707, 0.003954670301115312, -0.024422221849110446, -0.08803076055438708, 0.4190213635007245, -0.17694362700449878, 0.2865397908467047, 0.09879545197500778, 0.016990232091828407, 0.009869729523429844, -0.08270887177059094, -0.04061988574462544, 0.10626456261335959, -0.11058454207285143, 0.25612198375588496, 0.15977174565429736, 0.47543024776881704, 0.15952720690481195, -0.0010489235322883705, -0.1288567117745228, -0.10346276106114187, 0.0980008940812555, -0.11382697765949726, 0.004605201345435828, -0.004783956489611261, 2.488465188246679, 0.09771308182556937, -0.08469821407006861, 0.017133796393141856, 2.526702211991339, 0.13959623263257398, 0.12974126502458125, 0.29715077465697626, -0.07276405152654741, 0.1332866300359026, 0.2682665175180743, 0.13497976495225572, 0.006263471372819091, -0.01585916249791021, 3.3696998499819997, 0.10141775860789555, 0.16081846026664917, -0.28097427189348967, 0.8164284605515643, 0.09871297712148024, -0.11298136026729234, 0.10867557856887768, 0.03031014250645865, 0.02971626346763397, 0.2774946898745308, -0.05753945961424715, -0.03920536424558834, -0.041715536919342086, 0.13313139434979346, 0.7043234683623962, -0.036083688225491094, 0.10052761049722832, 0.1281294981693676, -0.06581784028582098, 0.1586977665296938, 0.6824919806898294, 0.3499300327636595, 0.5094863234495205, -0.12419315982763074, -0.024726358145417633, 0.6944981506614278, -0.05202326711906791, 0.6960391912515747, 0.15311868698455533, 0.4773811828414771, 0.1587767091399889, 0.12009009854822204, 0.560749992907244, 0.027548172381721907, -0.04208591948146201, 0.09716370741822854]}, {\"hovertemplate\": \"Clusters=%{marker.color}<br>pc3=%{x}<br>pc2=%{y}<br>pc1=%{z}<extra></extra>\", \"legendgroup\": \"0\", \"marker\": {\"color\": [0, 0], \"coloraxis\": \"coloraxis\", \"symbol\": \"square\"}, \"mode\": \"markers\", \"name\": \"0\", \"scene\": \"scene\", \"showlegend\": true, \"type\": \"scatter3d\", \"x\": [3.586890143509476, -0.7858800338600113], \"y\": [0.7022773521797282, 3.9314042365811197], \"z\": [10.938854473739445, 25.459357630637204]}],                        {\"coloraxis\": {\"colorbar\": {\"title\": {\"text\": \"Clusters\"}}, \"colorscale\": [[0.0, \"#0d0887\"], [0.1111111111111111, \"#46039f\"], [0.2222222222222222, \"#7201a8\"], [0.3333333333333333, \"#9c179e\"], [0.4444444444444444, \"#bd3786\"], [0.5555555555555556, \"#d8576b\"], [0.6666666666666666, \"#ed7953\"], [0.7777777777777778, \"#fb9f3a\"], [0.8888888888888888, \"#fdca26\"], [1.0, \"#f0f921\"]]}, \"legend\": {\"title\": {\"text\": \"Clusters\"}, \"tracegroupgap\": 0, \"x\": 0, \"y\": 1}, \"margin\": {\"t\": 60}, \"scene\": {\"domain\": {\"x\": [0.0, 1.0], \"y\": [0.0, 1.0]}, \"xaxis\": {\"title\": {\"text\": \"pc3\"}}, \"yaxis\": {\"title\": {\"text\": \"pc2\"}}, \"zaxis\": {\"title\": {\"text\": \"pc1\"}}}, \"template\": {\"data\": {\"bar\": [{\"error_x\": {\"color\": \"#2a3f5f\"}, \"error_y\": {\"color\": \"#2a3f5f\"}, \"marker\": {\"line\": {\"color\": \"#E5ECF6\", \"width\": 0.5}}, \"type\": \"bar\"}], \"barpolar\": [{\"marker\": {\"line\": {\"color\": \"#E5ECF6\", \"width\": 0.5}}, \"type\": \"barpolar\"}], \"carpet\": [{\"aaxis\": {\"endlinecolor\": \"#2a3f5f\", \"gridcolor\": \"white\", \"linecolor\": \"white\", \"minorgridcolor\": \"white\", \"startlinecolor\": \"#2a3f5f\"}, \"baxis\": {\"endlinecolor\": \"#2a3f5f\", \"gridcolor\": \"white\", \"linecolor\": \"white\", \"minorgridcolor\": \"white\", \"startlinecolor\": \"#2a3f5f\"}, \"type\": \"carpet\"}], \"choropleth\": [{\"colorbar\": {\"outlinewidth\": 0, \"ticks\": \"\"}, \"type\": \"choropleth\"}], \"contour\": [{\"colorbar\": {\"outlinewidth\": 0, \"ticks\": \"\"}, \"colorscale\": [[0.0, \"#0d0887\"], [0.1111111111111111, \"#46039f\"], [0.2222222222222222, \"#7201a8\"], [0.3333333333333333, \"#9c179e\"], [0.4444444444444444, \"#bd3786\"], [0.5555555555555556, \"#d8576b\"], [0.6666666666666666, \"#ed7953\"], [0.7777777777777778, \"#fb9f3a\"], [0.8888888888888888, \"#fdca26\"], [1.0, \"#f0f921\"]], \"type\": \"contour\"}], \"contourcarpet\": [{\"colorbar\": {\"outlinewidth\": 0, \"ticks\": \"\"}, \"type\": \"contourcarpet\"}], \"heatmap\": [{\"colorbar\": {\"outlinewidth\": 0, \"ticks\": \"\"}, \"colorscale\": [[0.0, \"#0d0887\"], [0.1111111111111111, \"#46039f\"], [0.2222222222222222, \"#7201a8\"], [0.3333333333333333, \"#9c179e\"], [0.4444444444444444, \"#bd3786\"], [0.5555555555555556, \"#d8576b\"], [0.6666666666666666, \"#ed7953\"], [0.7777777777777778, \"#fb9f3a\"], [0.8888888888888888, \"#fdca26\"], [1.0, \"#f0f921\"]], \"type\": \"heatmap\"}], \"heatmapgl\": [{\"colorbar\": {\"outlinewidth\": 0, \"ticks\": \"\"}, \"colorscale\": [[0.0, \"#0d0887\"], [0.1111111111111111, \"#46039f\"], [0.2222222222222222, \"#7201a8\"], [0.3333333333333333, \"#9c179e\"], [0.4444444444444444, \"#bd3786\"], [0.5555555555555556, \"#d8576b\"], [0.6666666666666666, \"#ed7953\"], [0.7777777777777778, \"#fb9f3a\"], [0.8888888888888888, \"#fdca26\"], [1.0, \"#f0f921\"]], \"type\": \"heatmapgl\"}], \"histogram\": [{\"marker\": {\"colorbar\": {\"outlinewidth\": 0, \"ticks\": \"\"}}, \"type\": \"histogram\"}], \"histogram2d\": [{\"colorbar\": {\"outlinewidth\": 0, \"ticks\": \"\"}, \"colorscale\": [[0.0, \"#0d0887\"], [0.1111111111111111, \"#46039f\"], [0.2222222222222222, \"#7201a8\"], [0.3333333333333333, \"#9c179e\"], [0.4444444444444444, \"#bd3786\"], [0.5555555555555556, \"#d8576b\"], [0.6666666666666666, \"#ed7953\"], [0.7777777777777778, \"#fb9f3a\"], [0.8888888888888888, \"#fdca26\"], [1.0, \"#f0f921\"]], \"type\": \"histogram2d\"}], \"histogram2dcontour\": [{\"colorbar\": {\"outlinewidth\": 0, \"ticks\": \"\"}, \"colorscale\": [[0.0, \"#0d0887\"], [0.1111111111111111, \"#46039f\"], [0.2222222222222222, \"#7201a8\"], [0.3333333333333333, \"#9c179e\"], [0.4444444444444444, \"#bd3786\"], [0.5555555555555556, \"#d8576b\"], [0.6666666666666666, \"#ed7953\"], [0.7777777777777778, \"#fb9f3a\"], [0.8888888888888888, \"#fdca26\"], [1.0, \"#f0f921\"]], \"type\": \"histogram2dcontour\"}], \"mesh3d\": [{\"colorbar\": {\"outlinewidth\": 0, \"ticks\": \"\"}, \"type\": \"mesh3d\"}], \"parcoords\": [{\"line\": {\"colorbar\": {\"outlinewidth\": 0, \"ticks\": \"\"}}, \"type\": \"parcoords\"}], \"pie\": [{\"automargin\": true, \"type\": \"pie\"}], \"scatter\": [{\"marker\": {\"colorbar\": {\"outlinewidth\": 0, \"ticks\": \"\"}}, \"type\": \"scatter\"}], \"scatter3d\": [{\"line\": {\"colorbar\": {\"outlinewidth\": 0, \"ticks\": \"\"}}, \"marker\": {\"colorbar\": {\"outlinewidth\": 0, \"ticks\": \"\"}}, \"type\": \"scatter3d\"}], \"scattercarpet\": [{\"marker\": {\"colorbar\": {\"outlinewidth\": 0, \"ticks\": \"\"}}, \"type\": \"scattercarpet\"}], \"scattergeo\": [{\"marker\": {\"colorbar\": {\"outlinewidth\": 0, \"ticks\": \"\"}}, \"type\": \"scattergeo\"}], \"scattergl\": [{\"marker\": {\"colorbar\": {\"outlinewidth\": 0, \"ticks\": \"\"}}, \"type\": \"scattergl\"}], \"scattermapbox\": [{\"marker\": {\"colorbar\": {\"outlinewidth\": 0, \"ticks\": \"\"}}, \"type\": \"scattermapbox\"}], \"scatterpolar\": [{\"marker\": {\"colorbar\": {\"outlinewidth\": 0, \"ticks\": \"\"}}, \"type\": \"scatterpolar\"}], \"scatterpolargl\": [{\"marker\": {\"colorbar\": {\"outlinewidth\": 0, \"ticks\": \"\"}}, \"type\": \"scatterpolargl\"}], \"scatterternary\": [{\"marker\": {\"colorbar\": {\"outlinewidth\": 0, \"ticks\": \"\"}}, \"type\": \"scatterternary\"}], \"surface\": [{\"colorbar\": {\"outlinewidth\": 0, \"ticks\": \"\"}, \"colorscale\": [[0.0, \"#0d0887\"], [0.1111111111111111, \"#46039f\"], [0.2222222222222222, \"#7201a8\"], [0.3333333333333333, \"#9c179e\"], [0.4444444444444444, \"#bd3786\"], [0.5555555555555556, \"#d8576b\"], [0.6666666666666666, \"#ed7953\"], [0.7777777777777778, \"#fb9f3a\"], [0.8888888888888888, \"#fdca26\"], [1.0, \"#f0f921\"]], \"type\": \"surface\"}], \"table\": [{\"cells\": {\"fill\": {\"color\": \"#EBF0F8\"}, \"line\": {\"color\": \"white\"}}, \"header\": {\"fill\": {\"color\": \"#C8D4E3\"}, \"line\": {\"color\": \"white\"}}, \"type\": \"table\"}]}, \"layout\": {\"annotationdefaults\": {\"arrowcolor\": \"#2a3f5f\", \"arrowhead\": 0, \"arrowwidth\": 1}, \"autotypenumbers\": \"strict\", \"coloraxis\": {\"colorbar\": {\"outlinewidth\": 0, \"ticks\": \"\"}}, \"colorscale\": {\"diverging\": [[0, \"#8e0152\"], [0.1, \"#c51b7d\"], [0.2, \"#de77ae\"], [0.3, \"#f1b6da\"], [0.4, \"#fde0ef\"], [0.5, \"#f7f7f7\"], [0.6, \"#e6f5d0\"], [0.7, \"#b8e186\"], [0.8, \"#7fbc41\"], [0.9, \"#4d9221\"], [1, \"#276419\"]], \"sequential\": [[0.0, \"#0d0887\"], [0.1111111111111111, \"#46039f\"], [0.2222222222222222, \"#7201a8\"], [0.3333333333333333, \"#9c179e\"], [0.4444444444444444, \"#bd3786\"], [0.5555555555555556, \"#d8576b\"], [0.6666666666666666, \"#ed7953\"], [0.7777777777777778, \"#fb9f3a\"], [0.8888888888888888, \"#fdca26\"], [1.0, \"#f0f921\"]], \"sequentialminus\": [[0.0, \"#0d0887\"], [0.1111111111111111, \"#46039f\"], [0.2222222222222222, \"#7201a8\"], [0.3333333333333333, \"#9c179e\"], [0.4444444444444444, \"#bd3786\"], [0.5555555555555556, \"#d8576b\"], [0.6666666666666666, \"#ed7953\"], [0.7777777777777778, \"#fb9f3a\"], [0.8888888888888888, \"#fdca26\"], [1.0, \"#f0f921\"]]}, \"colorway\": [\"#636efa\", \"#EF553B\", \"#00cc96\", \"#ab63fa\", \"#FFA15A\", \"#19d3f3\", \"#FF6692\", \"#B6E880\", \"#FF97FF\", \"#FECB52\"], \"font\": {\"color\": \"#2a3f5f\"}, \"geo\": {\"bgcolor\": \"white\", \"lakecolor\": \"white\", \"landcolor\": \"#E5ECF6\", \"showlakes\": true, \"showland\": true, \"subunitcolor\": \"white\"}, \"hoverlabel\": {\"align\": \"left\"}, \"hovermode\": \"closest\", \"mapbox\": {\"style\": \"light\"}, \"paper_bgcolor\": \"white\", \"plot_bgcolor\": \"#E5ECF6\", \"polar\": {\"angularaxis\": {\"gridcolor\": \"white\", \"linecolor\": \"white\", \"ticks\": \"\"}, \"bgcolor\": \"#E5ECF6\", \"radialaxis\": {\"gridcolor\": \"white\", \"linecolor\": \"white\", \"ticks\": \"\"}}, \"scene\": {\"xaxis\": {\"backgroundcolor\": \"#E5ECF6\", \"gridcolor\": \"white\", \"gridwidth\": 2, \"linecolor\": \"white\", \"showbackground\": true, \"ticks\": \"\", \"zerolinecolor\": \"white\"}, \"yaxis\": {\"backgroundcolor\": \"#E5ECF6\", \"gridcolor\": \"white\", \"gridwidth\": 2, \"linecolor\": \"white\", \"showbackground\": true, \"ticks\": \"\", \"zerolinecolor\": \"white\"}, \"zaxis\": {\"backgroundcolor\": \"#E5ECF6\", \"gridcolor\": \"white\", \"gridwidth\": 2, \"linecolor\": \"white\", \"showbackground\": true, \"ticks\": \"\", \"zerolinecolor\": \"white\"}}, \"shapedefaults\": {\"line\": {\"color\": \"#2a3f5f\"}}, \"ternary\": {\"aaxis\": {\"gridcolor\": \"white\", \"linecolor\": \"white\", \"ticks\": \"\"}, \"baxis\": {\"gridcolor\": \"white\", \"linecolor\": \"white\", \"ticks\": \"\"}, \"bgcolor\": \"#E5ECF6\", \"caxis\": {\"gridcolor\": \"white\", \"linecolor\": \"white\", \"ticks\": \"\"}}, \"title\": {\"x\": 0.05}, \"xaxis\": {\"automargin\": true, \"gridcolor\": \"white\", \"linecolor\": \"white\", \"ticks\": \"\", \"title\": {\"standoff\": 15}, \"zerolinecolor\": \"white\", \"zerolinewidth\": 2}, \"yaxis\": {\"automargin\": true, \"gridcolor\": \"white\", \"linecolor\": \"white\", \"ticks\": \"\", \"title\": {\"standoff\": 15}, \"zerolinecolor\": \"white\", \"zerolinewidth\": 2}}}},                        {\"responsive\": true}                    ).then(function(){\n",
       "                            \n",
       "var gd = document.getElementById('ca9a024f-401f-4135-bd52-0ab58f72c07e');\n",
       "var x = new MutationObserver(function (mutations, observer) {{\n",
       "        var display = window.getComputedStyle(gd).display;\n",
       "        if (!display || display === 'none') {{\n",
       "            console.log([gd, 'removed!']);\n",
       "            Plotly.purge(gd);\n",
       "            observer.disconnect();\n",
       "        }}\n",
       "}});\n",
       "\n",
       "// Listen for the removal of the full notebook cells\n",
       "var notebookContainer = gd.closest('#notebook-container');\n",
       "if (notebookContainer) {{\n",
       "    x.observe(notebookContainer, {childList: true});\n",
       "}}\n",
       "\n",
       "// Listen for the clearing of the current output cell\n",
       "var outputEl = gd.closest('.output');\n",
       "if (outputEl) {{\n",
       "    x.observe(outputEl, {childList: true});\n",
       "}}\n",
       "\n",
       "                        })                };                });            </script>        </div>"
      ]
     },
     "metadata": {},
     "output_type": "display_data"
    }
   ],
   "source": [
    "# Create a 3D-Scatter with the PCA data and the clusters\n",
    "fig = px.scatter_3d(\n",
    "    df_crypto_pca,\n",
    "    x=\"pc3\",\n",
    "    y=\"pc2\",\n",
    "    z=\"pc1\",\n",
    "    color=\"Clusters\",\n",
    "    symbol=\"Clusters\"\n",
    ")\n",
    "fig.update_layout(legend=dict(x=0, y=1))\n",
    "fig.show()"
   ]
  },
  {
   "cell_type": "markdown",
   "metadata": {},
   "source": [
    "#### Table of Tradable Cryptocurrencies"
   ]
  },
  {
   "cell_type": "code",
   "execution_count": 181,
   "metadata": {},
   "outputs": [
    {
     "data": {
      "text/html": [
       "<div>\n",
       "<style scoped>\n",
       "    .dataframe tbody tr th:only-of-type {\n",
       "        vertical-align: middle;\n",
       "    }\n",
       "\n",
       "    .dataframe tbody tr th {\n",
       "        vertical-align: top;\n",
       "    }\n",
       "\n",
       "    .dataframe thead th {\n",
       "        text-align: right;\n",
       "    }\n",
       "</style>\n",
       "<table border=\"1\" class=\"dataframe\">\n",
       "  <thead>\n",
       "    <tr style=\"text-align: right;\">\n",
       "      <th></th>\n",
       "      <th>Algorithm</th>\n",
       "      <th>ProofType</th>\n",
       "      <th>TotalCoinsMined</th>\n",
       "      <th>TotalCoinSupply</th>\n",
       "      <th>CoinName</th>\n",
       "    </tr>\n",
       "  </thead>\n",
       "  <tbody>\n",
       "    <tr>\n",
       "      <th>0</th>\n",
       "      <td>53</td>\n",
       "      <td>16</td>\n",
       "      <td>4.199995e+01</td>\n",
       "      <td>4.200000e+01</td>\n",
       "      <td>42 Coin</td>\n",
       "    </tr>\n",
       "    <tr>\n",
       "      <th>2</th>\n",
       "      <td>53</td>\n",
       "      <td>16</td>\n",
       "      <td>1.055185e+09</td>\n",
       "      <td>5.320000e+08</td>\n",
       "      <td>404Coin</td>\n",
       "    </tr>\n",
       "    <tr>\n",
       "      <th>5</th>\n",
       "      <td>67</td>\n",
       "      <td>16</td>\n",
       "      <td>2.927942e+10</td>\n",
       "      <td>3.141593e+11</td>\n",
       "      <td>EliteCoin</td>\n",
       "    </tr>\n",
       "    <tr>\n",
       "      <th>7</th>\n",
       "      <td>47</td>\n",
       "      <td>13</td>\n",
       "      <td>1.792718e+07</td>\n",
       "      <td>2.100000e+07</td>\n",
       "      <td>Bitcoin</td>\n",
       "    </tr>\n",
       "    <tr>\n",
       "      <th>8</th>\n",
       "      <td>20</td>\n",
       "      <td>13</td>\n",
       "      <td>1.076842e+08</td>\n",
       "      <td>0.000000e+00</td>\n",
       "      <td>Ethereum</td>\n",
       "    </tr>\n",
       "  </tbody>\n",
       "</table>\n",
       "</div>"
      ],
      "text/plain": [
       "   Algorithm  ProofType  TotalCoinsMined  TotalCoinSupply   CoinName\n",
       "0         53         16     4.199995e+01     4.200000e+01    42 Coin\n",
       "2         53         16     1.055185e+09     5.320000e+08    404Coin\n",
       "5         67         16     2.927942e+10     3.141593e+11  EliteCoin\n",
       "7         47         13     1.792718e+07     2.100000e+07    Bitcoin\n",
       "8         20         13     1.076842e+08     0.000000e+00   Ethereum"
      ]
     },
     "execution_count": 181,
     "metadata": {},
     "output_type": "execute_result"
    }
   ],
   "source": [
    "# Table with tradable cryptos\n",
    "crypto_name = pd.concat([crypto_df, crypto_coinname], axis=1, ignore_index=False, join='outer')\n",
    "crypto_name.head()"
   ]
  },
  {
   "cell_type": "code",
   "execution_count": 182,
   "metadata": {},
   "outputs": [
    {
     "name": "stdout",
     "output_type": "stream",
     "text": [
      "532\n"
     ]
    }
   ],
   "source": [
    "# Print the total number of tradable cryptocurrencies\n",
    "tradeable_crypto = crypto_name['CoinName'].unique()\n",
    "trade_count = len(tradeable_crypto)\n",
    "print(trade_count)"
   ]
  },
  {
   "cell_type": "markdown",
   "metadata": {},
   "source": [
    "#### Scatter Plot with Tradable Cryptocurrencies"
   ]
  },
  {
   "cell_type": "code",
   "execution_count": 183,
   "metadata": {},
   "outputs": [
    {
     "data": {
      "text/html": [
       "<div>\n",
       "<style scoped>\n",
       "    .dataframe tbody tr th:only-of-type {\n",
       "        vertical-align: middle;\n",
       "    }\n",
       "\n",
       "    .dataframe tbody tr th {\n",
       "        vertical-align: top;\n",
       "    }\n",
       "\n",
       "    .dataframe thead th {\n",
       "        text-align: right;\n",
       "    }\n",
       "</style>\n",
       "<table border=\"1\" class=\"dataframe\">\n",
       "  <thead>\n",
       "    <tr style=\"text-align: right;\">\n",
       "      <th></th>\n",
       "      <th>Algorithm</th>\n",
       "      <th>ProofType</th>\n",
       "      <th>TotalCoinsMined</th>\n",
       "      <th>TotalCoinSupply</th>\n",
       "    </tr>\n",
       "    <tr>\n",
       "      <th>CoinName</th>\n",
       "      <th></th>\n",
       "      <th></th>\n",
       "      <th></th>\n",
       "      <th></th>\n",
       "    </tr>\n",
       "  </thead>\n",
       "  <tbody>\n",
       "    <tr>\n",
       "      <th>42 Coin</th>\n",
       "      <td>53</td>\n",
       "      <td>16</td>\n",
       "      <td>4.199995e+01</td>\n",
       "      <td>4.200000e+01</td>\n",
       "    </tr>\n",
       "    <tr>\n",
       "      <th>404Coin</th>\n",
       "      <td>53</td>\n",
       "      <td>16</td>\n",
       "      <td>1.055185e+09</td>\n",
       "      <td>5.320000e+08</td>\n",
       "    </tr>\n",
       "    <tr>\n",
       "      <th>EliteCoin</th>\n",
       "      <td>67</td>\n",
       "      <td>16</td>\n",
       "      <td>2.927942e+10</td>\n",
       "      <td>3.141593e+11</td>\n",
       "    </tr>\n",
       "    <tr>\n",
       "      <th>Bitcoin</th>\n",
       "      <td>47</td>\n",
       "      <td>13</td>\n",
       "      <td>1.792718e+07</td>\n",
       "      <td>2.100000e+07</td>\n",
       "    </tr>\n",
       "    <tr>\n",
       "      <th>Ethereum</th>\n",
       "      <td>20</td>\n",
       "      <td>13</td>\n",
       "      <td>1.076842e+08</td>\n",
       "      <td>0.000000e+00</td>\n",
       "    </tr>\n",
       "  </tbody>\n",
       "</table>\n",
       "</div>"
      ],
      "text/plain": [
       "           Algorithm  ProofType  TotalCoinsMined  TotalCoinSupply\n",
       "CoinName                                                         \n",
       "42 Coin           53         16     4.199995e+01     4.200000e+01\n",
       "404Coin           53         16     1.055185e+09     5.320000e+08\n",
       "EliteCoin         67         16     2.927942e+10     3.141593e+11\n",
       "Bitcoin           47         13     1.792718e+07     2.100000e+07\n",
       "Ethereum          20         13     1.076842e+08     0.000000e+00"
      ]
     },
     "execution_count": 183,
     "metadata": {},
     "output_type": "execute_result"
    }
   ],
   "source": [
    "# Scale data to create the scatter plot\n",
    "crypto_scatter_df = crypto_name.set_index('CoinName')\n",
    "crypto_scatter_df.head()"
   ]
  },
  {
   "cell_type": "code",
   "execution_count": 184,
   "metadata": {},
   "outputs": [
    {
     "data": {
      "application/vnd.plotly.v1+json": {
       "config": {
        "plotlyServerURL": "https://plot.ly"
       },
       "data": [
        {
         "hovertemplate": "TotalCoinsMined=%{x}<br>TotalCoinSupply=%{y}<extra></extra>",
         "legendgroup": "",
         "marker": {
          "color": "#636efa",
          "symbol": "circle"
         },
         "mode": "markers",
         "name": "",
         "orientation": "v",
         "showlegend": false,
         "type": "scatter",
         "x": [
          41.99995383,
          1055184902.04,
          29279424622.5027,
          17927175,
          107684222.6865,
          63039243.30000489,
          9031294.37563393,
          17201143.1449131,
          113359703,
          7383056.25,
          2741570000,
          11406219141,
          1288862,
          11995334.8847328,
          5768310,
          25542535.5881841,
          11149733.9976203,
          12205795.444954902,
          18135099.992959,
          635423900,
          1688254250,
          88,
          170204389.754849,
          128940951.183046,
          7357794.7925,
          123062801.128773,
          259557164.91477,
          49548585.14129171,
          33442988.3440364,
          42579.476901,
          7219956.64626131,
          1039116.65144562,
          4703879.51824446,
          4996986.20575291,
          39999997299.8568,
          3304487.74735637,
          15929530669.1206,
          18773857500,
          12539015186.821999,
          20910478.806249898,
          218871896.499999,
          19496786.31025,
          5679705,
          461829905.32892996,
          1142732.14912776,
          208669093.00773,
          884125802,
          65672720.470874794,
          41658647.9999715,
          89266933.684704,
          1678520090.7713,
          90595753018.6314,
          17650913.974345602,
          21089348.999,
          151447649.8,
          19326319.14375,
          1104344.22938102,
          61445805,
          38151999.993099704,
          40431856.9,
          21293925445.4969,
          5804204.88794916,
          1613836099.99999,
          16180000,
          66087096.20771079,
          2366066305.76482,
          14736400,
          334709223.48313797,
          15156364.3306548,
          3220616.279225,
          222677226.014206,
          73959274.625,
          29315567169.0888,
          1104157.42169891,
          24215181.725,
          25593737.1355044,
          50707661.74935179,
          1177,
          563336541.299966,
          80260463.7331396,
          43536800,
          1622326490.46336,
          1431851.00002479,
          22935396,
          2278150,
          200911.79151896,
          1207310,
          1098952592.6,
          50235211.141939,
          23150892.167968698,
          32021108.413669605,
          51173723.81663471,
          119606941,
          6950831.0970606,
          100000000,
          39195739.362088,
          33093725.4123502,
          147990237.978331,
          184066828814,
          6906587610.38292,
          1813033920,
          51173144,
          68194674.8711679,
          39121694,
          53193831,
          415032420,
          27184490.3918338,
          137517654.41397,
          2022464.886973,
          181919.2435974,
          174646113.934655,
          152270664.860648,
          1467841,
          7096834,
          792537250,
          719416990,
          2689812,
          65113302,
          6365285,
          10140044.443029301,
          11604722,
          4610340640.89,
          708506520,
          619478,
          12462620,
          88213,
          1513704,
          63657220,
          32221574.820996,
          13742738,
          14747200.0002,
          8568038.35935056,
          15863837.5,
          329200.01639,
          32565300,
          75614500,
          100000000,
          10495278,
          23042604,
          33098296530,
          43059794.804778,
          13530556.4180753,
          15867695,
          20997476.865023103,
          10365046.928166099,
          210000000,
          11448949,
          3669691.84494672,
          10996318099,
          69836100,
          5129014,
          21739971929,
          10069449031.9252,
          8998743.2411911,
          40477042,
          45110324,
          5702048,
          636462.55983338,
          17263355,
          10407269.788186802,
          36971236046.8073,
          4377081.60953993,
          2147483647,
          20000000,
          6570807.65677618,
          13654082.4987998,
          134554941.15118998,
          1195525,
          16662820,
          83450403,
          24387724.5010828,
          616448,
          38589808.6658096,
          813092338.575672,
          4526324,
          100000000,
          5000000,
          1377917,
          657000000,
          115898131,
          15563873,
          43165500,
          7822432.72439746,
          595429,
          6243840,
          657636.34549789,
          2581970,
          1000000000,
          1939889,
          116845228,
          169598616,
          9106714,
          665200057,
          11119200,
          19577787259,
          74033806.79496829,
          33522957,
          264678458.28861898,
          7568281.24956067,
          148716816,
          2500124,
          100000000,
          17818682.1654,
          1082162635.5368302,
          26205539,
          5613550,
          108202084,
          18342813,
          196297971,
          824000000,
          92192822723,
          3853326.77707314,
          50000000,
          17089600,
          2449577.41533168,
          61364813,
          20000000,
          6069482.07721352,
          12416554,
          20244023.640728,
          75590369,
          11080722.3769581,
          10914418,
          814671,
          978145,
          8377873,
          33813143821.8337,
          3472983,
          3315789,
          10517772.7391666,
          30227750,
          894026,
          9357088,
          1876146.4435959999,
          23965372,
          2526078.47525448,
          5659096.95728771,
          11821728,
          536982074,
          308179,
          10969318.522954,
          2922613.96424908,
          110000000,
          3115258,
          14524851.4827,
          30385540,
          6921653.89980891,
          1000000000,
          99843408.3158479,
          18545757.5,
          36050365,
          2232901,
          13162749.085802699,
          12184195.9258495,
          110630387.85047099,
          64096052,
          111135836.889,
          21521322.0099142,
          10123200,
          401421401,
          121665451.643876,
          5368934,
          1148324,
          500000,
          100545745,
          17171382,
          20276099.146523997,
          295135466.361878,
          1317747500,
          11390225.974277198,
          21358764,
          40659020000,
          10343113,
          13673406.4325268,
          100000000,
          69036016.8340164,
          22801882871,
          19784224.6512734,
          133248297,
          18407259.0885883,
          1809467143,
          4171382,
          35138975,
          62942075,
          6804362,
          18133195,
          21268092,
          5167775,
          26042364.373555303,
          2622886,
          9044930943.24243,
          14161803,
          21917018.0492836,
          17801865.1605478,
          163055097500,
          2241009149.22257,
          107972766,
          122475638.389743,
          47331802.477423795,
          17995589.6469082,
          12569262.535930699,
          18663297.348979898,
          55454734800,
          485214,
          4000000,
          143006669741.68698,
          9704042,
          17453749.4042601,
          32646731.063036,
          33716526,
          19539588,
          4200000,
          8946653,
          25000000,
          25927070538,
          7262402.04264803,
          5211553258.01514,
          182638400,
          2702855668.85288,
          1140734.91680375,
          4165967.57499639,
          24000000,
          17202361.088994,
          48459472454,
          92050800,
          560563220,
          8305775.31777569,
          33986980,
          2149688,
          30711550.5294042,
          99990001.493466,
          12330806.30517,
          16362544.992,
          8999999990,
          175215859,
          6375259.04,
          12756367,
          5832306.875,
          38198594.8342105,
          288090567.493887,
          28399150208,
          183534024.88980702,
          481730566.566176,
          110976977.29338,
          19281821413.4924,
          4500000,
          520891780,
          13247178.880728599,
          16955764.902064003,
          80316207,
          441250233.377,
          4911500269.41,
          8419402.321,
          3964201248.87125,
          45174214.1078625,
          30089671530.5228,
          4229040.50393462,
          7847417.33355824,
          27299680,
          299797953,
          45483049.3398182,
          591022748,
          2504486.227718,
          4407252,
          8478104.33969947,
          20166000,
          11916588.09471,
          20445861.534425102,
          1618033,
          9399342.52839847,
          53139835213.77,
          4818338.98949984,
          234846265.78215697,
          133932467.77410801,
          10000000000,
          107325266.02778299,
          643795911.540095,
          230298925,
          1772091549.88818,
          638382332.208514,
          12446100.00278,
          14491014421,
          211297638.500483,
          11251342.1879021,
          204479039,
          2167827.1,
          419275.38,
          25570013.1348022,
          650848625,
          247612453,
          80049082.9057215,
          4070212.1493015997,
          25000000,
          13787854.6277781,
          845637.81347436,
          1182153.5,
          71355477,
          267297676.3125,
          27340501.6514783,
          9803691.3618195,
          21876586.8530324,
          9880502.37178894,
          1231147,
          31801461.1867843,
          139739596.506702,
          11075254.0929996,
          16016864,
          4403800,
          1404157529.46026,
          21069346.252259802,
          5097689.71077377,
          10904963.0923455,
          795447,
          38706809.466534995,
          6986399.70430446,
          84300,
          19153632,
          41294520017,
          10200000000,
          7630000.0154,
          135862416.039898,
          33238183.7225834,
          560085952.404637,
          21599339.6728,
          30284196.369129,
          77872059787.8998,
          2716264.95302831,
          57811001.000889,
          18194936,
          8125865.02097646,
          8645406.16776286,
          4993030.69736615,
          36923120.6205934,
          7082392.24744494,
          5919489.76813523,
          1042012.45227735,
          13332617.9413708,
          66053877.6256106,
          1416663.06600024,
          5403802.49590733,
          15580199.3087496,
          4890897,
          14746153.0962884,
          99553110528.8022,
          19269509.94,
          30771125.976086702,
          107763867.917675,
          9327131.59708692,
          2100000000,
          4672513.84432375,
          4504639,
          5015881.37315389,
          1059954080.4343901,
          1000000000,
          9753753.61515394,
          1000000000,
          4235111504,
          6787405.18013774,
          13634850,
          17992514.6469233,
          208515864.36734298,
          17209923728.3266,
          1867054873.2839699,
          35312185.7437239,
          1578281.31341127,
          15846721.248274697,
          13475920,
          406091.925,
          35284717.173946,
          14777549.394076401,
          35687520,
          18265011.248600602,
          25150787.5,
          1934701.67524713,
          30825710000.0296,
          12925790.4226959,
          715659.44237941,
          20546528.2059957,
          198938144.363399,
          896361168,
          15420234.5389336,
          52293836.62779579,
          1170292.5,
          84613099.9999955,
          23775960.3207514,
          1000000000,
          15318887081.0146,
          55565076.3863525,
          242574105.22384,
          3824685012,
          3537150,
          23356790.1494191,
          20576532,
          4392258.24647793,
          9631199.99309942,
          436353624.49031204,
          780210700,
          980732528.97974,
          17939725045.334,
          494240666.028571,
          22986929.0854247,
          60000000,
          29583989322.9213,
          404316475.545465,
          73298203.8873662,
          201364327.427503,
          103621876.167052,
          3821245.74150193,
          5052555.91981545,
          69684455.4387001,
          16901016.6609755,
          74676064.9488608,
          120012140,
          10000244677.7002,
          252005564.19257003,
          1120385.00502,
          -5917977547.96773,
          3332922.5,
          140777.753365,
          100000000,
          1020544523.0722,
          24487944.095820397,
          1122382283.37,
          1000000000,
          100000000,
          9283137.5558676,
          989988713439.649,
          1000000000,
          1999999995.3056,
          14931046.1546605,
          980222595,
          7296537.5,
          128326.99633965
         ],
         "xaxis": "x",
         "y": [
          42,
          532000000,
          314159265359,
          21000000,
          0,
          84000000,
          22000000,
          0,
          210000000,
          21000000,
          3600570502,
          21000000000,
          22000000,
          12500000,
          21000000,
          350000000,
          20000000,
          64000000,
          16768584,
          0,
          2000000000,
          384000000000,
          169795588,
          250000000,
          100000000,
          0,
          247000000,
          84000000,
          48166000,
          500000,
          21000000,
          1000000,
          13140000,
          18000000,
          40000000000,
          4380000,
          16555000000,
          21000000000,
          13500000000,
          21000000,
          299792458,
          32000000,
          0,
          0,
          11235813,
          336000000,
          1420609614,
          70000000,
          72245700,
          120000000,
          0,
          90600000000,
          22000000,
          21000000,
          265420800,
          20000000,
          1350000,
          100000000,
          42000000,
          200000000,
          0,
          10000000,
          2419200000,
          16180000,
          0,
          15000000000,
          21000000,
          337000000,
          0,
          3770000,
          420000000,
          98000000,
          0,
          21000000,
          250000000,
          51200000,
          0,
          1000,
          888000000,
          100000000,
          47011968,
          2300000000,
          10000000,
          42000000,
          80000000,
          250000,
          0,
          1600000000,
          100000000,
          23000000,
          0,
          84000000,
          265420800,
          5500000,
          0,
          45000000,
          0,
          1000000000,
          184467440735,
          10000000000,
          2158812800,
          500000000,
          105120000,
          68000000,
          0,
          1680000000,
          0,
          166386000,
          12000000,
          2628000,
          500000000,
          160000000,
          0,
          10000000,
          1000000000,
          1000000000,
          20000000,
          0,
          0,
          3371337,
          20000000,
          10000000000,
          1840000000,
          619478,
          21000000,
          92000000000,
          0,
          78000000,
          33000000,
          65789100,
          53760000,
          5060000,
          21000000,
          0,
          210240000,
          250000000,
          100000000,
          16906397,
          50000000,
          0,
          1000000000,
          26298000,
          16000000,
          21000000,
          21000000,
          210000000,
          81962100,
          22000000,
          26550000000,
          84000000,
          10500000,
          21626280000,
          0,
          42000000,
          221052632,
          84000000,
          30000000,
          168351300,
          24000000,
          384000000,
          99000000000,
          40000000,
          2147483647,
          20000000,
          20000000,
          25000000,
          75000000,
          222725000,
          525000000,
          90000000,
          139000000,
          616448,
          33500000,
          2000000000,
          44333333,
          100000000,
          200000000,
          25000000,
          657000000,
          200000000,
          50000000,
          90000000,
          10000000,
          21000000,
          9736000,
          3000000,
          21000000,
          1200000000,
          0,
          200000000,
          0,
          10638298,
          3100000000,
          30000000,
          20000000000,
          74000000,
          0,
          1500000000,
          21400000,
          39999898,
          2500124,
          100000000,
          301000000,
          7506000000,
          26205539,
          21000000,
          125000000,
          30000000,
          10000000000,
          500000000,
          850000000,
          3853326.77707314,
          50000000,
          38540000,
          42000000,
          228000000,
          20000000,
          60000000,
          20000000,
          33000000,
          76500000,
          28000000,
          650659833,
          5000000,
          21000000,
          144000000,
          32514916898,
          13000000,
          3315789,
          15000000,
          78835200,
          2714286,
          25000000,
          9999999,
          500000000,
          21000000,
          9354000,
          20000000,
          100000000000,
          21933333,
          185000000,
          55000000,
          110000000,
          3360000,
          14524851.4827,
          1000000000,
          17000000,
          1000000000,
          100000000,
          21000000,
          34426423,
          2232901,
          100000000,
          36900000,
          110000000,
          4000000000,
          110290030,
          100000000,
          48252000,
          400000000,
          500000000,
          21212121,
          28600000,
          1000000000,
          75000000000,
          40000000,
          35520400,
          2000000000,
          2500000000,
          30000000,
          105000000,
          90000000000,
          200084200,
          72000000,
          100000000,
          105000000,
          50000000000,
          0,
          340282367,
          30000000,
          2000000000,
          10000000,
          100000000,
          120000000,
          100000000,
          19276800,
          30000000,
          75000000,
          60000000,
          18900000,
          50000000000,
          54000000,
          18898187.6216583,
          21000000,
          200000000000,
          5000000000,
          137500000,
          1100000000,
          100000000,
          21000000,
          9507271,
          17405891.19707116,
          86712634466,
          10500000000,
          61599965,
          0,
          20000000,
          84000000,
          100000000,
          100000000,
          48252000,
          4200000,
          88888888,
          91388946,
          45000000000,
          27000000,
          21000000000,
          400000000,
          1800000000,
          15733333,
          27000000,
          24000000,
          21000000,
          25000000000,
          100000000,
          1200000000,
          60000000,
          156306732.71,
          21000000,
          200000000,
          100000000,
          21000000,
          14788275.990999999,
          9000000000,
          350000000,
          45000000,
          280000000,
          31800000,
          144000000,
          500000000,
          30000000000,
          210000000,
          660000000,
          210000000,
          85000000000,
          12500000,
          10000000000,
          27716121,
          20000000,
          550000000,
          999481516,
          50000000000,
          150000000,
          4999999999,
          50000000,
          90000000000,
          19800000,
          21000000,
          120000000,
          500000000,
          64000000,
          900000000,
          4000000,
          21000000,
          23000000,
          20166000,
          23000000,
          25000000,
          1618033,
          30000000,
          1000000000000,
          16600000,
          232000000,
          336000000,
          10000000000,
          100000000,
          1100000000,
          800000000,
          5200000000,
          840000000,
          40000000,
          18406979840,
          500000000,
          19340594,
          252460800,
          25000000,
          60000000,
          124000000,
          1000000000,
          6500000000,
          1000000000,
          21000000,
          25000000,
          50000000,
          3000000,
          5000000,
          70000000,
          500000000,
          300000000,
          21000000,
          88000000,
          30000000,
          100000000,
          100000000,
          200000000,
          80000000,
          18400000,
          45000000,
          5121951220,
          21000000,
          26280000,
          21000000,
          18000000,
          26000000,
          10500000,
          600000518,
          150000000,
          184000000000,
          10200000000,
          44000000,
          168000000,
          100000000,
          1000000000,
          84000000,
          90000000,
          92000000000,
          650000000,
          100262205,
          18081806,
          22075700,
          21000000,
          21000000,
          82546564,
          21000000,
          5151000,
          16880000000,
          52500000,
          100000000,
          22105263,
          1000000000,
          1750000000,
          88188888,
          210000000,
          184470000000,
          55000000,
          50000000,
          260000000,
          210000000,
          2100000000,
          366000000,
          100000000,
          25000000,
          18000000000,
          1000000000,
          100000000,
          1000000000,
          7600000000,
          50000000,
          84000000,
          21000000,
          70000000000,
          0,
          8080000000,
          54000000,
          105120001.44,
          25228800,
          105000000,
          21000000,
          120000000,
          21000000,
          262800000,
          19035999,
          30886000,
          13370000,
          74800000000,
          100000000,
          19700000,
          84000000,
          500000000,
          5000000000,
          420000000,
          64000000,
          2100000,
          168000000,
          30000000,
          1000000000,
          35000000000,
          98100000000,
          0,
          4000000000,
          200000000,
          7000000000,
          54256119,
          21000000,
          0,
          500000000,
          1000000000,
          10500000000,
          190000000,
          1000000000,
          42000000,
          15000000,
          50000000000,
          400000000,
          105000000,
          208000000,
          160000000,
          9000000,
          5000000,
          182000000,
          16504333,
          105000000,
          159918400,
          10008835635,
          300000000,
          60168145,
          5000000000,
          2800000,
          120000,
          2100000000,
          0,
          24487944,
          0,
          1000000000,
          100000000,
          8634140,
          990000000000,
          1000000000,
          2000000000,
          250000000,
          1400222610,
          21000000,
          1000000
         ],
         "yaxis": "y"
        }
       ],
       "layout": {
        "autosize": true,
        "legend": {
         "tracegroupgap": 0
        },
        "margin": {
         "t": 60
        },
        "template": {
         "data": {
          "bar": [
           {
            "error_x": {
             "color": "#2a3f5f"
            },
            "error_y": {
             "color": "#2a3f5f"
            },
            "marker": {
             "line": {
              "color": "#E5ECF6",
              "width": 0.5
             }
            },
            "type": "bar"
           }
          ],
          "barpolar": [
           {
            "marker": {
             "line": {
              "color": "#E5ECF6",
              "width": 0.5
             }
            },
            "type": "barpolar"
           }
          ],
          "carpet": [
           {
            "aaxis": {
             "endlinecolor": "#2a3f5f",
             "gridcolor": "white",
             "linecolor": "white",
             "minorgridcolor": "white",
             "startlinecolor": "#2a3f5f"
            },
            "baxis": {
             "endlinecolor": "#2a3f5f",
             "gridcolor": "white",
             "linecolor": "white",
             "minorgridcolor": "white",
             "startlinecolor": "#2a3f5f"
            },
            "type": "carpet"
           }
          ],
          "choropleth": [
           {
            "colorbar": {
             "outlinewidth": 0,
             "ticks": ""
            },
            "type": "choropleth"
           }
          ],
          "contour": [
           {
            "colorbar": {
             "outlinewidth": 0,
             "ticks": ""
            },
            "colorscale": [
             [
              0,
              "#0d0887"
             ],
             [
              0.1111111111111111,
              "#46039f"
             ],
             [
              0.2222222222222222,
              "#7201a8"
             ],
             [
              0.3333333333333333,
              "#9c179e"
             ],
             [
              0.4444444444444444,
              "#bd3786"
             ],
             [
              0.5555555555555556,
              "#d8576b"
             ],
             [
              0.6666666666666666,
              "#ed7953"
             ],
             [
              0.7777777777777778,
              "#fb9f3a"
             ],
             [
              0.8888888888888888,
              "#fdca26"
             ],
             [
              1,
              "#f0f921"
             ]
            ],
            "type": "contour"
           }
          ],
          "contourcarpet": [
           {
            "colorbar": {
             "outlinewidth": 0,
             "ticks": ""
            },
            "type": "contourcarpet"
           }
          ],
          "heatmap": [
           {
            "colorbar": {
             "outlinewidth": 0,
             "ticks": ""
            },
            "colorscale": [
             [
              0,
              "#0d0887"
             ],
             [
              0.1111111111111111,
              "#46039f"
             ],
             [
              0.2222222222222222,
              "#7201a8"
             ],
             [
              0.3333333333333333,
              "#9c179e"
             ],
             [
              0.4444444444444444,
              "#bd3786"
             ],
             [
              0.5555555555555556,
              "#d8576b"
             ],
             [
              0.6666666666666666,
              "#ed7953"
             ],
             [
              0.7777777777777778,
              "#fb9f3a"
             ],
             [
              0.8888888888888888,
              "#fdca26"
             ],
             [
              1,
              "#f0f921"
             ]
            ],
            "type": "heatmap"
           }
          ],
          "heatmapgl": [
           {
            "colorbar": {
             "outlinewidth": 0,
             "ticks": ""
            },
            "colorscale": [
             [
              0,
              "#0d0887"
             ],
             [
              0.1111111111111111,
              "#46039f"
             ],
             [
              0.2222222222222222,
              "#7201a8"
             ],
             [
              0.3333333333333333,
              "#9c179e"
             ],
             [
              0.4444444444444444,
              "#bd3786"
             ],
             [
              0.5555555555555556,
              "#d8576b"
             ],
             [
              0.6666666666666666,
              "#ed7953"
             ],
             [
              0.7777777777777778,
              "#fb9f3a"
             ],
             [
              0.8888888888888888,
              "#fdca26"
             ],
             [
              1,
              "#f0f921"
             ]
            ],
            "type": "heatmapgl"
           }
          ],
          "histogram": [
           {
            "marker": {
             "colorbar": {
              "outlinewidth": 0,
              "ticks": ""
             }
            },
            "type": "histogram"
           }
          ],
          "histogram2d": [
           {
            "colorbar": {
             "outlinewidth": 0,
             "ticks": ""
            },
            "colorscale": [
             [
              0,
              "#0d0887"
             ],
             [
              0.1111111111111111,
              "#46039f"
             ],
             [
              0.2222222222222222,
              "#7201a8"
             ],
             [
              0.3333333333333333,
              "#9c179e"
             ],
             [
              0.4444444444444444,
              "#bd3786"
             ],
             [
              0.5555555555555556,
              "#d8576b"
             ],
             [
              0.6666666666666666,
              "#ed7953"
             ],
             [
              0.7777777777777778,
              "#fb9f3a"
             ],
             [
              0.8888888888888888,
              "#fdca26"
             ],
             [
              1,
              "#f0f921"
             ]
            ],
            "type": "histogram2d"
           }
          ],
          "histogram2dcontour": [
           {
            "colorbar": {
             "outlinewidth": 0,
             "ticks": ""
            },
            "colorscale": [
             [
              0,
              "#0d0887"
             ],
             [
              0.1111111111111111,
              "#46039f"
             ],
             [
              0.2222222222222222,
              "#7201a8"
             ],
             [
              0.3333333333333333,
              "#9c179e"
             ],
             [
              0.4444444444444444,
              "#bd3786"
             ],
             [
              0.5555555555555556,
              "#d8576b"
             ],
             [
              0.6666666666666666,
              "#ed7953"
             ],
             [
              0.7777777777777778,
              "#fb9f3a"
             ],
             [
              0.8888888888888888,
              "#fdca26"
             ],
             [
              1,
              "#f0f921"
             ]
            ],
            "type": "histogram2dcontour"
           }
          ],
          "mesh3d": [
           {
            "colorbar": {
             "outlinewidth": 0,
             "ticks": ""
            },
            "type": "mesh3d"
           }
          ],
          "parcoords": [
           {
            "line": {
             "colorbar": {
              "outlinewidth": 0,
              "ticks": ""
             }
            },
            "type": "parcoords"
           }
          ],
          "pie": [
           {
            "automargin": true,
            "type": "pie"
           }
          ],
          "scatter": [
           {
            "marker": {
             "colorbar": {
              "outlinewidth": 0,
              "ticks": ""
             }
            },
            "type": "scatter"
           }
          ],
          "scatter3d": [
           {
            "line": {
             "colorbar": {
              "outlinewidth": 0,
              "ticks": ""
             }
            },
            "marker": {
             "colorbar": {
              "outlinewidth": 0,
              "ticks": ""
             }
            },
            "type": "scatter3d"
           }
          ],
          "scattercarpet": [
           {
            "marker": {
             "colorbar": {
              "outlinewidth": 0,
              "ticks": ""
             }
            },
            "type": "scattercarpet"
           }
          ],
          "scattergeo": [
           {
            "marker": {
             "colorbar": {
              "outlinewidth": 0,
              "ticks": ""
             }
            },
            "type": "scattergeo"
           }
          ],
          "scattergl": [
           {
            "marker": {
             "colorbar": {
              "outlinewidth": 0,
              "ticks": ""
             }
            },
            "type": "scattergl"
           }
          ],
          "scattermapbox": [
           {
            "marker": {
             "colorbar": {
              "outlinewidth": 0,
              "ticks": ""
             }
            },
            "type": "scattermapbox"
           }
          ],
          "scatterpolar": [
           {
            "marker": {
             "colorbar": {
              "outlinewidth": 0,
              "ticks": ""
             }
            },
            "type": "scatterpolar"
           }
          ],
          "scatterpolargl": [
           {
            "marker": {
             "colorbar": {
              "outlinewidth": 0,
              "ticks": ""
             }
            },
            "type": "scatterpolargl"
           }
          ],
          "scatterternary": [
           {
            "marker": {
             "colorbar": {
              "outlinewidth": 0,
              "ticks": ""
             }
            },
            "type": "scatterternary"
           }
          ],
          "surface": [
           {
            "colorbar": {
             "outlinewidth": 0,
             "ticks": ""
            },
            "colorscale": [
             [
              0,
              "#0d0887"
             ],
             [
              0.1111111111111111,
              "#46039f"
             ],
             [
              0.2222222222222222,
              "#7201a8"
             ],
             [
              0.3333333333333333,
              "#9c179e"
             ],
             [
              0.4444444444444444,
              "#bd3786"
             ],
             [
              0.5555555555555556,
              "#d8576b"
             ],
             [
              0.6666666666666666,
              "#ed7953"
             ],
             [
              0.7777777777777778,
              "#fb9f3a"
             ],
             [
              0.8888888888888888,
              "#fdca26"
             ],
             [
              1,
              "#f0f921"
             ]
            ],
            "type": "surface"
           }
          ],
          "table": [
           {
            "cells": {
             "fill": {
              "color": "#EBF0F8"
             },
             "line": {
              "color": "white"
             }
            },
            "header": {
             "fill": {
              "color": "#C8D4E3"
             },
             "line": {
              "color": "white"
             }
            },
            "type": "table"
           }
          ]
         },
         "layout": {
          "annotationdefaults": {
           "arrowcolor": "#2a3f5f",
           "arrowhead": 0,
           "arrowwidth": 1
          },
          "autotypenumbers": "strict",
          "coloraxis": {
           "colorbar": {
            "outlinewidth": 0,
            "ticks": ""
           }
          },
          "colorscale": {
           "diverging": [
            [
             0,
             "#8e0152"
            ],
            [
             0.1,
             "#c51b7d"
            ],
            [
             0.2,
             "#de77ae"
            ],
            [
             0.3,
             "#f1b6da"
            ],
            [
             0.4,
             "#fde0ef"
            ],
            [
             0.5,
             "#f7f7f7"
            ],
            [
             0.6,
             "#e6f5d0"
            ],
            [
             0.7,
             "#b8e186"
            ],
            [
             0.8,
             "#7fbc41"
            ],
            [
             0.9,
             "#4d9221"
            ],
            [
             1,
             "#276419"
            ]
           ],
           "sequential": [
            [
             0,
             "#0d0887"
            ],
            [
             0.1111111111111111,
             "#46039f"
            ],
            [
             0.2222222222222222,
             "#7201a8"
            ],
            [
             0.3333333333333333,
             "#9c179e"
            ],
            [
             0.4444444444444444,
             "#bd3786"
            ],
            [
             0.5555555555555556,
             "#d8576b"
            ],
            [
             0.6666666666666666,
             "#ed7953"
            ],
            [
             0.7777777777777778,
             "#fb9f3a"
            ],
            [
             0.8888888888888888,
             "#fdca26"
            ],
            [
             1,
             "#f0f921"
            ]
           ],
           "sequentialminus": [
            [
             0,
             "#0d0887"
            ],
            [
             0.1111111111111111,
             "#46039f"
            ],
            [
             0.2222222222222222,
             "#7201a8"
            ],
            [
             0.3333333333333333,
             "#9c179e"
            ],
            [
             0.4444444444444444,
             "#bd3786"
            ],
            [
             0.5555555555555556,
             "#d8576b"
            ],
            [
             0.6666666666666666,
             "#ed7953"
            ],
            [
             0.7777777777777778,
             "#fb9f3a"
            ],
            [
             0.8888888888888888,
             "#fdca26"
            ],
            [
             1,
             "#f0f921"
            ]
           ]
          },
          "colorway": [
           "#636efa",
           "#EF553B",
           "#00cc96",
           "#ab63fa",
           "#FFA15A",
           "#19d3f3",
           "#FF6692",
           "#B6E880",
           "#FF97FF",
           "#FECB52"
          ],
          "font": {
           "color": "#2a3f5f"
          },
          "geo": {
           "bgcolor": "white",
           "lakecolor": "white",
           "landcolor": "#E5ECF6",
           "showlakes": true,
           "showland": true,
           "subunitcolor": "white"
          },
          "hoverlabel": {
           "align": "left"
          },
          "hovermode": "closest",
          "mapbox": {
           "style": "light"
          },
          "paper_bgcolor": "white",
          "plot_bgcolor": "#E5ECF6",
          "polar": {
           "angularaxis": {
            "gridcolor": "white",
            "linecolor": "white",
            "ticks": ""
           },
           "bgcolor": "#E5ECF6",
           "radialaxis": {
            "gridcolor": "white",
            "linecolor": "white",
            "ticks": ""
           }
          },
          "scene": {
           "xaxis": {
            "backgroundcolor": "#E5ECF6",
            "gridcolor": "white",
            "gridwidth": 2,
            "linecolor": "white",
            "showbackground": true,
            "ticks": "",
            "zerolinecolor": "white"
           },
           "yaxis": {
            "backgroundcolor": "#E5ECF6",
            "gridcolor": "white",
            "gridwidth": 2,
            "linecolor": "white",
            "showbackground": true,
            "ticks": "",
            "zerolinecolor": "white"
           },
           "zaxis": {
            "backgroundcolor": "#E5ECF6",
            "gridcolor": "white",
            "gridwidth": 2,
            "linecolor": "white",
            "showbackground": true,
            "ticks": "",
            "zerolinecolor": "white"
           }
          },
          "shapedefaults": {
           "line": {
            "color": "#2a3f5f"
           }
          },
          "ternary": {
           "aaxis": {
            "gridcolor": "white",
            "linecolor": "white",
            "ticks": ""
           },
           "baxis": {
            "gridcolor": "white",
            "linecolor": "white",
            "ticks": ""
           },
           "bgcolor": "#E5ECF6",
           "caxis": {
            "gridcolor": "white",
            "linecolor": "white",
            "ticks": ""
           }
          },
          "title": {
           "x": 0.05
          },
          "xaxis": {
           "automargin": true,
           "gridcolor": "white",
           "linecolor": "white",
           "ticks": "",
           "title": {
            "standoff": 15
           },
           "zerolinecolor": "white",
           "zerolinewidth": 2
          },
          "yaxis": {
           "automargin": true,
           "gridcolor": "white",
           "linecolor": "white",
           "ticks": "",
           "title": {
            "standoff": 15
           },
           "zerolinecolor": "white",
           "zerolinewidth": 2
          }
         }
        },
        "xaxis": {
         "anchor": "y",
         "autorange": true,
         "domain": [
          0,
          1
         ],
         "range": [
          -65745813896.605736,
          1049816549788.2871
         ],
         "title": {
          "text": "TotalCoinsMined"
         },
         "type": "linear"
        },
        "yaxis": {
         "anchor": "x",
         "autorange": true,
         "domain": [
          0,
          1
         ],
         "range": [
          -70902394106.814,
          1070902394106.814
         ],
         "title": {
          "text": "TotalCoinSupply"
         },
         "type": "linear"
        }
       }
      },
      "image/png": "[encoded data removed]",
      "text/html": [
       "<div>                            <div id=\"e5286c07-1b1c-453d-9f5d-772e98929692\" class=\"plotly-graph-div\" style=\"height:525px; width:100%;\"></div>            <script type=\"text/javascript\">                require([\"plotly\"], function(Plotly) {                    window.PLOTLYENV=window.PLOTLYENV || {};                                    if (document.getElementById(\"e5286c07-1b1c-453d-9f5d-772e98929692\")) {                    Plotly.newPlot(                        \"e5286c07-1b1c-453d-9f5d-772e98929692\",                        [{\"hovertemplate\": \"TotalCoinsMined=%{x}<br>TotalCoinSupply=%{y}<extra></extra>\", \"legendgroup\": \"\", \"marker\": {\"color\": \"#636efa\", \"symbol\": \"circle\"}, \"mode\": \"markers\", \"name\": \"\", \"orientation\": \"v\", \"showlegend\": false, \"type\": \"scatter\", \"x\": [41.99995383, 1055184902.04, 29279424622.5027, 17927175.0, 107684222.6865, 63039243.30000489, 9031294.37563393, 17201143.1449131, 113359703.0, 7383056.25, 2741570000.0, 11406219141.0, 1288862.0, 11995334.8847328, 5768310.0, 25542535.5881841, 11149733.9976203, 12205795.444954902, 18135099.992959, 635423900.0, 1688254250.0, 88.0, 170204389.754849, 128940951.183046, 7357794.7925, 123062801.128773, 259557164.91477, 49548585.14129171, 33442988.3440364, 42579.476901, 7219956.64626131, 1039116.65144562, 4703879.51824446, 4996986.20575291, 39999997299.8568, 3304487.74735637, 15929530669.1206, 18773857500.0, 12539015186.821999, 20910478.806249898, 218871896.499999, 19496786.31025, 5679705.0, 461829905.32892996, 1142732.14912776, 208669093.00773, 884125802.0, 65672720.470874794, 41658647.9999715, 89266933.684704, 1678520090.7713, 90595753018.6314, 17650913.974345602, 21089348.999, 151447649.8, 19326319.14375, 1104344.22938102, 61445805.0, 38151999.993099704, 40431856.9, 21293925445.4969, 5804204.88794916, 1613836099.99999, 16180000.0, 66087096.20771079, 2366066305.76482, 14736400.0, 334709223.48313797, 15156364.3306548, 3220616.279225, 222677226.014206, 73959274.625, 29315567169.0888, 1104157.42169891, 24215181.725, 25593737.1355044, 50707661.74935179, 1177.0, 563336541.299966, 80260463.7331396, 43536800.0, 1622326490.46336, 1431851.00002479, 22935396.0, 2278150.0, 200911.79151896, 1207310.0, 1098952592.6, 50235211.141939, 23150892.167968698, 32021108.413669605, 51173723.81663471, 119606941.0, 6950831.0970606, 100000000.0, 39195739.362088, 33093725.4123502, 147990237.978331, 184066828814.0, 6906587610.38292, 1813033920.0, 51173144.0, 68194674.8711679, 39121694.0, 53193831.0, 415032420.0, 27184490.3918338, 137517654.41397, 2022464.886973, 181919.2435974, 174646113.934655, 152270664.860648, 1467841.0, 7096834.0, 792537250.0, 719416990.0, 2689812.0, 65113302.0, 6365285.0, 10140044.443029301, 11604722.0, 4610340640.89, 708506520.0, 619478.0, 12462620.0, 88213.0, 1513704.0, 63657220.0, 32221574.820996, 13742738.0, 14747200.0002, 8568038.35935056, 15863837.5, 329200.01639, 32565300.0, 75614500.0, 100000000.0, 10495278.0, 23042604.0, 33098296530.0, 43059794.804778, 13530556.4180753, 15867695.0, 20997476.865023103, 10365046.928166099, 210000000.0, 11448949.0, 3669691.84494672, 10996318099.0, 69836100.0, 5129014.0, 21739971929.0, 10069449031.9252, 8998743.2411911, 40477042.0, 45110324.0, 5702048.0, 636462.55983338, 17263355.0, 10407269.788186802, 36971236046.8073, 4377081.60953993, 2147483647.0, 20000000.0, 6570807.65677618, 13654082.4987998, 134554941.15118998, 1195525.0, 16662820.0, 83450403.0, 24387724.5010828, 616448.0, 38589808.6658096, 813092338.575672, 4526324.0, 100000000.0, 5000000.0, 1377917.0, 657000000.0, 115898131.0, 15563873.0, 43165500.0, 7822432.72439746, 595429.0, 6243840.0, 657636.34549789, 2581970.0, 1000000000.0, 1939889.0, 116845228.0, 169598616.0, 9106714.0, 665200057.0, 11119200.0, 19577787259.0, 74033806.79496829, 33522957.0, 264678458.28861898, 7568281.24956067, 148716816.0, 2500124.0, 100000000.0, 17818682.1654, 1082162635.5368302, 26205539.0, 5613550.0, 108202084.0, 18342813.0, 196297971.0, 824000000.0, 92192822723.0, 3853326.77707314, 50000000.0, 17089600.0, 2449577.41533168, 61364813.0, 20000000.0, 6069482.07721352, 12416554.0, 20244023.640728, 75590369.0, 11080722.3769581, 10914418.0, 814671.0, 978145.0, 8377873.0, 33813143821.8337, 3472983.0, 3315789.0, 10517772.7391666, 30227750.0, 894026.0, 9357088.0, 1876146.4435959999, 23965372.0, 2526078.47525448, 5659096.95728771, 11821728.0, 536982074.0, 308179.0, 10969318.522954, 2922613.96424908, 110000000.0, 3115258.0, 14524851.4827, 30385540.0, 6921653.89980891, 1000000000.0, 99843408.3158479, 18545757.5, 36050365.0, 2232901.0, 13162749.085802699, 12184195.9258495, 110630387.85047099, 64096052.0, 111135836.889, 21521322.0099142, 10123200.0, 401421401.0, 121665451.643876, 5368934.0, 1148324.0, 500000.0, 100545745.0, 17171382.0, 20276099.146523997, 295135466.361878, 1317747500.0, 11390225.974277198, 21358764.0, 40659020000.0, 10343113.0, 13673406.4325268, 100000000.0, 69036016.8340164, 22801882871.0, 19784224.6512734, 133248297.0, 18407259.0885883, 1809467143.0, 4171382.0, 35138975.0, 62942075.0, 6804362.0, 18133195.0, 21268092.0, 5167775.0, 26042364.373555303, 2622886.0, 9044930943.24243, 14161803.0, 21917018.0492836, 17801865.1605478, 163055097500.0, 2241009149.22257, 107972766.0, 122475638.389743, 47331802.477423795, 17995589.6469082, 12569262.535930699, 18663297.348979898, 55454734800.0, 485214.0, 4000000.0, 143006669741.68698, 9704042.0, 17453749.4042601, 32646731.063036, 33716526.0, 19539588.0, 4200000.0, 8946653.0, 25000000.0, 25927070538.0, 7262402.04264803, 5211553258.01514, 182638400.0, 2702855668.85288, 1140734.91680375, 4165967.57499639, 24000000.0, 17202361.088994, 48459472454.0, 92050800.0, 560563220.0, 8305775.31777569, 33986980.0, 2149688.0, 30711550.5294042, 99990001.493466, 12330806.30517, 16362544.992, 8999999990.0, 175215859.0, 6375259.04, 12756367.0, 5832306.875, 38198594.8342105, 288090567.493887, 28399150208.0, 183534024.88980702, 481730566.566176, 110976977.29338, 19281821413.4924, 4500000.0, 520891780.0, 13247178.880728599, 16955764.902064003, 80316207.0, 441250233.377, 4911500269.41, 8419402.321, 3964201248.87125, 45174214.1078625, 30089671530.5228, 4229040.50393462, 7847417.33355824, 27299680.0, 299797953.0, 45483049.3398182, 591022748.0, 2504486.227718, 4407252.0, 8478104.33969947, 20166000.0, 11916588.09471, 20445861.534425102, 1618033.0, 9399342.52839847, 53139835213.77, 4818338.98949984, 234846265.78215697, 133932467.77410801, 10000000000.0, 107325266.02778299, 643795911.540095, 230298925.0, 1772091549.88818, 638382332.208514, 12446100.00278, 14491014421.0, 211297638.500483, 11251342.1879021, 204479039.0, 2167827.1, 419275.38, 25570013.1348022, 650848625.0, 247612453.0, 80049082.9057215, 4070212.1493015997, 25000000.0, 13787854.6277781, 845637.81347436, 1182153.5, 71355477.0, 267297676.3125, 27340501.6514783, 9803691.3618195, 21876586.8530324, 9880502.37178894, 1231147.0, 31801461.1867843, 139739596.506702, 11075254.0929996, 16016864.0, 4403800.0, 1404157529.46026, 21069346.252259802, 5097689.71077377, 10904963.0923455, 795447.0, 38706809.466534995, 6986399.70430446, 84300.0, 19153632.0, 41294520017.0, 10200000000.0, 7630000.0154, 135862416.039898, 33238183.7225834, 560085952.404637, 21599339.6728, 30284196.369129, 77872059787.8998, 2716264.95302831, 57811001.000889, 18194936.0, 8125865.02097646, 8645406.16776286, 4993030.69736615, 36923120.6205934, 7082392.24744494, 5919489.76813523, 1042012.45227735, 13332617.9413708, 66053877.6256106, 1416663.06600024, 5403802.49590733, 15580199.3087496, 4890897.0, 14746153.0962884, 99553110528.8022, 19269509.94, 30771125.976086702, 107763867.917675, 9327131.59708692, 2100000000.0, 4672513.84432375, 4504639.0, 5015881.37315389, 1059954080.4343901, 1000000000.0, 9753753.61515394, 1000000000.0, 4235111504.0, 6787405.18013774, 13634850.0, 17992514.6469233, 208515864.36734298, 17209923728.3266, 1867054873.2839699, 35312185.7437239, 1578281.31341127, 15846721.248274697, 13475920.0, 406091.925, 35284717.173946, 14777549.394076401, 35687520.0, 18265011.248600602, 25150787.5, 1934701.67524713, 30825710000.0296, 12925790.4226959, 715659.44237941, 20546528.2059957, 198938144.363399, 896361168.0, 15420234.5389336, 52293836.62779579, 1170292.5, 84613099.9999955, 23775960.3207514, 1000000000.0, 15318887081.0146, 55565076.3863525, 242574105.22384, 3824685012.0, 3537150.0, 23356790.1494191, 20576532.0, 4392258.24647793, 9631199.99309942, 436353624.49031204, 780210700.0, 980732528.97974, 17939725045.334, 494240666.028571, 22986929.0854247, 60000000.0, 29583989322.9213, 404316475.545465, 73298203.8873662, 201364327.427503, 103621876.167052, 3821245.74150193, 5052555.91981545, 69684455.4387001, 16901016.6609755, 74676064.9488608, 120012140.0, 10000244677.7002, 252005564.19257003, 1120385.00502, -5917977547.96773, 3332922.5, 140777.753365, 100000000.0, 1020544523.0722, 24487944.095820397, 1122382283.37, 1000000000.0, 100000000.0, 9283137.5558676, 989988713439.649, 1000000000.0, 1999999995.3056, 14931046.1546605, 980222595.0, 7296537.5, 128326.99633965], \"xaxis\": \"x\", \"y\": [42.0, 532000000.0, 314159265359.0, 21000000.0, 0.0, 84000000.0, 22000000.0, 0.0, 210000000.0, 21000000.0, 3600570502.0, 21000000000.0, 22000000.0, 12500000.0, 21000000.0, 350000000.0, 20000000.0, 64000000.0, 16768584.0, 0.0, 2000000000.0, 384000000000.0, 169795588.0, 250000000.0, 100000000.0, 0.0, 247000000.0, 84000000.0, 48166000.0, 500000.0, 21000000.0, 1000000.0, 13140000.0, 18000000.0, 40000000000.0, 4380000.0, 16555000000.0, 21000000000.0, 13500000000.0, 21000000.0, 299792458.0, 32000000.0, 0.0, 0.0, 11235813.0, 336000000.0, 1420609614.0, 70000000.0, 72245700.0, 120000000.0, 0.0, 90600000000.0, 22000000.0, 21000000.0, 265420800.0, 20000000.0, 1350000.0, 100000000.0, 42000000.0, 200000000.0, 0.0, 10000000.0, 2419200000.0, 16180000.0, 0.0, 15000000000.0, 21000000.0, 337000000.0, 0.0, 3770000.0, 420000000.0, 98000000.0, 0.0, 21000000.0, 250000000.0, 51200000.0, 0.0, 1000.0, 888000000.0, 100000000.0, 47011968.0, 2300000000.0, 10000000.0, 42000000.0, 80000000.0, 250000.0, 0.0, 1600000000.0, 100000000.0, 23000000.0, 0.0, 84000000.0, 265420800.0, 5500000.0, 0.0, 45000000.0, 0.0, 1000000000.0, 184467440735.0, 10000000000.0, 2158812800.0, 500000000.0, 105120000.0, 68000000.0, 0.0, 1680000000.0, 0.0, 166386000.0, 12000000.0, 2628000.0, 500000000.0, 160000000.0, 0.0, 10000000.0, 1000000000.0, 1000000000.0, 20000000.0, 0.0, 0.0, 3371337.0, 20000000.0, 10000000000.0, 1840000000.0, 619478.0, 21000000.0, 92000000000.0, 0.0, 78000000.0, 33000000.0, 65789100.0, 53760000.0, 5060000.0, 21000000.0, 0.0, 210240000.0, 250000000.0, 100000000.0, 16906397.0, 50000000.0, 0.0, 1000000000.0, 26298000.0, 16000000.0, 21000000.0, 21000000.0, 210000000.0, 81962100.0, 22000000.0, 26550000000.0, 84000000.0, 10500000.0, 21626280000.0, 0.0, 42000000.0, 221052632.0, 84000000.0, 30000000.0, 168351300.0, 24000000.0, 384000000.0, 99000000000.0, 40000000.0, 2147483647.0, 20000000.0, 20000000.0, 25000000.0, 75000000.0, 222725000.0, 525000000.0, 90000000.0, 139000000.0, 616448.0, 33500000.0, 2000000000.0, 44333333.0, 100000000.0, 200000000.0, 25000000.0, 657000000.0, 200000000.0, 50000000.0, 90000000.0, 10000000.0, 21000000.0, 9736000.0, 3000000.0, 21000000.0, 1200000000.0, 0.0, 200000000.0, 0.0, 10638298.0, 3100000000.0, 30000000.0, 20000000000.0, 74000000.0, 0.0, 1500000000.0, 21400000.0, 39999898.0, 2500124.0, 100000000.0, 301000000.0, 7506000000.0, 26205539.0, 21000000.0, 125000000.0, 30000000.0, 10000000000.0, 500000000.0, 850000000.0, 3853326.77707314, 50000000.0, 38540000.0, 42000000.0, 228000000.0, 20000000.0, 60000000.0, 20000000.0, 33000000.0, 76500000.0, 28000000.0, 650659833.0, 5000000.0, 21000000.0, 144000000.0, 32514916898.0, 13000000.0, 3315789.0, 15000000.0, 78835200.0, 2714286.0, 25000000.0, 9999999.0, 500000000.0, 21000000.0, 9354000.0, 20000000.0, 100000000000.0, 21933333.0, 185000000.0, 55000000.0, 110000000.0, 3360000.0, 14524851.4827, 1000000000.0, 17000000.0, 1000000000.0, 100000000.0, 21000000.0, 34426423.0, 2232901.0, 100000000.0, 36900000.0, 110000000.0, 4000000000.0, 110290030.0, 100000000.0, 48252000.0, 400000000.0, 500000000.0, 21212121.0, 28600000.0, 1000000000.0, 75000000000.0, 40000000.0, 35520400.0, 2000000000.0, 2500000000.0, 30000000.0, 105000000.0, 90000000000.0, 200084200.0, 72000000.0, 100000000.0, 105000000.0, 50000000000.0, 0.0, 340282367.0, 30000000.0, 2000000000.0, 10000000.0, 100000000.0, 120000000.0, 100000000.0, 19276800.0, 30000000.0, 75000000.0, 60000000.0, 18900000.0, 50000000000.0, 54000000.0, 18898187.6216583, 21000000.0, 200000000000.0, 5000000000.0, 137500000.0, 1100000000.0, 100000000.0, 21000000.0, 9507271.0, 17405891.19707116, 86712634466.0, 10500000000.0, 61599965.0, 0.0, 20000000.0, 84000000.0, 100000000.0, 100000000.0, 48252000.0, 4200000.0, 88888888.0, 91388946.0, 45000000000.0, 27000000.0, 21000000000.0, 400000000.0, 1800000000.0, 15733333.0, 27000000.0, 24000000.0, 21000000.0, 25000000000.0, 100000000.0, 1200000000.0, 60000000.0, 156306732.71, 21000000.0, 200000000.0, 100000000.0, 21000000.0, 14788275.990999999, 9000000000.0, 350000000.0, 45000000.0, 280000000.0, 31800000.0, 144000000.0, 500000000.0, 30000000000.0, 210000000.0, 660000000.0, 210000000.0, 85000000000.0, 12500000.0, 10000000000.0, 27716121.0, 20000000.0, 550000000.0, 999481516.0, 50000000000.0, 150000000.0, 4999999999.0, 50000000.0, 90000000000.0, 19800000.0, 21000000.0, 120000000.0, 500000000.0, 64000000.0, 900000000.0, 4000000.0, 21000000.0, 23000000.0, 20166000.0, 23000000.0, 25000000.0, 1618033.0, 30000000.0, 1000000000000.0, 16600000.0, 232000000.0, 336000000.0, 10000000000.0, 100000000.0, 1100000000.0, 800000000.0, 5200000000.0, 840000000.0, 40000000.0, 18406979840.0, 500000000.0, 19340594.0, 252460800.0, 25000000.0, 60000000.0, 124000000.0, 1000000000.0, 6500000000.0, 1000000000.0, 21000000.0, 25000000.0, 50000000.0, 3000000.0, 5000000.0, 70000000.0, 500000000.0, 300000000.0, 21000000.0, 88000000.0, 30000000.0, 100000000.0, 100000000.0, 200000000.0, 80000000.0, 18400000.0, 45000000.0, 5121951220.0, 21000000.0, 26280000.0, 21000000.0, 18000000.0, 26000000.0, 10500000.0, 600000518.0, 150000000.0, 184000000000.0, 10200000000.0, 44000000.0, 168000000.0, 100000000.0, 1000000000.0, 84000000.0, 90000000.0, 92000000000.0, 650000000.0, 100262205.0, 18081806.0, 22075700.0, 21000000.0, 21000000.0, 82546564.0, 21000000.0, 5151000.0, 16880000000.0, 52500000.0, 100000000.0, 22105263.0, 1000000000.0, 1750000000.0, 88188888.0, 210000000.0, 184470000000.0, 55000000.0, 50000000.0, 260000000.0, 210000000.0, 2100000000.0, 366000000.0, 100000000.0, 25000000.0, 18000000000.0, 1000000000.0, 100000000.0, 1000000000.0, 7600000000.0, 50000000.0, 84000000.0, 21000000.0, 70000000000.0, 0.0, 8080000000.0, 54000000.0, 105120001.44, 25228800.0, 105000000.0, 21000000.0, 120000000.0, 21000000.0, 262800000.0, 19035999.0, 30886000.0, 13370000.0, 74800000000.0, 100000000.0, 19700000.0, 84000000.0, 500000000.0, 5000000000.0, 420000000.0, 64000000.0, 2100000.0, 168000000.0, 30000000.0, 1000000000.0, 35000000000.0, 98100000000.0, 0.0, 4000000000.0, 200000000.0, 7000000000.0, 54256119.0, 21000000.0, 0.0, 500000000.0, 1000000000.0, 10500000000.0, 190000000.0, 1000000000.0, 42000000.0, 15000000.0, 50000000000.0, 400000000.0, 105000000.0, 208000000.0, 160000000.0, 9000000.0, 5000000.0, 182000000.0, 16504333.0, 105000000.0, 159918400.0, 10008835635.0, 300000000.0, 60168145.0, 5000000000.0, 2800000.0, 120000.0, 2100000000.0, 0.0, 24487944.0, 0.0, 1000000000.0, 100000000.0, 8634140.0, 990000000000.0, 1000000000.0, 2000000000.0, 250000000.0, 1400222610.0, 21000000.0, 1000000.0], \"yaxis\": \"y\"}],                        {\"legend\": {\"tracegroupgap\": 0}, \"margin\": {\"t\": 60}, \"template\": {\"data\": {\"bar\": [{\"error_x\": {\"color\": \"#2a3f5f\"}, \"error_y\": {\"color\": \"#2a3f5f\"}, \"marker\": {\"line\": {\"color\": \"#E5ECF6\", \"width\": 0.5}}, \"type\": \"bar\"}], \"barpolar\": [{\"marker\": {\"line\": {\"color\": \"#E5ECF6\", \"width\": 0.5}}, \"type\": \"barpolar\"}], \"carpet\": [{\"aaxis\": {\"endlinecolor\": \"#2a3f5f\", \"gridcolor\": \"white\", \"linecolor\": \"white\", \"minorgridcolor\": \"white\", \"startlinecolor\": \"#2a3f5f\"}, \"baxis\": {\"endlinecolor\": \"#2a3f5f\", \"gridcolor\": \"white\", \"linecolor\": \"white\", \"minorgridcolor\": \"white\", \"startlinecolor\": \"#2a3f5f\"}, \"type\": \"carpet\"}], \"choropleth\": [{\"colorbar\": {\"outlinewidth\": 0, \"ticks\": \"\"}, \"type\": \"choropleth\"}], \"contour\": [{\"colorbar\": {\"outlinewidth\": 0, \"ticks\": \"\"}, \"colorscale\": [[0.0, \"#0d0887\"], [0.1111111111111111, \"#46039f\"], [0.2222222222222222, \"#7201a8\"], [0.3333333333333333, \"#9c179e\"], [0.4444444444444444, \"#bd3786\"], [0.5555555555555556, \"#d8576b\"], [0.6666666666666666, \"#ed7953\"], [0.7777777777777778, \"#fb9f3a\"], [0.8888888888888888, \"#fdca26\"], [1.0, \"#f0f921\"]], \"type\": \"contour\"}], \"contourcarpet\": [{\"colorbar\": {\"outlinewidth\": 0, \"ticks\": \"\"}, \"type\": \"contourcarpet\"}], \"heatmap\": [{\"colorbar\": {\"outlinewidth\": 0, \"ticks\": \"\"}, \"colorscale\": [[0.0, \"#0d0887\"], [0.1111111111111111, \"#46039f\"], [0.2222222222222222, \"#7201a8\"], [0.3333333333333333, \"#9c179e\"], [0.4444444444444444, \"#bd3786\"], [0.5555555555555556, \"#d8576b\"], [0.6666666666666666, \"#ed7953\"], [0.7777777777777778, \"#fb9f3a\"], [0.8888888888888888, \"#fdca26\"], [1.0, \"#f0f921\"]], \"type\": \"heatmap\"}], \"heatmapgl\": [{\"colorbar\": {\"outlinewidth\": 0, \"ticks\": \"\"}, \"colorscale\": [[0.0, \"#0d0887\"], [0.1111111111111111, \"#46039f\"], [0.2222222222222222, \"#7201a8\"], [0.3333333333333333, \"#9c179e\"], [0.4444444444444444, \"#bd3786\"], [0.5555555555555556, \"#d8576b\"], [0.6666666666666666, \"#ed7953\"], [0.7777777777777778, \"#fb9f3a\"], [0.8888888888888888, \"#fdca26\"], [1.0, \"#f0f921\"]], \"type\": \"heatmapgl\"}], \"histogram\": [{\"marker\": {\"colorbar\": {\"outlinewidth\": 0, \"ticks\": \"\"}}, \"type\": \"histogram\"}], \"histogram2d\": [{\"colorbar\": {\"outlinewidth\": 0, \"ticks\": \"\"}, \"colorscale\": [[0.0, \"#0d0887\"], [0.1111111111111111, \"#46039f\"], [0.2222222222222222, \"#7201a8\"], [0.3333333333333333, \"#9c179e\"], [0.4444444444444444, \"#bd3786\"], [0.5555555555555556, \"#d8576b\"], [0.6666666666666666, \"#ed7953\"], [0.7777777777777778, \"#fb9f3a\"], [0.8888888888888888, \"#fdca26\"], [1.0, \"#f0f921\"]], \"type\": \"histogram2d\"}], \"histogram2dcontour\": [{\"colorbar\": {\"outlinewidth\": 0, \"ticks\": \"\"}, \"colorscale\": [[0.0, \"#0d0887\"], [0.1111111111111111, \"#46039f\"], [0.2222222222222222, \"#7201a8\"], [0.3333333333333333, \"#9c179e\"], [0.4444444444444444, \"#bd3786\"], [0.5555555555555556, \"#d8576b\"], [0.6666666666666666, \"#ed7953\"], [0.7777777777777778, \"#fb9f3a\"], [0.8888888888888888, \"#fdca26\"], [1.0, \"#f0f921\"]], \"type\": \"histogram2dcontour\"}], \"mesh3d\": [{\"colorbar\": {\"outlinewidth\": 0, \"ticks\": \"\"}, \"type\": \"mesh3d\"}], \"parcoords\": [{\"line\": {\"colorbar\": {\"outlinewidth\": 0, \"ticks\": \"\"}}, \"type\": \"parcoords\"}], \"pie\": [{\"automargin\": true, \"type\": \"pie\"}], \"scatter\": [{\"marker\": {\"colorbar\": {\"outlinewidth\": 0, \"ticks\": \"\"}}, \"type\": \"scatter\"}], \"scatter3d\": [{\"line\": {\"colorbar\": {\"outlinewidth\": 0, \"ticks\": \"\"}}, \"marker\": {\"colorbar\": {\"outlinewidth\": 0, \"ticks\": \"\"}}, \"type\": \"scatter3d\"}], \"scattercarpet\": [{\"marker\": {\"colorbar\": {\"outlinewidth\": 0, \"ticks\": \"\"}}, \"type\": \"scattercarpet\"}], \"scattergeo\": [{\"marker\": {\"colorbar\": {\"outlinewidth\": 0, \"ticks\": \"\"}}, \"type\": \"scattergeo\"}], \"scattergl\": [{\"marker\": {\"colorbar\": {\"outlinewidth\": 0, \"ticks\": \"\"}}, \"type\": \"scattergl\"}], \"scattermapbox\": [{\"marker\": {\"colorbar\": {\"outlinewidth\": 0, \"ticks\": \"\"}}, \"type\": \"scattermapbox\"}], \"scatterpolar\": [{\"marker\": {\"colorbar\": {\"outlinewidth\": 0, \"ticks\": \"\"}}, \"type\": \"scatterpolar\"}], \"scatterpolargl\": [{\"marker\": {\"colorbar\": {\"outlinewidth\": 0, \"ticks\": \"\"}}, \"type\": \"scatterpolargl\"}], \"scatterternary\": [{\"marker\": {\"colorbar\": {\"outlinewidth\": 0, \"ticks\": \"\"}}, \"type\": \"scatterternary\"}], \"surface\": [{\"colorbar\": {\"outlinewidth\": 0, \"ticks\": \"\"}, \"colorscale\": [[0.0, \"#0d0887\"], [0.1111111111111111, \"#46039f\"], [0.2222222222222222, \"#7201a8\"], [0.3333333333333333, \"#9c179e\"], [0.4444444444444444, \"#bd3786\"], [0.5555555555555556, \"#d8576b\"], [0.6666666666666666, \"#ed7953\"], [0.7777777777777778, \"#fb9f3a\"], [0.8888888888888888, \"#fdca26\"], [1.0, \"#f0f921\"]], \"type\": \"surface\"}], \"table\": [{\"cells\": {\"fill\": {\"color\": \"#EBF0F8\"}, \"line\": {\"color\": \"white\"}}, \"header\": {\"fill\": {\"color\": \"#C8D4E3\"}, \"line\": {\"color\": \"white\"}}, \"type\": \"table\"}]}, \"layout\": {\"annotationdefaults\": {\"arrowcolor\": \"#2a3f5f\", \"arrowhead\": 0, \"arrowwidth\": 1}, \"autotypenumbers\": \"strict\", \"coloraxis\": {\"colorbar\": {\"outlinewidth\": 0, \"ticks\": \"\"}}, \"colorscale\": {\"diverging\": [[0, \"#8e0152\"], [0.1, \"#c51b7d\"], [0.2, \"#de77ae\"], [0.3, \"#f1b6da\"], [0.4, \"#fde0ef\"], [0.5, \"#f7f7f7\"], [0.6, \"#e6f5d0\"], [0.7, \"#b8e186\"], [0.8, \"#7fbc41\"], [0.9, \"#4d9221\"], [1, \"#276419\"]], \"sequential\": [[0.0, \"#0d0887\"], [0.1111111111111111, \"#46039f\"], [0.2222222222222222, \"#7201a8\"], [0.3333333333333333, \"#9c179e\"], [0.4444444444444444, \"#bd3786\"], [0.5555555555555556, \"#d8576b\"], [0.6666666666666666, \"#ed7953\"], [0.7777777777777778, \"#fb9f3a\"], [0.8888888888888888, \"#fdca26\"], [1.0, \"#f0f921\"]], \"sequentialminus\": [[0.0, \"#0d0887\"], [0.1111111111111111, \"#46039f\"], [0.2222222222222222, \"#7201a8\"], [0.3333333333333333, \"#9c179e\"], [0.4444444444444444, \"#bd3786\"], [0.5555555555555556, \"#d8576b\"], [0.6666666666666666, \"#ed7953\"], [0.7777777777777778, \"#fb9f3a\"], [0.8888888888888888, \"#fdca26\"], [1.0, \"#f0f921\"]]}, \"colorway\": [\"#636efa\", \"#EF553B\", \"#00cc96\", \"#ab63fa\", \"#FFA15A\", \"#19d3f3\", \"#FF6692\", \"#B6E880\", \"#FF97FF\", \"#FECB52\"], \"font\": {\"color\": \"#2a3f5f\"}, \"geo\": {\"bgcolor\": \"white\", \"lakecolor\": \"white\", \"landcolor\": \"#E5ECF6\", \"showlakes\": true, \"showland\": true, \"subunitcolor\": \"white\"}, \"hoverlabel\": {\"align\": \"left\"}, \"hovermode\": \"closest\", \"mapbox\": {\"style\": \"light\"}, \"paper_bgcolor\": \"white\", \"plot_bgcolor\": \"#E5ECF6\", \"polar\": {\"angularaxis\": {\"gridcolor\": \"white\", \"linecolor\": \"white\", \"ticks\": \"\"}, \"bgcolor\": \"#E5ECF6\", \"radialaxis\": {\"gridcolor\": \"white\", \"linecolor\": \"white\", \"ticks\": \"\"}}, \"scene\": {\"xaxis\": {\"backgroundcolor\": \"#E5ECF6\", \"gridcolor\": \"white\", \"gridwidth\": 2, \"linecolor\": \"white\", \"showbackground\": true, \"ticks\": \"\", \"zerolinecolor\": \"white\"}, \"yaxis\": {\"backgroundcolor\": \"#E5ECF6\", \"gridcolor\": \"white\", \"gridwidth\": 2, \"linecolor\": \"white\", \"showbackground\": true, \"ticks\": \"\", \"zerolinecolor\": \"white\"}, \"zaxis\": {\"backgroundcolor\": \"#E5ECF6\", \"gridcolor\": \"white\", \"gridwidth\": 2, \"linecolor\": \"white\", \"showbackground\": true, \"ticks\": \"\", \"zerolinecolor\": \"white\"}}, \"shapedefaults\": {\"line\": {\"color\": \"#2a3f5f\"}}, \"ternary\": {\"aaxis\": {\"gridcolor\": \"white\", \"linecolor\": \"white\", \"ticks\": \"\"}, \"baxis\": {\"gridcolor\": \"white\", \"linecolor\": \"white\", \"ticks\": \"\"}, \"bgcolor\": \"#E5ECF6\", \"caxis\": {\"gridcolor\": \"white\", \"linecolor\": \"white\", \"ticks\": \"\"}}, \"title\": {\"x\": 0.05}, \"xaxis\": {\"automargin\": true, \"gridcolor\": \"white\", \"linecolor\": \"white\", \"ticks\": \"\", \"title\": {\"standoff\": 15}, \"zerolinecolor\": \"white\", \"zerolinewidth\": 2}, \"yaxis\": {\"automargin\": true, \"gridcolor\": \"white\", \"linecolor\": \"white\", \"ticks\": \"\", \"title\": {\"standoff\": 15}, \"zerolinecolor\": \"white\", \"zerolinewidth\": 2}}}, \"xaxis\": {\"anchor\": \"y\", \"domain\": [0.0, 1.0], \"title\": {\"text\": \"TotalCoinsMined\"}}, \"yaxis\": {\"anchor\": \"x\", \"domain\": [0.0, 1.0], \"title\": {\"text\": \"TotalCoinSupply\"}}},                        {\"responsive\": true}                    ).then(function(){\n",
       "                            \n",
       "var gd = document.getElementById('e5286c07-1b1c-453d-9f5d-772e98929692');\n",
       "var x = new MutationObserver(function (mutations, observer) {{\n",
       "        var display = window.getComputedStyle(gd).display;\n",
       "        if (!display || display === 'none') {{\n",
       "            console.log([gd, 'removed!']);\n",
       "            Plotly.purge(gd);\n",
       "            observer.disconnect();\n",
       "        }}\n",
       "}});\n",
       "\n",
       "// Listen for the removal of the full notebook cells\n",
       "var notebookContainer = gd.closest('#notebook-container');\n",
       "if (notebookContainer) {{\n",
       "    x.observe(notebookContainer, {childList: true});\n",
       "}}\n",
       "\n",
       "// Listen for the clearing of the current output cell\n",
       "var outputEl = gd.closest('.output');\n",
       "if (outputEl) {{\n",
       "    x.observe(outputEl, {childList: true});\n",
       "}}\n",
       "\n",
       "                        })                };                });            </script>        </div>"
      ]
     },
     "metadata": {},
     "output_type": "display_data"
    }
   ],
   "source": [
    "# Plot the scatter with x=\"TotalCoinsMined\" and y=\"TotalCoinSupply\"\n",
    "crypto_scatter_plot = px.scatter(crypto_scatter_df, x='TotalCoinsMined', y='TotalCoinSupply')\n",
    "crypto_scatter_plot.show()"
   ]
  },
  {
   "cell_type": "code",
   "execution_count": null,
   "metadata": {},
   "outputs": [],
   "source": []
  }
 ],
 "metadata": {
  "file_extension": ".py",
  "kernelspec": {
   "display_name": "Python 3",
   "language": "python",
   "name": "python3"
  },
  "language_info": {
   "codemirror_mode": {
    "name": "ipython",
    "version": 3
   },
   "file_extension": ".py",
   "mimetype": "text/x-python",
   "name": "python",
   "nbconvert_exporter": "python",
   "pygments_lexer": "ipython3",
   "version": "3.7.9"
  },
  "mimetype": "text/x-python",
  "name": "python",
  "npconvert_exporter": "python",
  "pygments_lexer": "ipython3",
  "version": 3
 },
 "nbformat": 4,
 "nbformat_minor": 4
}
